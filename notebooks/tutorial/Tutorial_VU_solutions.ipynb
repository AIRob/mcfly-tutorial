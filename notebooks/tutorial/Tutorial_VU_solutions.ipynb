{
 "cells": [
  {
   "cell_type": "markdown",
   "metadata": {},
   "source": [
    "# imports"
   ]
  },
  {
   "cell_type": "code",
   "execution_count": 5,
   "metadata": {},
   "outputs": [],
   "source": [
    "import sys\n",
    "import os\n",
    "import numpy as np\n",
    "import pandas as pd\n",
    "# mcfly\n",
    "from mcfly import modelgen, find_architecture, storage\n",
    "from keras.models import load_model\n",
    "np.random.seed(2)"
   ]
  },
  {
   "cell_type": "code",
   "execution_count": 6,
   "metadata": {
    "collapsed": true
   },
   "outputs": [],
   "source": [
    "sys.path.insert(0, os.path.abspath('../..'))\n",
    "from utils import tutorial_vu"
   ]
  },
  {
   "cell_type": "markdown",
   "metadata": {},
   "source": [
    "# Load data"
   ]
  },
  {
   "cell_type": "code",
   "execution_count": 8,
   "metadata": {},
   "outputs": [
    {
     "name": "stderr",
     "output_type": "stream",
     "text": [
      "Loading training data.\n",
      "Processing file Acc_Vel_gait_30sec_170.mat\n",
      "Processing file Acc_Vel_gait_30sec_106.mat\n",
      "Processing file Acc_Vel_gait_30sec_17.mat\n",
      "Processing file Acc_Vel_gait_30sec_54.mat\n",
      "Processing file Acc_Vel_gait_30sec_141.mat\n",
      "Processing file Acc_Vel_gait_30sec_68.mat\n",
      "Processing file Acc_Vel_gait_30sec_40.mat\n",
      "Processing file Acc_Vel_gait_30sec_121.mat\n",
      "Processing file Acc_Vel_gait_30sec_122.mat\n",
      "Processing file Acc_Vel_gait_30sec_160.mat\n",
      "Processing file Acc_Vel_gait_30sec_93.mat\n",
      "Processing file Acc_Vel_gait_30sec_143.mat\n",
      "Processing file Acc_Vel_gait_30sec_44.mat\n",
      "Processing file Acc_Vel_gait_30sec_66.mat\n",
      "Processing file Acc_Vel_gait_30sec_139.mat\n",
      "Processing file Acc_Vel_gait_30sec_188.mat\n",
      "Processing file Acc_Vel_gait_30sec_7.mat\n",
      "Processing file Acc_Vel_gait_30sec_62.mat\n",
      "Processing file Acc_Vel_gait_30sec_148.mat\n",
      "Processing file Acc_Vel_gait_30sec_95.mat\n",
      "Processing file Acc_Vel_gait_30sec_43.mat\n",
      "Processing file Acc_Vel_gait_30sec_179.mat\n",
      "Processing file Acc_Vel_gait_30sec_124.mat\n",
      "Processing file Acc_Vel_gait_30sec_76.mat\n",
      "Processing file Acc_Vel_gait_30sec_20.mat\n",
      "Processing file Acc_Vel_gait_30sec_10.mat\n",
      "Processing file Acc_Vel_gait_30sec_26.mat\n",
      "Processing file Acc_Vel_gait_30sec_181.mat\n",
      "Processing file Acc_Vel_gait_30sec_165.mat\n",
      "Processing file Acc_Vel_gait_30sec_115.mat\n",
      "Processing file Acc_Vel_gait_30sec_167.mat\n",
      "Processing file Acc_Vel_gait_30sec_75.mat\n",
      "Processing file Acc_Vel_gait_30sec_161.mat\n",
      "Processing file Acc_Vel_gait_30sec_136.mat\n",
      "Processing file Acc_Vel_gait_30sec_157.mat\n",
      "Processing file Acc_Vel_gait_30sec_55.mat\n",
      "Processing file Acc_Vel_gait_30sec_60.mat\n",
      "Processing file Acc_Vel_gait_30sec_101.mat\n",
      "Processing file Acc_Vel_gait_30sec_21.mat\n",
      "Processing file Acc_Vel_gait_30sec_176.mat\n",
      "Processing file Acc_Vel_gait_30sec_34.mat\n",
      "Processing file Acc_Vel_gait_30sec_83.mat\n",
      "Processing file Acc_Vel_gait_30sec_14.mat\n",
      "Processing file Acc_Vel_gait_30sec_23.mat\n",
      "Processing file Acc_Vel_gait_30sec_88.mat\n",
      "Processing file Acc_Vel_gait_30sec_105.mat\n",
      "Processing file Acc_Vel_gait_30sec_57.mat\n",
      "Processing file Acc_Vel_gait_30sec_90.mat\n",
      "Processing file Acc_Vel_gait_30sec_84.mat\n",
      "Processing file Acc_Vel_gait_30sec_186.mat\n",
      "Processing file Acc_Vel_gait_30sec_162.mat\n",
      "Processing file Acc_Vel_gait_30sec_97.mat\n",
      "Processing file Acc_Vel_gait_30sec_92.mat\n",
      "Processing file Acc_Vel_gait_30sec_135.mat\n",
      "Processing file Acc_Vel_gait_30sec_47.mat\n",
      "Processing file Acc_Vel_gait_30sec_79.mat\n",
      "Processing file Acc_Vel_gait_30sec_16.mat\n",
      "Processing file Acc_Vel_gait_30sec_110.mat\n",
      "Processing file Acc_Vel_gait_30sec_6.mat\n",
      "Processing file Acc_Vel_gait_30sec_159.mat\n",
      "Processing file Acc_Vel_gait_30sec_30.mat\n",
      "Processing file Acc_Vel_gait_30sec_149.mat\n",
      "Loading validation data.\n",
      "Processing file Acc_Vel_gait_30sec_142.mat\n",
      "Processing file Acc_Vel_gait_30sec_177.mat\n",
      "Processing file Acc_Vel_gait_30sec_100.mat\n",
      "Processing file Acc_Vel_gait_30sec_107.mat\n",
      "Processing file Acc_Vel_gait_30sec_9.mat\n",
      "Processing file Acc_Vel_gait_30sec_41.mat\n",
      "Loading test data.\n",
      "Processing file Acc_Vel_gait_30sec_129.mat\n",
      "Processing file Acc_Vel_gait_30sec_151.mat\n",
      "Processing file Acc_Vel_gait_30sec_104.mat\n",
      "Processing file Acc_Vel_gait_30sec_175.mat\n",
      "Processing file Acc_Vel_gait_30sec_103.mat\n",
      "Processing file Acc_Vel_gait_30sec_12.mat\n",
      "Processing file Acc_Vel_gait_30sec_102.mat\n",
      "Processing file Acc_Vel_gait_30sec_180.mat\n",
      "Processing file Acc_Vel_gait_30sec_28.mat\n",
      "Processing file Acc_Vel_gait_30sec_36.mat\n",
      "Loaded train samples with shape (14581, 3000, 6) and train labels with shape (14581,).\n",
      "Loaded validation samples with shape (1203, 3000, 6) and test labels with shape (1203,).\n",
      "Loaded test samples with shape (2652, 3000, 6) and test labels with shape (2652,).\n",
      "Of 18436 instances loaded, 79.1% is used for training, 6.5% for validation, 14.4% for testing.\n"
     ]
    }
   ],
   "source": [
    "X_train, y_train, X_val, y_val, X_test, y_test = tutorial_vu.load_multi_time_fall_dataset(base_path='/data/Data espen/')\n",
    "\n",
    "X_train = X_train[:, 1000:1500, :]\n",
    "X_val = X_val[:, 1000:1500, :]\n",
    "X_test = X_test[:, 1000:1500, :]"
   ]
  },
  {
   "cell_type": "code",
   "execution_count": 9,
   "metadata": {},
   "outputs": [],
   "source": [
    "from keras.utils.np_utils import to_categorical\n",
    "y_train_binary = to_categorical(np.array(y_train>0, dtype='int'))\n",
    "y_val_binary = to_categorical(np.array(y_val>0, dtype='int'))\n",
    "y_test_binary = to_categorical(np.array(y_test>0, dtype='int'))"
   ]
  },
  {
   "cell_type": "markdown",
   "metadata": {},
   "source": [
    "# Inspect data"
   ]
  },
  {
   "cell_type": "code",
   "execution_count": 10,
   "metadata": {},
   "outputs": [
    {
     "name": "stdout",
     "output_type": "stream",
     "text": [
      "train set size: 14581\n",
      "validation set size: 1203\n",
      "test set size: 2652\n"
     ]
    }
   ],
   "source": [
    "print('train set size:', X_train.shape[0])\n",
    "print('validation set size:', X_val.shape[0])\n",
    "print('test set size:', X_test.shape[0])"
   ]
  },
  {
   "cell_type": "code",
   "execution_count": 11,
   "metadata": {},
   "outputs": [
    {
     "name": "stdout",
     "output_type": "stream",
     "text": [
      "x shape: (14581, 500, 6)\n",
      "y shape: (14581, 2)\n"
     ]
    }
   ],
   "source": [
    "print('x shape:', X_train.shape)\n",
    "print('y shape:', y_train_binary.shape)"
   ]
  },
  {
   "cell_type": "code",
   "execution_count": 12,
   "metadata": {},
   "outputs": [
    {
     "data": {
      "text/plain": [
       "array([ 0.50124688,  0.49875312])"
      ]
     },
     "execution_count": 12,
     "metadata": {},
     "output_type": "execute_result"
    }
   ],
   "source": [
    "# Look at proportion fallers/ non fallers\n",
    "y_val_binary.mean(axis=0)"
   ]
  },
  {
   "cell_type": "markdown",
   "metadata": {},
   "source": [
    "# Generate models"
   ]
  },
  {
   "cell_type": "code",
   "execution_count": 13,
   "metadata": {
    "collapsed": true
   },
   "outputs": [],
   "source": [
    "num_classes = y_train_binary.shape[1]\n",
    "\n",
    "models = modelgen.generate_models(X_train.shape,\n",
    "                                  number_of_classes=num_classes,\n",
    "                                  number_of_models = 5, model_type='CNN' )"
   ]
  },
  {
   "cell_type": "markdown",
   "metadata": {},
   "source": [
    "Let's inspect the models:"
   ]
  },
  {
   "cell_type": "code",
   "execution_count": 14,
   "metadata": {},
   "outputs": [
    {
     "data": {
      "text/plain": [
       "[(<keras.models.Sequential at 0x7f27395447f0>,\n",
       "  {'fc_hidden_nodes': 231,\n",
       "   'filters': array([75, 36, 56, 78]),\n",
       "   'learning_rate': 0.00042981092192911755,\n",
       "   'regularization_rate': 0.00019438638666477383},\n",
       "  'CNN'),\n",
       " (<keras.models.Sequential at 0x7f26ef641240>,\n",
       "  {'fc_hidden_nodes': 111,\n",
       "   'filters': array([45]),\n",
       "   'learning_rate': 0.00030629849628779405,\n",
       "   'regularization_rate': 0.023826992156800057},\n",
       "  'CNN'),\n",
       " (<keras.models.Sequential at 0x7f26ef3dc208>,\n",
       "  {'fc_hidden_nodes': 604,\n",
       "   'filters': array([14, 70, 51, 81, 22, 37, 89, 32, 24]),\n",
       "   'learning_rate': 0.019304098294381178,\n",
       "   'regularization_rate': 0.026884467039248378},\n",
       "  'CNN'),\n",
       " (<keras.models.Sequential at 0x7f26eea92e10>,\n",
       "  {'fc_hidden_nodes': 704,\n",
       "   'filters': array([49, 92, 45, 44, 42, 87]),\n",
       "   'learning_rate': 0.004152660220244203,\n",
       "   'regularization_rate': 0.00187529889376639},\n",
       "  'CNN'),\n",
       " (<keras.models.Sequential at 0x7f26ee49f320>,\n",
       "  {'fc_hidden_nodes': 1774,\n",
       "   'filters': array([68, 73, 43]),\n",
       "   'learning_rate': 0.0011193689734976333,\n",
       "   'regularization_rate': 0.0037067266533239583},\n",
       "  'CNN')]"
      ]
     },
     "execution_count": 14,
     "metadata": {},
     "output_type": "execute_result"
    }
   ],
   "source": [
    "models"
   ]
  },
  {
   "cell_type": "code",
   "execution_count": 15,
   "metadata": {},
   "outputs": [
    {
     "name": "stdout",
     "output_type": "stream",
     "text": [
      "_________________________________________________________________\n",
      "Layer (type)                 Output Shape              Param #   \n",
      "=================================================================\n",
      "batch_normalization_1 (Batch (None, 500, 6)            24        \n",
      "_________________________________________________________________\n",
      "conv1d_1 (Conv1D)            (None, 500, 75)           1425      \n",
      "_________________________________________________________________\n",
      "batch_normalization_2 (Batch (None, 500, 75)           300       \n",
      "_________________________________________________________________\n",
      "activation_1 (Activation)    (None, 500, 75)           0         \n",
      "_________________________________________________________________\n",
      "conv1d_2 (Conv1D)            (None, 500, 36)           8136      \n",
      "_________________________________________________________________\n",
      "batch_normalization_3 (Batch (None, 500, 36)           144       \n",
      "_________________________________________________________________\n",
      "activation_2 (Activation)    (None, 500, 36)           0         \n",
      "_________________________________________________________________\n",
      "conv1d_3 (Conv1D)            (None, 500, 56)           6104      \n",
      "_________________________________________________________________\n",
      "batch_normalization_4 (Batch (None, 500, 56)           224       \n",
      "_________________________________________________________________\n",
      "activation_3 (Activation)    (None, 500, 56)           0         \n",
      "_________________________________________________________________\n",
      "conv1d_4 (Conv1D)            (None, 500, 78)           13182     \n",
      "_________________________________________________________________\n",
      "batch_normalization_5 (Batch (None, 500, 78)           312       \n",
      "_________________________________________________________________\n",
      "activation_4 (Activation)    (None, 500, 78)           0         \n",
      "_________________________________________________________________\n",
      "flatten_1 (Flatten)          (None, 39000)             0         \n",
      "_________________________________________________________________\n",
      "dense_1 (Dense)              (None, 231)               9009231   \n",
      "_________________________________________________________________\n",
      "activation_5 (Activation)    (None, 231)               0         \n",
      "_________________________________________________________________\n",
      "dense_2 (Dense)              (None, 2)                 464       \n",
      "_________________________________________________________________\n",
      "batch_normalization_6 (Batch (None, 2)                 8         \n",
      "_________________________________________________________________\n",
      "activation_6 (Activation)    (None, 2)                 0         \n",
      "=================================================================\n",
      "Total params: 9,039,554\n",
      "Trainable params: 9,039,048\n",
      "Non-trainable params: 506\n",
      "_________________________________________________________________\n"
     ]
    }
   ],
   "source": [
    "models[0][0].summary()"
   ]
  },
  {
   "cell_type": "code",
   "execution_count": 16,
   "metadata": {},
   "outputs": [
    {
     "name": "stdout",
     "output_type": "stream",
     "text": [
      "-------------------------------------------------------------------------------------------------------\n",
      "Model 0\n",
      " \n",
      "Hyperparameters:\n",
      "{'learning_rate': 0.00042981092192911755, 'regularization_rate': 0.00019438638666477383, 'filters': array([75, 36, 56, 78]), 'fc_hidden_nodes': 231}\n",
      " \n",
      "Model description:\n",
      "_________________________________________________________________\n",
      "Layer (type)                 Output Shape              Param #   \n",
      "=================================================================\n",
      "batch_normalization_1 (Batch (None, 500, 6)            24        \n",
      "_________________________________________________________________\n",
      "conv1d_1 (Conv1D)            (None, 500, 75)           1425      \n",
      "_________________________________________________________________\n",
      "batch_normalization_2 (Batch (None, 500, 75)           300       \n",
      "_________________________________________________________________\n",
      "activation_1 (Activation)    (None, 500, 75)           0         \n",
      "_________________________________________________________________\n",
      "conv1d_2 (Conv1D)            (None, 500, 36)           8136      \n",
      "_________________________________________________________________\n",
      "batch_normalization_3 (Batch (None, 500, 36)           144       \n",
      "_________________________________________________________________\n",
      "activation_2 (Activation)    (None, 500, 36)           0         \n",
      "_________________________________________________________________\n",
      "conv1d_3 (Conv1D)            (None, 500, 56)           6104      \n",
      "_________________________________________________________________\n",
      "batch_normalization_4 (Batch (None, 500, 56)           224       \n",
      "_________________________________________________________________\n",
      "activation_3 (Activation)    (None, 500, 56)           0         \n",
      "_________________________________________________________________\n",
      "conv1d_4 (Conv1D)            (None, 500, 78)           13182     \n",
      "_________________________________________________________________\n",
      "batch_normalization_5 (Batch (None, 500, 78)           312       \n",
      "_________________________________________________________________\n",
      "activation_4 (Activation)    (None, 500, 78)           0         \n",
      "_________________________________________________________________\n",
      "flatten_1 (Flatten)          (None, 39000)             0         \n",
      "_________________________________________________________________\n",
      "dense_1 (Dense)              (None, 231)               9009231   \n",
      "_________________________________________________________________\n",
      "activation_5 (Activation)    (None, 231)               0         \n",
      "_________________________________________________________________\n",
      "dense_2 (Dense)              (None, 2)                 464       \n",
      "_________________________________________________________________\n",
      "batch_normalization_6 (Batch (None, 2)                 8         \n",
      "_________________________________________________________________\n",
      "activation_6 (Activation)    (None, 2)                 0         \n",
      "=================================================================\n",
      "Total params: 9,039,554\n",
      "Trainable params: 9,039,048\n",
      "Non-trainable params: 506\n",
      "_________________________________________________________________\n",
      " \n",
      "Model type:\n",
      "CNN\n",
      " \n",
      "-------------------------------------------------------------------------------------------------------\n",
      "Model 1\n",
      " \n",
      "Hyperparameters:\n",
      "{'learning_rate': 0.00030629849628779405, 'regularization_rate': 0.023826992156800057, 'filters': array([45]), 'fc_hidden_nodes': 111}\n",
      " \n",
      "Model description:\n",
      "_________________________________________________________________\n",
      "Layer (type)                 Output Shape              Param #   \n",
      "=================================================================\n",
      "batch_normalization_7 (Batch (None, 500, 6)            24        \n",
      "_________________________________________________________________\n",
      "conv1d_5 (Conv1D)            (None, 500, 45)           855       \n",
      "_________________________________________________________________\n",
      "batch_normalization_8 (Batch (None, 500, 45)           180       \n",
      "_________________________________________________________________\n",
      "activation_7 (Activation)    (None, 500, 45)           0         \n",
      "_________________________________________________________________\n",
      "flatten_2 (Flatten)          (None, 22500)             0         \n",
      "_________________________________________________________________\n",
      "dense_3 (Dense)              (None, 111)               2497611   \n",
      "_________________________________________________________________\n",
      "activation_8 (Activation)    (None, 111)               0         \n",
      "_________________________________________________________________\n",
      "dense_4 (Dense)              (None, 2)                 224       \n",
      "_________________________________________________________________\n",
      "batch_normalization_9 (Batch (None, 2)                 8         \n",
      "_________________________________________________________________\n",
      "activation_9 (Activation)    (None, 2)                 0         \n",
      "=================================================================\n",
      "Total params: 2,498,902\n",
      "Trainable params: 2,498,796\n",
      "Non-trainable params: 106\n",
      "_________________________________________________________________\n",
      " \n",
      "Model type:\n",
      "CNN\n",
      " \n",
      "-------------------------------------------------------------------------------------------------------\n",
      "Model 2\n",
      " \n",
      "Hyperparameters:\n",
      "{'learning_rate': 0.019304098294381178, 'regularization_rate': 0.026884467039248378, 'filters': array([14, 70, 51, 81, 22, 37, 89, 32, 24]), 'fc_hidden_nodes': 604}\n",
      " \n",
      "Model description:\n",
      "_________________________________________________________________\n",
      "Layer (type)                 Output Shape              Param #   \n",
      "=================================================================\n",
      "batch_normalization_10 (Batc (None, 500, 6)            24        \n",
      "_________________________________________________________________\n",
      "conv1d_6 (Conv1D)            (None, 500, 14)           266       \n",
      "_________________________________________________________________\n",
      "batch_normalization_11 (Batc (None, 500, 14)           56        \n",
      "_________________________________________________________________\n",
      "activation_10 (Activation)   (None, 500, 14)           0         \n",
      "_________________________________________________________________\n",
      "conv1d_7 (Conv1D)            (None, 500, 70)           3010      \n",
      "_________________________________________________________________\n",
      "batch_normalization_12 (Batc (None, 500, 70)           280       \n",
      "_________________________________________________________________\n",
      "activation_11 (Activation)   (None, 500, 70)           0         \n",
      "_________________________________________________________________\n",
      "conv1d_8 (Conv1D)            (None, 500, 51)           10761     \n",
      "_________________________________________________________________\n",
      "batch_normalization_13 (Batc (None, 500, 51)           204       \n",
      "_________________________________________________________________\n",
      "activation_12 (Activation)   (None, 500, 51)           0         \n",
      "_________________________________________________________________\n",
      "conv1d_9 (Conv1D)            (None, 500, 81)           12474     \n",
      "_________________________________________________________________\n",
      "batch_normalization_14 (Batc (None, 500, 81)           324       \n",
      "_________________________________________________________________\n",
      "activation_13 (Activation)   (None, 500, 81)           0         \n",
      "_________________________________________________________________\n",
      "conv1d_10 (Conv1D)           (None, 500, 22)           5368      \n",
      "_________________________________________________________________\n",
      "batch_normalization_15 (Batc (None, 500, 22)           88        \n",
      "_________________________________________________________________\n",
      "activation_14 (Activation)   (None, 500, 22)           0         \n",
      "_________________________________________________________________\n",
      "conv1d_11 (Conv1D)           (None, 500, 37)           2479      \n",
      "_________________________________________________________________\n",
      "batch_normalization_16 (Batc (None, 500, 37)           148       \n",
      "_________________________________________________________________\n",
      "activation_15 (Activation)   (None, 500, 37)           0         \n",
      "_________________________________________________________________\n",
      "conv1d_12 (Conv1D)           (None, 500, 89)           9968      \n",
      "_________________________________________________________________\n",
      "batch_normalization_17 (Batc (None, 500, 89)           356       \n",
      "_________________________________________________________________\n",
      "activation_16 (Activation)   (None, 500, 89)           0         \n",
      "_________________________________________________________________\n",
      "conv1d_13 (Conv1D)           (None, 500, 32)           8576      \n",
      "_________________________________________________________________\n",
      "batch_normalization_18 (Batc (None, 500, 32)           128       \n",
      "_________________________________________________________________\n",
      "activation_17 (Activation)   (None, 500, 32)           0         \n",
      "_________________________________________________________________\n",
      "conv1d_14 (Conv1D)           (None, 500, 24)           2328      \n",
      "_________________________________________________________________\n",
      "batch_normalization_19 (Batc (None, 500, 24)           96        \n",
      "_________________________________________________________________\n",
      "activation_18 (Activation)   (None, 500, 24)           0         \n",
      "_________________________________________________________________\n",
      "flatten_3 (Flatten)          (None, 12000)             0         \n",
      "_________________________________________________________________\n",
      "dense_5 (Dense)              (None, 604)               7248604   \n",
      "_________________________________________________________________\n",
      "activation_19 (Activation)   (None, 604)               0         \n",
      "_________________________________________________________________\n",
      "dense_6 (Dense)              (None, 2)                 1210      \n",
      "_________________________________________________________________\n",
      "batch_normalization_20 (Batc (None, 2)                 8         \n",
      "_________________________________________________________________\n",
      "activation_20 (Activation)   (None, 2)                 0         \n",
      "=================================================================\n",
      "Total params: 7,306,756\n",
      "Trainable params: 7,305,900\n",
      "Non-trainable params: 856\n",
      "_________________________________________________________________\n",
      " \n",
      "Model type:\n",
      "CNN\n",
      " \n",
      "-------------------------------------------------------------------------------------------------------\n",
      "Model 3\n",
      " \n",
      "Hyperparameters:\n",
      "{'learning_rate': 0.004152660220244203, 'regularization_rate': 0.00187529889376639, 'filters': array([49, 92, 45, 44, 42, 87]), 'fc_hidden_nodes': 704}\n",
      " \n",
      "Model description:\n",
      "_________________________________________________________________\n",
      "Layer (type)                 Output Shape              Param #   \n",
      "=================================================================\n",
      "batch_normalization_21 (Batc (None, 500, 6)            24        \n",
      "_________________________________________________________________\n",
      "conv1d_15 (Conv1D)           (None, 500, 49)           931       \n",
      "_________________________________________________________________\n",
      "batch_normalization_22 (Batc (None, 500, 49)           196       \n",
      "_________________________________________________________________\n",
      "activation_21 (Activation)   (None, 500, 49)           0         \n",
      "_________________________________________________________________\n",
      "conv1d_16 (Conv1D)           (None, 500, 92)           13616     \n",
      "_________________________________________________________________\n",
      "batch_normalization_23 (Batc (None, 500, 92)           368       \n",
      "_________________________________________________________________\n",
      "activation_22 (Activation)   (None, 500, 92)           0         \n",
      "_________________________________________________________________\n",
      "conv1d_17 (Conv1D)           (None, 500, 45)           12465     \n",
      "_________________________________________________________________\n",
      "batch_normalization_24 (Batc (None, 500, 45)           180       \n",
      "_________________________________________________________________\n",
      "activation_23 (Activation)   (None, 500, 45)           0         \n",
      "_________________________________________________________________\n",
      "conv1d_18 (Conv1D)           (None, 500, 44)           5984      \n",
      "_________________________________________________________________\n",
      "batch_normalization_25 (Batc (None, 500, 44)           176       \n",
      "_________________________________________________________________\n",
      "activation_24 (Activation)   (None, 500, 44)           0         \n",
      "_________________________________________________________________\n",
      "conv1d_19 (Conv1D)           (None, 500, 42)           5586      \n",
      "_________________________________________________________________\n",
      "batch_normalization_26 (Batc (None, 500, 42)           168       \n",
      "_________________________________________________________________\n",
      "activation_25 (Activation)   (None, 500, 42)           0         \n",
      "_________________________________________________________________\n",
      "conv1d_20 (Conv1D)           (None, 500, 87)           11049     \n",
      "_________________________________________________________________\n",
      "batch_normalization_27 (Batc (None, 500, 87)           348       \n",
      "_________________________________________________________________\n",
      "activation_26 (Activation)   (None, 500, 87)           0         \n",
      "_________________________________________________________________\n",
      "flatten_4 (Flatten)          (None, 43500)             0         \n",
      "_________________________________________________________________\n",
      "dense_7 (Dense)              (None, 704)               30624704  \n",
      "_________________________________________________________________\n",
      "activation_27 (Activation)   (None, 704)               0         \n",
      "_________________________________________________________________\n",
      "dense_8 (Dense)              (None, 2)                 1410      \n",
      "_________________________________________________________________\n",
      "batch_normalization_28 (Batc (None, 2)                 8         \n",
      "_________________________________________________________________\n",
      "activation_28 (Activation)   (None, 2)                 0         \n",
      "=================================================================\n",
      "Total params: 30,677,213\n",
      "Trainable params: 30,676,479\n",
      "Non-trainable params: 734\n",
      "_________________________________________________________________\n",
      " \n",
      "Model type:\n",
      "CNN\n",
      " \n",
      "-------------------------------------------------------------------------------------------------------\n",
      "Model 4\n",
      " \n",
      "Hyperparameters:\n",
      "{'learning_rate': 0.0011193689734976333, 'regularization_rate': 0.0037067266533239583, 'filters': array([68, 73, 43]), 'fc_hidden_nodes': 1774}\n",
      " \n",
      "Model description:\n",
      "_________________________________________________________________\n",
      "Layer (type)                 Output Shape              Param #   \n",
      "=================================================================\n",
      "batch_normalization_29 (Batc (None, 500, 6)            24        \n",
      "_________________________________________________________________\n",
      "conv1d_21 (Conv1D)           (None, 500, 68)           1292      \n",
      "_________________________________________________________________\n",
      "batch_normalization_30 (Batc (None, 500, 68)           272       \n",
      "_________________________________________________________________\n",
      "activation_29 (Activation)   (None, 500, 68)           0         \n",
      "_________________________________________________________________\n",
      "conv1d_22 (Conv1D)           (None, 500, 73)           14965     \n",
      "_________________________________________________________________\n",
      "batch_normalization_31 (Batc (None, 500, 73)           292       \n",
      "_________________________________________________________________\n",
      "activation_30 (Activation)   (None, 500, 73)           0         \n",
      "_________________________________________________________________\n",
      "conv1d_23 (Conv1D)           (None, 500, 43)           9460      \n",
      "_________________________________________________________________\n",
      "batch_normalization_32 (Batc (None, 500, 43)           172       \n",
      "_________________________________________________________________\n",
      "activation_31 (Activation)   (None, 500, 43)           0         \n",
      "_________________________________________________________________\n",
      "flatten_5 (Flatten)          (None, 21500)             0         \n",
      "_________________________________________________________________\n",
      "dense_9 (Dense)              (None, 1774)              38142774  \n",
      "_________________________________________________________________\n",
      "activation_32 (Activation)   (None, 1774)              0         \n",
      "_________________________________________________________________\n",
      "dense_10 (Dense)             (None, 2)                 3550      \n",
      "_________________________________________________________________\n",
      "batch_normalization_33 (Batc (None, 2)                 8         \n",
      "_________________________________________________________________\n",
      "activation_33 (Activation)   (None, 2)                 0         \n",
      "=================================================================\n",
      "Total params: 38,172,809\n",
      "Trainable params: 38,172,425\n",
      "Non-trainable params: 384\n",
      "_________________________________________________________________\n",
      " \n",
      "Model type:\n",
      "CNN\n",
      " \n"
     ]
    }
   ],
   "source": [
    "\n",
    "for i, item in enumerate(models):\n",
    "    model, params, model_types = item\n",
    "    print(\"-------------------------------------------------------------------------------------------------------\")\n",
    "    print(\"Model \" + str(i))\n",
    "    print(\" \")\n",
    "    print(\"Hyperparameters:\")\n",
    "    print(params)\n",
    "    print(\" \")\n",
    "    print(\"Model description:\")\n",
    "    model.summary()\n",
    "    print(\" \")\n",
    "    print(\"Model type:\")\n",
    "    print(model_types)\n",
    "    print(\" \")"
   ]
  },
  {
   "cell_type": "markdown",
   "metadata": {},
   "source": [
    "# Compare the models"
   ]
  },
  {
   "cell_type": "code",
   "execution_count": 18,
   "metadata": {},
   "outputs": [
    {
     "name": "stdout",
     "output_type": "stream",
     "text": [
      "Training model 0 CNN\n",
      "Train on 14581 samples, validate on 100 samples\n",
      "Epoch 1/5\n",
      "14581/14581 [==============================] - 46s - loss: 0.7812 - acc: 0.5034 - val_loss: 0.7528 - val_acc: 0.5800\n",
      "Epoch 2/5\n",
      "14581/14581 [==============================] - 44s - loss: 0.7487 - acc: 0.5283 - val_loss: 0.7419 - val_acc: 0.4800\n",
      "Epoch 3/5\n",
      "14581/14581 [==============================] - 44s - loss: 0.7362 - acc: 0.5381 - val_loss: 0.7288 - val_acc: 0.5200\n",
      "Epoch 4/5\n",
      "14581/14581 [==============================] - 44s - loss: 0.7333 - acc: 0.5444 - val_loss: 0.7375 - val_acc: 0.5000\n",
      "Epoch 5/5\n",
      "14581/14581 [==============================] - 44s - loss: 0.7319 - acc: 0.5645 - val_loss: 0.7549 - val_acc: 0.5300\n",
      "Training model 1 CNN\n",
      "Train on 14581 samples, validate on 100 samples\n",
      "Epoch 1/5\n",
      "14581/14581 [==============================] - 13s - loss: 1.4966 - acc: 0.4940 - val_loss: 0.9154 - val_acc: 0.4500\n",
      "Epoch 2/5\n",
      "14581/14581 [==============================] - 13s - loss: 0.7819 - acc: 0.4954 - val_loss: 0.7512 - val_acc: 0.4200\n",
      "Epoch 3/5\n",
      "14581/14581 [==============================] - 13s - loss: 0.7113 - acc: 0.5010 - val_loss: 0.7004 - val_acc: 0.5300\n",
      "Epoch 4/5\n",
      "14581/14581 [==============================] - 13s - loss: 0.7017 - acc: 0.5039 - val_loss: 0.6987 - val_acc: 0.4800\n",
      "Epoch 5/5\n",
      "14581/14581 [==============================] - 13s - loss: 0.7022 - acc: 0.4983 - val_loss: 0.7048 - val_acc: 0.4500\n",
      "Training model 2 CNN\n",
      "Train on 14581 samples, validate on 100 samples\n",
      "Epoch 1/5\n",
      "14581/14581 [==============================] - 56s - loss: 3.4486 - acc: 0.5017 - val_loss: 1.1940 - val_acc: 0.5500\n",
      "Epoch 2/5\n",
      "14581/14581 [==============================] - 55s - loss: 1.0722 - acc: 0.4942 - val_loss: 0.8797 - val_acc: 0.4500\n",
      "Epoch 3/5\n",
      "14581/14581 [==============================] - 55s - loss: 1.1679 - acc: 0.4935 - val_loss: 1.2404 - val_acc: 0.6000\n",
      "Epoch 4/5\n",
      "14581/14581 [==============================] - 55s - loss: 1.1903 - acc: 0.5020 - val_loss: 1.1878 - val_acc: 0.5500\n",
      "Epoch 5/5\n",
      "14581/14581 [==============================] - 55s - loss: 1.2227 - acc: 0.5032 - val_loss: 0.9832 - val_acc: 0.4500\n",
      "Training model 3 CNN\n",
      "Train on 14581 samples, validate on 100 samples\n",
      "Epoch 1/5\n",
      "14581/14581 [==============================] - 108s - loss: 1.9952 - acc: 0.4980 - val_loss: 0.8684 - val_acc: 0.4500\n",
      "Epoch 2/5\n",
      "14581/14581 [==============================] - 106s - loss: 0.8349 - acc: 0.4978 - val_loss: 0.8351 - val_acc: 0.5600\n",
      "Epoch 3/5\n",
      "14581/14581 [==============================] - 106s - loss: 0.7941 - acc: 0.5035 - val_loss: 0.7537 - val_acc: 0.5300\n",
      "Epoch 4/5\n",
      "14581/14581 [==============================] - 106s - loss: 0.7879 - acc: 0.5053 - val_loss: 0.9087 - val_acc: 0.4500\n",
      "Epoch 5/5\n",
      "14581/14581 [==============================] - 106s - loss: 0.7842 - acc: 0.5038 - val_loss: 0.8578 - val_acc: 0.4300\n",
      "Training model 4 CNN\n",
      "Train on 14581 samples, validate on 100 samples\n",
      "Epoch 1/5\n",
      "14581/14581 [==============================] - 116s - loss: 1.5953 - acc: 0.5034 - val_loss: 0.7319 - val_acc: 0.5500\n",
      "Epoch 2/5\n",
      "14581/14581 [==============================] - 113s - loss: 0.7773 - acc: 0.5004 - val_loss: 0.7395 - val_acc: 0.5600\n",
      "Epoch 3/5\n",
      "14581/14581 [==============================] - 113s - loss: 0.7383 - acc: 0.4975 - val_loss: 0.7653 - val_acc: 0.4900\n",
      "Epoch 4/5\n",
      "14581/14581 [==============================] - 113s - loss: 0.7444 - acc: 0.5000 - val_loss: 0.7228 - val_acc: 0.4800\n",
      "Epoch 5/5\n",
      "14581/14581 [==============================] - 113s - loss: 0.7602 - acc: 0.4948 - val_loss: 0.7777 - val_acc: 0.4900\n",
      "Details of the training process were stored in  modelcomparison.json\n"
     ]
    }
   ],
   "source": [
    "outputfile = 'modelcomparison.json'\n",
    "histories, val_accuracies, val_losses = find_architecture.train_models_on_samples(X_train, y_train_binary,\n",
    "                                                                           X_val[:100], y_val_binary[:100],\n",
    "                                                                           models,nr_epochs=5,\n",
    "                                                                           subset_size=14581,\n",
    "                                                                           verbose=True,\n",
    "                                                                           outputfile=outputfile,)\n",
    "print('Details of the training process were stored in ',outputfile)"
   ]
  },
  {
   "cell_type": "code",
   "execution_count": 24,
   "metadata": {},
   "outputs": [
    {
     "name": "stdout",
     "output_type": "stream",
     "text": [
      "2624/2652 [============================>.] - ETA: 0s"
     ]
    },
    {
     "data": {
      "text/plain": [
       "[0.75626566956665364, 0.4894419308881055]"
      ]
     },
     "execution_count": 24,
     "metadata": {},
     "output_type": "execute_result"
    }
   ],
   "source": [
    "best_model_index = np.argmax(val_accuracies)\n",
    "best_model, best_params, best_model_types = models[best_model_index]\n",
    "best_model.evaluate(X_val, y_val_binary, verbose=True)"
   ]
  },
  {
   "cell_type": "code",
   "execution_count": 25,
   "metadata": {},
   "outputs": [
    {
     "name": "stdout",
     "output_type": "stream",
     "text": [
      "Train on 14581 samples, validate on 1203 samples\n",
      "Epoch 1/20\n",
      "14581/14581 [==============================] - 32s - loss: 0.7091 - acc: 0.6141 - val_loss: 0.7891 - val_acc: 0.5071\n",
      "Epoch 2/20\n",
      "14581/14581 [==============================] - 32s - loss: 0.6829 - acc: 0.6569 - val_loss: 0.8239 - val_acc: 0.5461\n",
      "Epoch 3/20\n",
      "14581/14581 [==============================] - 32s - loss: 0.6477 - acc: 0.6977 - val_loss: 0.8745 - val_acc: 0.5245\n",
      "Epoch 4/20\n",
      "14581/14581 [==============================] - 32s - loss: 0.5867 - acc: 0.7480 - val_loss: 0.9856 - val_acc: 0.5245\n",
      "Epoch 5/20\n",
      "14581/14581 [==============================] - 32s - loss: 0.5104 - acc: 0.7959 - val_loss: 1.2599 - val_acc: 0.5137\n",
      "Epoch 6/20\n",
      "14581/14581 [==============================] - 32s - loss: 0.4299 - acc: 0.8491 - val_loss: 1.1285 - val_acc: 0.5270\n",
      "Epoch 7/20\n",
      "14581/14581 [==============================] - 32s - loss: 0.3600 - acc: 0.8833 - val_loss: 1.1550 - val_acc: 0.5162\n",
      "Epoch 8/20\n",
      "14581/14581 [==============================] - 32s - loss: 0.3120 - acc: 0.9126 - val_loss: 1.2325 - val_acc: 0.5187\n",
      "Epoch 9/20\n",
      "14581/14581 [==============================] - 32s - loss: 0.2656 - acc: 0.9276 - val_loss: 1.4630 - val_acc: 0.5270\n",
      "Epoch 10/20\n",
      "14581/14581 [==============================] - 32s - loss: 0.2356 - acc: 0.9440 - val_loss: 1.4404 - val_acc: 0.5037\n",
      "Epoch 11/20\n",
      "14581/14581 [==============================] - 32s - loss: 0.2060 - acc: 0.9536 - val_loss: 1.6238 - val_acc: 0.5278\n",
      "Epoch 12/20\n",
      "14581/14581 [==============================] - 32s - loss: 0.1939 - acc: 0.9559 - val_loss: 1.5254 - val_acc: 0.5287\n",
      "Epoch 13/20\n",
      "14581/14581 [==============================] - 32s - loss: 0.1894 - acc: 0.9576 - val_loss: 1.7462 - val_acc: 0.5270\n",
      "Epoch 14/20\n",
      "14581/14581 [==============================] - 32s - loss: 0.1764 - acc: 0.9636 - val_loss: 1.6543 - val_acc: 0.5428\n",
      "Epoch 15/20\n",
      "14581/14581 [==============================] - 32s - loss: 0.1688 - acc: 0.9667 - val_loss: 1.6293 - val_acc: 0.5262\n",
      "Epoch 16/20\n",
      "14581/14581 [==============================] - 32s - loss: 0.1599 - acc: 0.9673 - val_loss: 1.9407 - val_acc: 0.5270\n",
      "Epoch 17/20\n",
      "14581/14581 [==============================] - 32s - loss: 0.1648 - acc: 0.9653 - val_loss: 1.8922 - val_acc: 0.5137\n",
      "Epoch 18/20\n",
      "14581/14581 [==============================] - 32s - loss: 0.1667 - acc: 0.9654 - val_loss: 2.0139 - val_acc: 0.5345\n",
      "Epoch 19/20\n",
      "14581/14581 [==============================] - 32s - loss: 0.1396 - acc: 0.9762 - val_loss: 1.8988 - val_acc: 0.5195\n",
      "Epoch 20/20\n",
      "14581/14581 [==============================] - 32s - loss: 0.1354 - acc: 0.9766 - val_loss: 1.7353 - val_acc: 0.5229\n"
     ]
    }
   ],
   "source": [
    "history = best_model.fit(X_train, y_train_binary,\n",
    "              epochs=20, validation_data=(X_val, y_val_binary))"
   ]
  },
  {
   "cell_type": "code",
   "execution_count": 26,
   "metadata": {},
   "outputs": [
    {
     "name": "stdout",
     "output_type": "stream",
     "text": [
      "2624/2652 [============================>.] - ETA: 0s"
     ]
    },
    {
     "data": {
      "text/plain": [
       "[1.8361225606449409, 0.50226244388842112]"
      ]
     },
     "execution_count": 26,
     "metadata": {},
     "output_type": "execute_result"
    }
   ],
   "source": [
    "best_model.evaluate(X_test, y_test_binary, verbose=True)"
   ]
  },
  {
   "cell_type": "code",
   "execution_count": null,
   "metadata": {
    "collapsed": true
   },
   "outputs": [],
   "source": []
  }
 ],
 "metadata": {
  "kernelspec": {
   "display_name": "Python 3",
   "language": "python",
   "name": "python3"
  },
  "language_info": {
   "codemirror_mode": {
    "name": "ipython",
    "version": 3
   },
   "file_extension": ".py",
   "mimetype": "text/x-python",
   "name": "python",
   "nbconvert_exporter": "python",
   "pygments_lexer": "ipython3",
   "version": "3.6.2"
  }
 },
 "nbformat": 4,
 "nbformat_minor": 2
}
