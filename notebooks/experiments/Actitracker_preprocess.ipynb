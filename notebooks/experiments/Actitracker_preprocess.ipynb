{
 "cells": [
  {
   "cell_type": "code",
   "execution_count": 104,
   "metadata": {
    "collapsed": false
   },
   "outputs": [
    {
     "name": "stderr",
     "output_type": "stream",
     "text": [
      "Using TensorFlow backend.\n"
     ]
    }
   ],
   "source": [
    "import pandas as pd\n",
    "import numpy as np\n",
    "import os\n",
    "import sys\n",
    "sys.path.insert(0, os.path.abspath('../..'))\n",
    "from utils import tutorial_pamap2"
   ]
  },
  {
   "cell_type": "markdown",
   "metadata": {},
   "source": [
    "# WISDM actitracker data set\n",
    "This data set is downloaded from http://www.cis.fordham.edu/wisdm/dataset.php"
   ]
  },
  {
   "cell_type": "code",
   "execution_count": 5,
   "metadata": {
    "collapsed": false
   },
   "outputs": [],
   "source": [
    "datapath = '/media/sf_VBox_Shared/timeseries/actitiracker/WISDM_at_v2.0/'\n",
    "dfile = os.path.join(datapath, 'WISDM_at_v2.0_raw.txt')"
   ]
  },
  {
   "cell_type": "code",
   "execution_count": 74,
   "metadata": {
    "collapsed": false
   },
   "outputs": [],
   "source": [
    "column_names = ['user','activity','timestamp', 'x-acc', 'y-acc', 'z-acc']\n",
    "df_full = pd.read_csv(dfile, header=None, sep=',', names=column_names, na_values=';')\n",
    "\n",
    "df_full['z-acc'] = [float(str(s).split(';')[0]) for s in df_full['z-acc']]\n",
    "df_full = df_full.dropna()\n",
    "\n",
    "#df_full['timestamp'] = df_full['timestamp'].astype('int')\n",
    "df_full = df_full[df_full['timestamp']>=0]\n",
    "df_full = df_full[df_full['timestamp']<=2e18]\n",
    "\n",
    "df_full['datetime'] = pd.to_datetime(df_full.timestamp, unit='ms')"
   ]
  },
  {
   "cell_type": "code",
   "execution_count": 75,
   "metadata": {
    "collapsed": false
   },
   "outputs": [
    {
     "data": {
      "text/html": [
       "<div>\n",
       "<style>\n",
       "    .dataframe thead tr:only-child th {\n",
       "        text-align: right;\n",
       "    }\n",
       "\n",
       "    .dataframe thead th {\n",
       "        text-align: left;\n",
       "    }\n",
       "\n",
       "    .dataframe tbody tr th {\n",
       "        vertical-align: top;\n",
       "    }\n",
       "</style>\n",
       "<table border=\"1\" class=\"dataframe\">\n",
       "  <thead>\n",
       "    <tr style=\"text-align: right;\">\n",
       "      <th></th>\n",
       "      <th>user</th>\n",
       "      <th>activity</th>\n",
       "      <th>timestamp</th>\n",
       "      <th>x-acc</th>\n",
       "      <th>y-acc</th>\n",
       "      <th>z-acc</th>\n",
       "      <th>datetime</th>\n",
       "    </tr>\n",
       "  </thead>\n",
       "  <tbody>\n",
       "    <tr>\n",
       "      <th>0</th>\n",
       "      <td>1679</td>\n",
       "      <td>Walking</td>\n",
       "      <td>1.370520e+12</td>\n",
       "      <td>0.294132</td>\n",
       "      <td>-0.635605</td>\n",
       "      <td>-0.226936</td>\n",
       "      <td>2013-06-06 12:07:49.556</td>\n",
       "    </tr>\n",
       "    <tr>\n",
       "      <th>1</th>\n",
       "      <td>1679</td>\n",
       "      <td>Walking</td>\n",
       "      <td>1.370520e+12</td>\n",
       "      <td>-0.499688</td>\n",
       "      <td>-0.604451</td>\n",
       "      <td>-0.226020</td>\n",
       "      <td>2013-06-06 12:07:49.606</td>\n",
       "    </tr>\n",
       "    <tr>\n",
       "      <th>2</th>\n",
       "      <td>1679</td>\n",
       "      <td>Walking</td>\n",
       "      <td>1.370520e+12</td>\n",
       "      <td>-2.178345</td>\n",
       "      <td>0.713491</td>\n",
       "      <td>0.372017</td>\n",
       "      <td>2013-06-06 12:07:49.656</td>\n",
       "    </tr>\n",
       "    <tr>\n",
       "      <th>3</th>\n",
       "      <td>1679</td>\n",
       "      <td>Walking</td>\n",
       "      <td>1.370520e+12</td>\n",
       "      <td>-2.797763</td>\n",
       "      <td>1.354899</td>\n",
       "      <td>-0.277638</td>\n",
       "      <td>2013-06-06 12:07:49.706</td>\n",
       "    </tr>\n",
       "    <tr>\n",
       "      <th>4</th>\n",
       "      <td>1679</td>\n",
       "      <td>Walking</td>\n",
       "      <td>1.370520e+12</td>\n",
       "      <td>-2.167961</td>\n",
       "      <td>-1.327716</td>\n",
       "      <td>-0.554971</td>\n",
       "      <td>2013-06-06 12:07:49.756</td>\n",
       "    </tr>\n",
       "  </tbody>\n",
       "</table>\n",
       "</div>"
      ],
      "text/plain": [
       "   user activity     timestamp     x-acc     y-acc     z-acc  \\\n",
       "0  1679  Walking  1.370520e+12  0.294132 -0.635605 -0.226936   \n",
       "1  1679  Walking  1.370520e+12 -0.499688 -0.604451 -0.226020   \n",
       "2  1679  Walking  1.370520e+12 -2.178345  0.713491  0.372017   \n",
       "3  1679  Walking  1.370520e+12 -2.797763  1.354899 -0.277638   \n",
       "4  1679  Walking  1.370520e+12 -2.167961 -1.327716 -0.554971   \n",
       "\n",
       "                 datetime  \n",
       "0 2013-06-06 12:07:49.556  \n",
       "1 2013-06-06 12:07:49.606  \n",
       "2 2013-06-06 12:07:49.656  \n",
       "3 2013-06-06 12:07:49.706  \n",
       "4 2013-06-06 12:07:49.756  "
      ]
     },
     "execution_count": 75,
     "metadata": {},
     "output_type": "execute_result"
    }
   ],
   "source": [
    "df_full.head()"
   ]
  },
  {
   "cell_type": "code",
   "execution_count": 69,
   "metadata": {
    "collapsed": false
   },
   "outputs": [
    {
     "data": {
      "text/plain": [
       "(2980763, 6)"
      ]
     },
     "execution_count": 69,
     "metadata": {},
     "output_type": "execute_result"
    }
   ],
   "source": [
    "df_full.shape"
   ]
  },
  {
   "cell_type": "code",
   "execution_count": 112,
   "metadata": {
    "collapsed": false
   },
   "outputs": [
    {
     "data": {
      "text/plain": [
       "array(['Walking', 'LyingDown', 'Standing', 'Sitting', 'Jogging', 'Stairs'], dtype=object)"
      ]
     },
     "execution_count": 112,
     "metadata": {},
     "output_type": "execute_result"
    }
   ],
   "source": [
    "df_full['activity'].unique()"
   ]
  },
  {
   "cell_type": "code",
   "execution_count": 76,
   "metadata": {
    "collapsed": false
   },
   "outputs": [
    {
     "data": {
      "text/html": [
       "<div>\n",
       "<style>\n",
       "    .dataframe thead tr:only-child th {\n",
       "        text-align: right;\n",
       "    }\n",
       "\n",
       "    .dataframe thead th {\n",
       "        text-align: left;\n",
       "    }\n",
       "\n",
       "    .dataframe tbody tr th {\n",
       "        vertical-align: top;\n",
       "    }\n",
       "</style>\n",
       "<table border=\"1\" class=\"dataframe\">\n",
       "  <thead>\n",
       "    <tr style=\"text-align: right;\">\n",
       "      <th></th>\n",
       "      <th>user</th>\n",
       "      <th>timestamp</th>\n",
       "      <th>x-acc</th>\n",
       "      <th>y-acc</th>\n",
       "      <th>z-acc</th>\n",
       "    </tr>\n",
       "  </thead>\n",
       "  <tbody>\n",
       "    <tr>\n",
       "      <th>count</th>\n",
       "      <td>2.980763e+06</td>\n",
       "      <td>2.980763e+06</td>\n",
       "      <td>2.980763e+06</td>\n",
       "      <td>2.980763e+06</td>\n",
       "      <td>2.980763e+06</td>\n",
       "    </tr>\n",
       "    <tr>\n",
       "      <th>mean</th>\n",
       "      <td>1.025268e+03</td>\n",
       "      <td>1.287680e+12</td>\n",
       "      <td>4.844856e+10</td>\n",
       "      <td>-1.373681e+05</td>\n",
       "      <td>6.093973e-01</td>\n",
       "    </tr>\n",
       "    <tr>\n",
       "      <th>std</th>\n",
       "      <td>4.901956e+02</td>\n",
       "      <td>8.169066e+10</td>\n",
       "      <td>8.364589e+13</td>\n",
       "      <td>2.371698e+08</td>\n",
       "      <td>4.564471e+00</td>\n",
       "    </tr>\n",
       "    <tr>\n",
       "      <th>min</th>\n",
       "      <td>1.940000e+02</td>\n",
       "      <td>2.894070e+11</td>\n",
       "      <td>-4.628739e+01</td>\n",
       "      <td>-4.094710e+11</td>\n",
       "      <td>-4.820949e+01</td>\n",
       "    </tr>\n",
       "    <tr>\n",
       "      <th>25%</th>\n",
       "      <td>6.340000e+02</td>\n",
       "      <td>1.200001e+12</td>\n",
       "      <td>-2.230362e+00</td>\n",
       "      <td>-2.700000e-01</td>\n",
       "      <td>-1.225831e+00</td>\n",
       "    </tr>\n",
       "    <tr>\n",
       "      <th>50%</th>\n",
       "      <td>7.050000e+02</td>\n",
       "      <td>1.317926e+12</td>\n",
       "      <td>-2.130529e-03</td>\n",
       "      <td>1.650000e+00</td>\n",
       "      <td>1.160644e-02</td>\n",
       "    </tr>\n",
       "    <tr>\n",
       "      <th>75%</th>\n",
       "      <td>1.603000e+03</td>\n",
       "      <td>1.372744e+12</td>\n",
       "      <td>2.508921e+00</td>\n",
       "      <td>8.850000e+00</td>\n",
       "      <td>2.476410e+00</td>\n",
       "    </tr>\n",
       "    <tr>\n",
       "      <th>max</th>\n",
       "      <td>1.802000e+03</td>\n",
       "      <td>1.379603e+12</td>\n",
       "      <td>1.444137e+17</td>\n",
       "      <td>8.013994e+01</td>\n",
       "      <td>6.590069e+01</td>\n",
       "    </tr>\n",
       "  </tbody>\n",
       "</table>\n",
       "</div>"
      ],
      "text/plain": [
       "               user     timestamp         x-acc         y-acc         z-acc\n",
       "count  2.980763e+06  2.980763e+06  2.980763e+06  2.980763e+06  2.980763e+06\n",
       "mean   1.025268e+03  1.287680e+12  4.844856e+10 -1.373681e+05  6.093973e-01\n",
       "std    4.901956e+02  8.169066e+10  8.364589e+13  2.371698e+08  4.564471e+00\n",
       "min    1.940000e+02  2.894070e+11 -4.628739e+01 -4.094710e+11 -4.820949e+01\n",
       "25%    6.340000e+02  1.200001e+12 -2.230362e+00 -2.700000e-01 -1.225831e+00\n",
       "50%    7.050000e+02  1.317926e+12 -2.130529e-03  1.650000e+00  1.160644e-02\n",
       "75%    1.603000e+03  1.372744e+12  2.508921e+00  8.850000e+00  2.476410e+00\n",
       "max    1.802000e+03  1.379603e+12  1.444137e+17  8.013994e+01  6.590069e+01"
      ]
     },
     "execution_count": 76,
     "metadata": {},
     "output_type": "execute_result"
    }
   ],
   "source": [
    "df_full.describe()"
   ]
  },
  {
   "cell_type": "code",
   "execution_count": 77,
   "metadata": {
    "collapsed": false
   },
   "outputs": [
    {
     "data": {
      "text/plain": [
       "225"
      ]
     },
     "execution_count": 77,
     "metadata": {},
     "output_type": "execute_result"
    }
   ],
   "source": [
    "df_full['user'].nunique()"
   ]
  },
  {
   "cell_type": "code",
   "execution_count": 94,
   "metadata": {
    "collapsed": false
   },
   "outputs": [],
   "source": [
    "# A new block of data starts with a new user, or a leap in the time step\n",
    "df_full['newblock'] = False\n",
    "df_full.loc[df_full['datetime'].diff() != pd.Timedelta('50ms'), 'newblock'] = True\n",
    "df_full.loc[df_full['user'].diff()!=0, 'newblock'] = True"
   ]
  },
  {
   "cell_type": "code",
   "execution_count": 95,
   "metadata": {
    "collapsed": false
   },
   "outputs": [
    {
     "data": {
      "text/plain": [
       "557298"
      ]
     },
     "execution_count": 95,
     "metadata": {},
     "output_type": "execute_result"
    }
   ],
   "source": [
    "df_full['newblock'].sum()"
   ]
  },
  {
   "cell_type": "code",
   "execution_count": 117,
   "metadata": {
    "collapsed": false
   },
   "outputs": [],
   "source": [
    "X_dict = {}\n",
    "for user in df_full['user'].unique():\n",
    "    X_df =  df_full[df_full['user']==user]\n",
    "    X = X_df[['x-acc', 'y-acc', 'z-acc']].as_matrix()\n",
    "    labels = X_df['activity'].as_matrix()\n",
    "    Xlist, ylist = tutorial_pamap2.split_activities(labels, \n",
    "                    X,\n",
    "                    [], \n",
    "                    borders=5 * 50)\n",
    "    X_dict[user] = (Xlist, ylist)"
   ]
  },
  {
   "cell_type": "code",
   "execution_count": 145,
   "metadata": {
    "collapsed": false
   },
   "outputs": [],
   "source": [
    "frame_length = 5 * 50 # 5 seconds\n",
    "step = 1 * 50 # 1 second\n",
    "\n",
    "sample_dict = {}\n",
    "for user in X_dict:\n",
    "    Xlist, ylist = X_dict[user]\n",
    "    X_sample_list, y_sample_list = tutorial_pamap2.sliding_window(frame_length, step, Xlist, ylist)\n",
    "    if len(X_sample_list) > 0:\n",
    "        X = np.array(X_sample_list)\n",
    "        y = np.array(y_sample_list)\n",
    "        sample_dict[user] = X, y"
   ]
  },
  {
   "cell_type": "code",
   "execution_count": 192,
   "metadata": {
    "collapsed": false
   },
   "outputs": [],
   "source": [
    "userids = np.array(list(sample_dict.keys()))\n",
    "nr_users = len(userids)\n",
    "nr_users_test = int(nr_users*0.1)\n",
    "nr_users_val = int(nr_users*0.1)"
   ]
  },
  {
   "cell_type": "code",
   "execution_count": 193,
   "metadata": {
    "collapsed": false
   },
   "outputs": [
    {
     "name": "stdout",
     "output_type": "stream",
     "text": [
      "train: 163, test: 20, val: 20\n"
     ]
    }
   ],
   "source": [
    "neworder = np.random.permutation(nr_users)\n",
    "userids = userids[neworder]\n",
    "\n",
    "train_userids = userids[:-(nr_users_test+nr_users_val)]\n",
    "test_userids = userids[-(nr_users_test+nr_users_val):-nr_users_val]\n",
    "val_userids = userids[-nr_users_val:]\n",
    "print('train: {}, test: {}, val: {}'.format(len(train_userids), len(test_userids), len(val_userids)))"
   ]
  },
  {
   "cell_type": "code",
   "execution_count": 194,
   "metadata": {
    "collapsed": true
   },
   "outputs": [],
   "source": [
    "X_train = np.concatenate([sample_dict[userid][0] for userid in train_userids])\n",
    "y_train = np.concatenate([sample_dict[userid][1] for userid in train_userids])\n",
    "X_test = np.concatenate([sample_dict[userid][0] for userid in test_userids])\n",
    "y_test = np.concatenate([sample_dict[userid][1] for userid in test_userids])\n",
    "X_val = np.concatenate([sample_dict[userid][0] for userid in val_userids])\n",
    "y_val = np.concatenate([sample_dict[userid][1] for userid in val_userids])"
   ]
  },
  {
   "cell_type": "code",
   "execution_count": 195,
   "metadata": {
    "collapsed": false
   },
   "outputs": [],
   "source": [
    "labels = list(df_full['activity'].unique().astype('unicode'))\n",
    "mapclasses = {labels[i]: i for i in range(len(labels))}\n",
    "\n",
    "y_train_binary = tutorial_pamap2.transform_y(y_train, mapclasses, len(labels))\n",
    "y_test_binary = tutorial_pamap2.transform_y(y_test, mapclasses, len(labels))\n",
    "y_val_binary = tutorial_pamap2.transform_y(y_val, mapclasses, len(labels))"
   ]
  },
  {
   "cell_type": "code",
   "execution_count": 196,
   "metadata": {
    "collapsed": false
   },
   "outputs": [
    {
     "data": {
      "text/plain": [
       "((46386, 250, 3),\n",
       " (46386, 6),\n",
       " (1641, 250, 3),\n",
       " (1641, 6),\n",
       " (3828, 250, 3),\n",
       " (3828, 6))"
      ]
     },
     "execution_count": 196,
     "metadata": {},
     "output_type": "execute_result"
    }
   ],
   "source": [
    "X_train.shape, y_train_binary.shape, X_test.shape, y_test_binary.shape, X_val.shape, y_val_binary.shape"
   ]
  },
  {
   "cell_type": "code",
   "execution_count": 199,
   "metadata": {
    "collapsed": false
   },
   "outputs": [
    {
     "name": "stdout",
     "output_type": "stream",
     "text": [
      "Stored /media/sf_VBox_Shared/timeseries/actitiracker/WISDM_at_v2.0/preprocessed/X_train y_train\n",
      "Stored /media/sf_VBox_Shared/timeseries/actitiracker/WISDM_at_v2.0/preprocessed/X_test y_test\n",
      "Stored /media/sf_VBox_Shared/timeseries/actitiracker/WISDM_at_v2.0/preprocessed/X_val y_val\n"
     ]
    }
   ],
   "source": [
    "import json\n",
    "\n",
    "outdatapath = '/media/sf_VBox_Shared/timeseries/actitiracker/WISDM_at_v2.0/preprocessed'\n",
    "\n",
    "tutorial_pamap2.numpify_and_store(X_train, y_train_binary, 'X_train', 'y_train', outdatapath, shuffle=True)\n",
    "tutorial_pamap2.numpify_and_store(X_test, y_test_binary, 'X_test', 'y_test', outdatapath, shuffle=True)\n",
    "tutorial_pamap2.numpify_and_store(X_val, y_val_binary, 'X_val', 'y_val', outdatapath, shuffle=True)"
   ]
  },
  {
   "cell_type": "code",
   "execution_count": 198,
   "metadata": {
    "collapsed": false
   },
   "outputs": [],
   "source": [
    "with open(os.path.join(outdatapath, 'labels.json'), 'w') as fp:\n",
    "    json.dump(labels, fp)"
   ]
  },
  {
   "cell_type": "code",
   "execution_count": null,
   "metadata": {
    "collapsed": true
   },
   "outputs": [],
   "source": []
  }
 ],
 "metadata": {
  "anaconda-cloud": {},
  "kernelspec": {
   "display_name": "Python [conda env:mcfly]",
   "language": "python",
   "name": "conda-env-mcfly-py"
  },
  "language_info": {
   "codemirror_mode": {
    "name": "ipython",
    "version": 3
   },
   "file_extension": ".py",
   "mimetype": "text/x-python",
   "name": "python",
   "nbconvert_exporter": "python",
   "pygments_lexer": "ipython3",
   "version": "3.5.2"
  }
 },
 "nbformat": 4,
 "nbformat_minor": 0
}
