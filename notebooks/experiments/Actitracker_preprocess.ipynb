{
 "cells": [
  {
   "cell_type": "code",
   "execution_count": 15,
   "metadata": {
    "collapsed": false
   },
   "outputs": [],
   "source": [
    "%matplotlib inline\n",
    "import pandas as pd\n",
    "import numpy as np\n",
    "import os\n",
    "import sys\n",
    "sys.path.insert(0, os.path.abspath('../..'))\n",
    "from utils import tutorial_pamap2"
   ]
  },
  {
   "cell_type": "markdown",
   "metadata": {},
   "source": [
    "# WISDM actitracker data set\n",
    "This data set is downloaded from http://www.cis.fordham.edu/wisdm/dataset.php"
   ]
  },
  {
   "cell_type": "code",
   "execution_count": 2,
   "metadata": {
    "collapsed": false
   },
   "outputs": [],
   "source": [
    "# datapath = '/media/sf_VBox_Shared/timeseries/actitiracker/WISDM_at_v2.0/'\n",
    "# dfile = os.path.join(datapath, 'WISDM_at_v2.0_raw.txt')\n",
    "datapath = '/media/sf_VBox_Shared/timeseries/actitiracker/WISDM_ar_v1.1/'\n",
    "dfile = os.path.join(datapath, 'WISDM_ar_v1.1_raw_1.txt')"
   ]
  },
  {
   "cell_type": "code",
   "execution_count": 3,
   "metadata": {
    "collapsed": true
   },
   "outputs": [],
   "source": [
    "column_names = ['user','activity','timestamp', 'x-acc', 'y-acc', 'z-acc']\n",
    "df_full = pd.read_csv(dfile, header=None, sep=',', names=column_names, na_values=';')\n",
    "\n",
    "df_full['z-acc'] = [float(str(s).split(';')[0]) for s in df_full['z-acc']]\n",
    "df_full = df_full.dropna()\n",
    "\n",
    "#df_full['timestamp'] = df_full['timestamp'].astype('int')\n",
    "#df_full = df_full[df_full['timestamp']>=0]\n",
    "#df_full = df_full[df_full['timestamp']<=9e12]"
   ]
  },
  {
   "cell_type": "code",
   "execution_count": 4,
   "metadata": {
    "collapsed": false
   },
   "outputs": [],
   "source": [
    "df_full['datetime'] = pd.to_datetime(df_full.timestamp, unit='ns', errors='coerce')"
   ]
  },
  {
   "cell_type": "code",
   "execution_count": 5,
   "metadata": {
    "collapsed": false
   },
   "outputs": [],
   "source": [
    "df_full = df_full.sort_values(['user', 'timestamp'])"
   ]
  },
  {
   "cell_type": "code",
   "execution_count": 6,
   "metadata": {
    "collapsed": false
   },
   "outputs": [
    {
     "data": {
      "text/html": [
       "<div>\n",
       "<style>\n",
       "    .dataframe thead tr:only-child th {\n",
       "        text-align: right;\n",
       "    }\n",
       "\n",
       "    .dataframe thead th {\n",
       "        text-align: left;\n",
       "    }\n",
       "\n",
       "    .dataframe tbody tr th {\n",
       "        vertical-align: top;\n",
       "    }\n",
       "</style>\n",
       "<table border=\"1\" class=\"dataframe\">\n",
       "  <thead>\n",
       "    <tr style=\"text-align: right;\">\n",
       "      <th></th>\n",
       "      <th>user</th>\n",
       "      <th>activity</th>\n",
       "      <th>timestamp</th>\n",
       "      <th>x-acc</th>\n",
       "      <th>y-acc</th>\n",
       "      <th>z-acc</th>\n",
       "      <th>datetime</th>\n",
       "    </tr>\n",
       "  </thead>\n",
       "  <tbody>\n",
       "    <tr>\n",
       "      <th>941960</th>\n",
       "      <td>1</td>\n",
       "      <td>Walking</td>\n",
       "      <td>4991922345000</td>\n",
       "      <td>0.69</td>\n",
       "      <td>10.80</td>\n",
       "      <td>-2.03</td>\n",
       "      <td>1970-01-01 01:23:11.922345</td>\n",
       "    </tr>\n",
       "    <tr>\n",
       "      <th>941961</th>\n",
       "      <td>1</td>\n",
       "      <td>Walking</td>\n",
       "      <td>4991972333000</td>\n",
       "      <td>6.85</td>\n",
       "      <td>7.44</td>\n",
       "      <td>-0.50</td>\n",
       "      <td>1970-01-01 01:23:11.972333</td>\n",
       "    </tr>\n",
       "    <tr>\n",
       "      <th>941962</th>\n",
       "      <td>1</td>\n",
       "      <td>Walking</td>\n",
       "      <td>4992022351000</td>\n",
       "      <td>0.93</td>\n",
       "      <td>5.63</td>\n",
       "      <td>-0.50</td>\n",
       "      <td>1970-01-01 01:23:12.022351</td>\n",
       "    </tr>\n",
       "    <tr>\n",
       "      <th>941963</th>\n",
       "      <td>1</td>\n",
       "      <td>Walking</td>\n",
       "      <td>4992072339000</td>\n",
       "      <td>-2.11</td>\n",
       "      <td>5.01</td>\n",
       "      <td>-0.69</td>\n",
       "      <td>1970-01-01 01:23:12.072339</td>\n",
       "    </tr>\n",
       "    <tr>\n",
       "      <th>941964</th>\n",
       "      <td>1</td>\n",
       "      <td>Walking</td>\n",
       "      <td>4992122358000</td>\n",
       "      <td>-4.59</td>\n",
       "      <td>4.29</td>\n",
       "      <td>-1.95</td>\n",
       "      <td>1970-01-01 01:23:12.122358</td>\n",
       "    </tr>\n",
       "  </tbody>\n",
       "</table>\n",
       "</div>"
      ],
      "text/plain": [
       "        user activity      timestamp  x-acc  y-acc  z-acc  \\\n",
       "941960     1  Walking  4991922345000   0.69  10.80  -2.03   \n",
       "941961     1  Walking  4991972333000   6.85   7.44  -0.50   \n",
       "941962     1  Walking  4992022351000   0.93   5.63  -0.50   \n",
       "941963     1  Walking  4992072339000  -2.11   5.01  -0.69   \n",
       "941964     1  Walking  4992122358000  -4.59   4.29  -1.95   \n",
       "\n",
       "                         datetime  \n",
       "941960 1970-01-01 01:23:11.922345  \n",
       "941961 1970-01-01 01:23:11.972333  \n",
       "941962 1970-01-01 01:23:12.022351  \n",
       "941963 1970-01-01 01:23:12.072339  \n",
       "941964 1970-01-01 01:23:12.122358  "
      ]
     },
     "execution_count": 6,
     "metadata": {},
     "output_type": "execute_result"
    }
   ],
   "source": [
    "df_full.head()"
   ]
  },
  {
   "cell_type": "code",
   "execution_count": 7,
   "metadata": {
    "collapsed": false
   },
   "outputs": [
    {
     "data": {
      "text/plain": [
       "(1098203, 7)"
      ]
     },
     "execution_count": 7,
     "metadata": {},
     "output_type": "execute_result"
    }
   ],
   "source": [
    "df_full.shape"
   ]
  },
  {
   "cell_type": "code",
   "execution_count": 8,
   "metadata": {
    "collapsed": false
   },
   "outputs": [
    {
     "data": {
      "text/plain": [
       "array(['Walking', 'Jogging', 'Upstairs', 'Downstairs', 'Sitting',\n",
       "       'Standing'], dtype=object)"
      ]
     },
     "execution_count": 8,
     "metadata": {},
     "output_type": "execute_result"
    }
   ],
   "source": [
    "df_full['activity'].unique()"
   ]
  },
  {
   "cell_type": "code",
   "execution_count": 9,
   "metadata": {
    "collapsed": false
   },
   "outputs": [
    {
     "data": {
      "text/html": [
       "<div>\n",
       "<style>\n",
       "    .dataframe thead tr:only-child th {\n",
       "        text-align: right;\n",
       "    }\n",
       "\n",
       "    .dataframe thead th {\n",
       "        text-align: left;\n",
       "    }\n",
       "\n",
       "    .dataframe tbody tr th {\n",
       "        vertical-align: top;\n",
       "    }\n",
       "</style>\n",
       "<table border=\"1\" class=\"dataframe\">\n",
       "  <thead>\n",
       "    <tr style=\"text-align: right;\">\n",
       "      <th></th>\n",
       "      <th>user</th>\n",
       "      <th>timestamp</th>\n",
       "      <th>x-acc</th>\n",
       "      <th>y-acc</th>\n",
       "      <th>z-acc</th>\n",
       "    </tr>\n",
       "  </thead>\n",
       "  <tbody>\n",
       "    <tr>\n",
       "      <th>count</th>\n",
       "      <td>1.098203e+06</td>\n",
       "      <td>1.098203e+06</td>\n",
       "      <td>1.098203e+06</td>\n",
       "      <td>1.098203e+06</td>\n",
       "      <td>1.098203e+06</td>\n",
       "    </tr>\n",
       "    <tr>\n",
       "      <th>mean</th>\n",
       "      <td>1.886067e+01</td>\n",
       "      <td>3.340910e+13</td>\n",
       "      <td>6.628645e-01</td>\n",
       "      <td>7.255642e+00</td>\n",
       "      <td>4.110616e-01</td>\n",
       "    </tr>\n",
       "    <tr>\n",
       "      <th>std</th>\n",
       "      <td>1.021423e+01</td>\n",
       "      <td>4.944968e+13</td>\n",
       "      <td>6.849060e+00</td>\n",
       "      <td>6.746207e+00</td>\n",
       "      <td>4.754109e+00</td>\n",
       "    </tr>\n",
       "    <tr>\n",
       "      <th>min</th>\n",
       "      <td>1.000000e+00</td>\n",
       "      <td>0.000000e+00</td>\n",
       "      <td>-1.961000e+01</td>\n",
       "      <td>-1.961000e+01</td>\n",
       "      <td>-1.980000e+01</td>\n",
       "    </tr>\n",
       "    <tr>\n",
       "      <th>25%</th>\n",
       "      <td>1.000000e+01</td>\n",
       "      <td>2.019128e+12</td>\n",
       "      <td>-2.870000e+00</td>\n",
       "      <td>3.170000e+00</td>\n",
       "      <td>-2.220000e+00</td>\n",
       "    </tr>\n",
       "    <tr>\n",
       "      <th>50%</th>\n",
       "      <td>1.900000e+01</td>\n",
       "      <td>9.722802e+12</td>\n",
       "      <td>2.700000e-01</td>\n",
       "      <td>7.930000e+00</td>\n",
       "      <td>0.000000e+00</td>\n",
       "    </tr>\n",
       "    <tr>\n",
       "      <th>75%</th>\n",
       "      <td>2.800000e+01</td>\n",
       "      <td>4.996572e+13</td>\n",
       "      <td>4.440000e+00</td>\n",
       "      <td>1.156000e+01</td>\n",
       "      <td>2.720000e+00</td>\n",
       "    </tr>\n",
       "    <tr>\n",
       "      <th>max</th>\n",
       "      <td>3.600000e+01</td>\n",
       "      <td>2.093974e+14</td>\n",
       "      <td>1.995000e+01</td>\n",
       "      <td>2.004000e+01</td>\n",
       "      <td>1.961000e+01</td>\n",
       "    </tr>\n",
       "  </tbody>\n",
       "</table>\n",
       "</div>"
      ],
      "text/plain": [
       "               user     timestamp         x-acc         y-acc         z-acc\n",
       "count  1.098203e+06  1.098203e+06  1.098203e+06  1.098203e+06  1.098203e+06\n",
       "mean   1.886067e+01  3.340910e+13  6.628645e-01  7.255642e+00  4.110616e-01\n",
       "std    1.021423e+01  4.944968e+13  6.849060e+00  6.746207e+00  4.754109e+00\n",
       "min    1.000000e+00  0.000000e+00 -1.961000e+01 -1.961000e+01 -1.980000e+01\n",
       "25%    1.000000e+01  2.019128e+12 -2.870000e+00  3.170000e+00 -2.220000e+00\n",
       "50%    1.900000e+01  9.722802e+12  2.700000e-01  7.930000e+00  0.000000e+00\n",
       "75%    2.800000e+01  4.996572e+13  4.440000e+00  1.156000e+01  2.720000e+00\n",
       "max    3.600000e+01  2.093974e+14  1.995000e+01  2.004000e+01  1.961000e+01"
      ]
     },
     "execution_count": 9,
     "metadata": {},
     "output_type": "execute_result"
    }
   ],
   "source": [
    "df_full.describe()"
   ]
  },
  {
   "cell_type": "code",
   "execution_count": 10,
   "metadata": {
    "collapsed": false
   },
   "outputs": [
    {
     "data": {
      "text/plain": [
       "36"
      ]
     },
     "execution_count": 10,
     "metadata": {},
     "output_type": "execute_result"
    }
   ],
   "source": [
    "df_full['user'].nunique()"
   ]
  },
  {
   "cell_type": "code",
   "execution_count": 11,
   "metadata": {
    "collapsed": false
   },
   "outputs": [],
   "source": [
    "# A new block of data starts with a new user, or a leap in the time step\n",
    "df_full['timediff'] = df_full['datetime'].diff()\n",
    "df_full['newblock'] = False\n",
    "df_full['newuser'] = False\n",
    "df_full.loc[df_full['timediff'] > pd.Timedelta('1s'), 'newblock'] = True\n",
    "df_full.loc[df_full['timediff'] < pd.Timedelta('20ms'), 'newblock'] = True\n",
    "df_full.loc[df_full['user'].diff()!=0, 'newuser'] = True"
   ]
  },
  {
   "cell_type": "code",
   "execution_count": 12,
   "metadata": {
    "collapsed": false
   },
   "outputs": [
    {
     "data": {
      "text/plain": [
       "67630"
      ]
     },
     "execution_count": 12,
     "metadata": {},
     "output_type": "execute_result"
    }
   ],
   "source": [
    "# How many strange leaps do we have?\n",
    "df_full['newblock'].sum()"
   ]
  },
  {
   "cell_type": "code",
   "execution_count": 13,
   "metadata": {
    "collapsed": false
   },
   "outputs": [
    {
     "data": {
      "text/html": [
       "<div>\n",
       "<style>\n",
       "    .dataframe thead tr:only-child th {\n",
       "        text-align: right;\n",
       "    }\n",
       "\n",
       "    .dataframe thead th {\n",
       "        text-align: left;\n",
       "    }\n",
       "\n",
       "    .dataframe tbody tr th {\n",
       "        vertical-align: top;\n",
       "    }\n",
       "</style>\n",
       "<table border=\"1\" class=\"dataframe\">\n",
       "  <thead>\n",
       "    <tr style=\"text-align: right;\">\n",
       "      <th></th>\n",
       "      <th>user</th>\n",
       "      <th>activity</th>\n",
       "      <th>timestamp</th>\n",
       "      <th>x-acc</th>\n",
       "      <th>y-acc</th>\n",
       "      <th>z-acc</th>\n",
       "      <th>datetime</th>\n",
       "      <th>timediff</th>\n",
       "      <th>newblock</th>\n",
       "      <th>newuser</th>\n",
       "    </tr>\n",
       "  </thead>\n",
       "  <tbody>\n",
       "    <tr>\n",
       "      <th>942094</th>\n",
       "      <td>1</td>\n",
       "      <td>Walking</td>\n",
       "      <td>4998592298000</td>\n",
       "      <td>-0.99</td>\n",
       "      <td>15.75</td>\n",
       "      <td>-1.23</td>\n",
       "      <td>1970-01-01 01:23:18.592298</td>\n",
       "      <td>0 days</td>\n",
       "      <td>True</td>\n",
       "      <td>False</td>\n",
       "    </tr>\n",
       "    <tr>\n",
       "      <th>942143</th>\n",
       "      <td>1</td>\n",
       "      <td>Walking</td>\n",
       "      <td>5001062177000</td>\n",
       "      <td>9.19</td>\n",
       "      <td>10.08</td>\n",
       "      <td>-0.08</td>\n",
       "      <td>1970-01-01 01:23:21.062177</td>\n",
       "      <td>0 days</td>\n",
       "      <td>True</td>\n",
       "      <td>False</td>\n",
       "    </tr>\n",
       "    <tr>\n",
       "      <th>942243</th>\n",
       "      <td>1</td>\n",
       "      <td>Walking</td>\n",
       "      <td>5006032331000</td>\n",
       "      <td>3.95</td>\n",
       "      <td>5.52</td>\n",
       "      <td>-1.57</td>\n",
       "      <td>1970-01-01 01:23:26.032331</td>\n",
       "      <td>0 days</td>\n",
       "      <td>True</td>\n",
       "      <td>False</td>\n",
       "    </tr>\n",
       "    <tr>\n",
       "      <th>942293</th>\n",
       "      <td>1</td>\n",
       "      <td>Walking</td>\n",
       "      <td>5008562146000</td>\n",
       "      <td>1.08</td>\n",
       "      <td>1.08</td>\n",
       "      <td>-1.33</td>\n",
       "      <td>1970-01-01 01:23:28.562146</td>\n",
       "      <td>0 days</td>\n",
       "      <td>True</td>\n",
       "      <td>False</td>\n",
       "    </tr>\n",
       "    <tr>\n",
       "      <th>942527</th>\n",
       "      <td>1</td>\n",
       "      <td>Walking</td>\n",
       "      <td>5020242292000</td>\n",
       "      <td>8.28</td>\n",
       "      <td>11.41</td>\n",
       "      <td>0.00</td>\n",
       "      <td>1970-01-01 01:23:40.242292</td>\n",
       "      <td>0 days</td>\n",
       "      <td>True</td>\n",
       "      <td>False</td>\n",
       "    </tr>\n",
       "  </tbody>\n",
       "</table>\n",
       "</div>"
      ],
      "text/plain": [
       "        user activity      timestamp  x-acc  y-acc  z-acc  \\\n",
       "942094     1  Walking  4998592298000  -0.99  15.75  -1.23   \n",
       "942143     1  Walking  5001062177000   9.19  10.08  -0.08   \n",
       "942243     1  Walking  5006032331000   3.95   5.52  -1.57   \n",
       "942293     1  Walking  5008562146000   1.08   1.08  -1.33   \n",
       "942527     1  Walking  5020242292000   8.28  11.41   0.00   \n",
       "\n",
       "                         datetime timediff  newblock  newuser  \n",
       "942094 1970-01-01 01:23:18.592298   0 days      True    False  \n",
       "942143 1970-01-01 01:23:21.062177   0 days      True    False  \n",
       "942243 1970-01-01 01:23:26.032331   0 days      True    False  \n",
       "942293 1970-01-01 01:23:28.562146   0 days      True    False  \n",
       "942527 1970-01-01 01:23:40.242292   0 days      True    False  "
      ]
     },
     "execution_count": 13,
     "metadata": {},
     "output_type": "execute_result"
    }
   ],
   "source": [
    "# examples of leaps\n",
    "df_full[df_full['newblock'] & ~df_full['newuser']].head()"
   ]
  },
  {
   "cell_type": "code",
   "execution_count": 16,
   "metadata": {
    "collapsed": false
   },
   "outputs": [],
   "source": [
    "X_dict = {}\n",
    "for user in df_full['user'].unique():\n",
    "    X_df =  df_full[df_full['user']==user]\n",
    "    X = X_df[['x-acc', 'y-acc', 'z-acc']].as_matrix()\n",
    "    labels = X_df['activity'].as_matrix()\n",
    "    Xlist, ylist = tutorial_pamap2.split_activities(labels, \n",
    "                    X,\n",
    "                    [], \n",
    "                    borders=0)\n",
    "    X_dict[user] = (Xlist, ylist)"
   ]
  },
  {
   "cell_type": "code",
   "execution_count": 17,
   "metadata": {
    "collapsed": false
   },
   "outputs": [],
   "source": [
    "frame_length = 10 * 50 # 10 seconds\n",
    "step = 10 * 50 # 1 second\n",
    "\n",
    "sample_dict = {}\n",
    "for user in X_dict:\n",
    "    Xlist, ylist = X_dict[user]\n",
    "    X_sample_list, y_sample_list = tutorial_pamap2.sliding_window(frame_length, step, Xlist, ylist)\n",
    "    if len(X_sample_list) > 0:\n",
    "        X = np.array(X_sample_list)\n",
    "        y = np.array(y_sample_list)\n",
    "        sample_dict[user] = X, y"
   ]
  },
  {
   "cell_type": "code",
   "execution_count": 18,
   "metadata": {
    "collapsed": false
   },
   "outputs": [],
   "source": [
    "userids = np.array(list(sample_dict.keys()))\n",
    "nr_users = len(userids)\n",
    "nr_users_test = int(nr_users*0.1)\n",
    "nr_users_val = int(nr_users*0.1)"
   ]
  },
  {
   "cell_type": "code",
   "execution_count": 19,
   "metadata": {
    "collapsed": false
   },
   "outputs": [
    {
     "name": "stdout",
     "output_type": "stream",
     "text": [
      "train: 30, test: 3, val: 3\n"
     ]
    }
   ],
   "source": [
    "neworder = np.random.permutation(nr_users)\n",
    "userids = userids[neworder]\n",
    "\n",
    "train_userids = userids[:-(nr_users_test+nr_users_val)]\n",
    "test_userids = userids[-(nr_users_test+nr_users_val):-nr_users_val]\n",
    "val_userids = userids[-nr_users_val:]\n",
    "print('train: {}, test: {}, val: {}'.format(len(train_userids), len(test_userids), len(val_userids)))"
   ]
  },
  {
   "cell_type": "code",
   "execution_count": 20,
   "metadata": {
    "collapsed": true
   },
   "outputs": [],
   "source": [
    "X_train = np.concatenate([sample_dict[userid][0] for userid in train_userids])\n",
    "y_train = np.concatenate([sample_dict[userid][1] for userid in train_userids])\n",
    "X_test = np.concatenate([sample_dict[userid][0] for userid in test_userids])\n",
    "y_test = np.concatenate([sample_dict[userid][1] for userid in test_userids])\n",
    "X_val = np.concatenate([sample_dict[userid][0] for userid in val_userids])\n",
    "y_val = np.concatenate([sample_dict[userid][1] for userid in val_userids])"
   ]
  },
  {
   "cell_type": "code",
   "execution_count": 21,
   "metadata": {
    "collapsed": false
   },
   "outputs": [],
   "source": [
    "labels = list(df_full['activity'].unique().astype('unicode'))\n",
    "mapclasses = {labels[i]: i for i in range(len(labels))}\n",
    "\n",
    "y_train_binary = tutorial_pamap2.transform_y(y_train, mapclasses, len(labels))\n",
    "y_test_binary = tutorial_pamap2.transform_y(y_test, mapclasses, len(labels))\n",
    "y_val_binary = tutorial_pamap2.transform_y(y_val, mapclasses, len(labels))"
   ]
  },
  {
   "cell_type": "code",
   "execution_count": 22,
   "metadata": {
    "collapsed": false
   },
   "outputs": [
    {
     "data": {
      "text/plain": [
       "((1724, 500, 3), (1724, 6), (118, 500, 3), (118, 6), (160, 500, 3), (160, 6))"
      ]
     },
     "execution_count": 22,
     "metadata": {},
     "output_type": "execute_result"
    }
   ],
   "source": [
    "X_train.shape, y_train_binary.shape, X_test.shape, y_test_binary.shape, X_val.shape, y_val_binary.shape"
   ]
  },
  {
   "cell_type": "code",
   "execution_count": 23,
   "metadata": {
    "collapsed": false
   },
   "outputs": [
    {
     "data": {
      "text/plain": [
       "2002"
      ]
     },
     "execution_count": 23,
     "metadata": {},
     "output_type": "execute_result"
    }
   ],
   "source": [
    "X_train.shape[0] + X_test.shape[0] + X_val.shape[0]"
   ]
  },
  {
   "cell_type": "code",
   "execution_count": null,
   "metadata": {
    "collapsed": false
   },
   "outputs": [],
   "source": [
    "import json\n",
    "\n",
    "outdatapath = os.path.join(datapath,'preprocessed')\n",
    "\n",
    "tutorial_pamap2.numpify_and_store(X_train, y_train_binary, 'X_train', 'y_train', outdatapath, shuffle=True)\n",
    "tutorial_pamap2.numpify_and_store(X_test, y_test_binary, 'X_test', 'y_test', outdatapath, shuffle=True)\n",
    "tutorial_pamap2.numpify_and_store(X_val, y_val_binary, 'X_val', 'y_val', outdatapath, shuffle=True)"
   ]
  },
  {
   "cell_type": "code",
   "execution_count": null,
   "metadata": {
    "collapsed": false
   },
   "outputs": [],
   "source": [
    "with open(os.path.join(outdatapath, 'labels.json'), 'w') as fp:\n",
    "    json.dump(labels, fp)"
   ]
  },
  {
   "cell_type": "code",
   "execution_count": null,
   "metadata": {
    "collapsed": true
   },
   "outputs": [],
   "source": []
  }
 ],
 "metadata": {
  "anaconda-cloud": {},
  "kernelspec": {
   "display_name": "Python [conda env:mcfly]",
   "language": "python",
   "name": "conda-env-mcfly-py"
  },
  "language_info": {
   "codemirror_mode": {
    "name": "ipython",
    "version": 3
   },
   "file_extension": ".py",
   "mimetype": "text/x-python",
   "name": "python",
   "nbconvert_exporter": "python",
   "pygments_lexer": "ipython3",
   "version": "3.5.2"
  }
 },
 "nbformat": 4,
 "nbformat_minor": 0
}
