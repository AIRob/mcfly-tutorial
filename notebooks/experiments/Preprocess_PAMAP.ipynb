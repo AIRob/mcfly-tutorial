{
 "cells": [
  {
   "cell_type": "code",
   "execution_count": 19,
   "metadata": {
    "collapsed": false
   },
   "outputs": [
    {
     "name": "stdout",
     "output_type": "stream",
     "text": [
      "The autoreload extension is already loaded. To reload it, use:\n",
      "  %reload_ext autoreload\n"
     ]
    }
   ],
   "source": [
    "%load_ext autoreload\n",
    "%autoreload 2\n",
    "import sys\n",
    "import os\n",
    "sys.path.insert(0, os.path.abspath('../..'))\n",
    "import numpy as np\n",
    "import pandas as pd\n",
    "# mcfly\n",
    "from mcfly import modelgen, find_architecture, storage\n",
    "from utils import tutorial_pamap2\n",
    "import json"
   ]
  },
  {
   "cell_type": "code",
   "execution_count": 20,
   "metadata": {
    "collapsed": false
   },
   "outputs": [],
   "source": [
    "# Specify in which directory you want to store the data:\n",
    "data_dir = \"/media/sf_VBox_Shared/timeseries/PAMAP_Dataset/\"\n",
    "outputdir = os.path.join(data_dir, \"cleaned_7act\")\n",
    "if not os.path.exists(outputdir):\n",
    "    os.makedirs(outputdir)"
   ]
  },
  {
   "cell_type": "code",
   "execution_count": 21,
   "metadata": {
    "collapsed": true
   },
   "outputs": [],
   "source": [
    "columns_to_use = ['hand_acc_16g_x', 'hand_acc_16g_y', 'hand_acc_16g_z',\n",
    "                          'ankle_acc_16g_x', 'ankle_acc_16g_y', 'ankle_acc_16g_z',\n",
    "                          'chest_acc_16g_x', 'chest_acc_16g_y', 'chest_acc_16g_z']"
   ]
  },
  {
   "cell_type": "code",
   "execution_count": 22,
   "metadata": {
    "collapsed": false
   },
   "outputs": [
    {
     "data": {
      "text/plain": [
       "45"
      ]
     },
     "execution_count": 22,
     "metadata": {},
     "output_type": "execute_result"
    }
   ],
   "source": [
    "def get_header_pamap():\n",
    "    axes = ['x', 'y', 'z']\n",
    "    IMUsensor_columns = ['temperature'] + \\\n",
    "        ['acc_' + i for i in axes] + \\\n",
    "        ['gyroscope_' + i for i in axes] + \\\n",
    "        ['magnometer_' + i for i in axes] + \\\n",
    "        ['orientation_' + str(i) for i in range(4)]\n",
    "    header = [\"timestamp\", \"activityID\", \"heartrate\"] + [\"hand_\" + s\n",
    "                                                         for s in IMUsensor_columns] \\\n",
    "        + [\"chest_\" + s for s in IMUsensor_columns] + [\"ankle_\" + s\n",
    "                                                       for s in IMUsensor_columns]\n",
    "    return header\n",
    "\n",
    "len(get_header_pamap())"
   ]
  },
  {
   "cell_type": "code",
   "execution_count": 23,
   "metadata": {
    "collapsed": false
   },
   "outputs": [],
   "source": [
    "example_file_pamap = os.path.join(targetdir, 'PAMAP_Dataset/Indoor/subject1.dat')\n",
    "example_pamap = pd.read_csv(example_file_pamap, header=None, sep=' ')\n",
    "example_pamap.columns = get_header_pamap()\n",
    "\n",
    "example_file_pamap2 = os.path.join('/media/sf_VBox_Shared/timeseries/PAMAP2_Dataset/Protocol/subject101.dat')\n",
    "example_pamap2 = pd.read_csv(example_file_pamap2, header=None, sep=' ')\n",
    "example_pamap2.columns = tutorial_pamap2.get_header()"
   ]
  },
  {
   "cell_type": "code",
   "execution_count": 24,
   "metadata": {
    "collapsed": false
   },
   "outputs": [
    {
     "data": {
      "text/plain": [
       "((198000, 45), (376417, 54))"
      ]
     },
     "execution_count": 24,
     "metadata": {},
     "output_type": "execute_result"
    }
   ],
   "source": [
    "example_pamap.shape, example_pamap2.shape"
   ]
  },
  {
   "cell_type": "markdown",
   "metadata": {},
   "source": [
    "Data format – each of the dat-files contains 45 columns per row – the columns contain the following data: \n",
    "– 1 timestamp (s) \n",
    "– 2 activityID (see below) \n",
    "– 3 heart rate (bpm) \n",
    "– 4-17 IMU hand \n",
    "– 18-31 IMU chest \n",
    "– 32-45 IMU shoe \n",
    "– IMU sensor data contains following columns: \n",
    " – 1 temperature (°C) \n",
    " – 2-4 3D-acceleration (ms-2) \n",
    " – 5-7 3D-gyroscope (rad/s) \n",
    " – 8-10 3D-magnetometer (μT) \n",
    " – 11-14 orientation (turned off during this data collection)"
   ]
  },
  {
   "cell_type": "code",
   "execution_count": 25,
   "metadata": {
    "collapsed": false
   },
   "outputs": [
    {
     "data": {
      "text/html": [
       "<div>\n",
       "<style>\n",
       "    .dataframe thead tr:only-child th {\n",
       "        text-align: right;\n",
       "    }\n",
       "\n",
       "    .dataframe thead th {\n",
       "        text-align: left;\n",
       "    }\n",
       "\n",
       "    .dataframe tbody tr th {\n",
       "        vertical-align: top;\n",
       "    }\n",
       "</style>\n",
       "<table border=\"1\" class=\"dataframe\">\n",
       "  <thead>\n",
       "    <tr style=\"text-align: right;\">\n",
       "      <th></th>\n",
       "      <th>timestamp</th>\n",
       "      <th>activityID</th>\n",
       "      <th>heartrate</th>\n",
       "      <th>hand_temperature</th>\n",
       "      <th>hand_acc_x</th>\n",
       "      <th>hand_acc_y</th>\n",
       "      <th>hand_acc_z</th>\n",
       "      <th>hand_gyroscope_x</th>\n",
       "      <th>hand_gyroscope_y</th>\n",
       "      <th>hand_gyroscope_z</th>\n",
       "      <th>...</th>\n",
       "      <th>ankle_gyroscope_x</th>\n",
       "      <th>ankle_gyroscope_y</th>\n",
       "      <th>ankle_gyroscope_z</th>\n",
       "      <th>ankle_magnometer_x</th>\n",
       "      <th>ankle_magnometer_y</th>\n",
       "      <th>ankle_magnometer_z</th>\n",
       "      <th>ankle_orientation_0</th>\n",
       "      <th>ankle_orientation_1</th>\n",
       "      <th>ankle_orientation_2</th>\n",
       "      <th>ankle_orientation_3</th>\n",
       "    </tr>\n",
       "  </thead>\n",
       "  <tbody>\n",
       "    <tr>\n",
       "      <th>0</th>\n",
       "      <td>0.01</td>\n",
       "      <td>0.0</td>\n",
       "      <td>53.0</td>\n",
       "      <td>29.62</td>\n",
       "      <td>6.16</td>\n",
       "      <td>1.92</td>\n",
       "      <td>6.85</td>\n",
       "      <td>0.06</td>\n",
       "      <td>-0.03</td>\n",
       "      <td>-0.02</td>\n",
       "      <td>...</td>\n",
       "      <td>0.07</td>\n",
       "      <td>-0.04</td>\n",
       "      <td>-0.00</td>\n",
       "      <td>-18.28</td>\n",
       "      <td>-12.12</td>\n",
       "      <td>-25.55</td>\n",
       "      <td>1.0</td>\n",
       "      <td>0.0</td>\n",
       "      <td>0.0</td>\n",
       "      <td>0.0</td>\n",
       "    </tr>\n",
       "    <tr>\n",
       "      <th>1</th>\n",
       "      <td>0.02</td>\n",
       "      <td>0.0</td>\n",
       "      <td>53.0</td>\n",
       "      <td>29.62</td>\n",
       "      <td>6.20</td>\n",
       "      <td>1.92</td>\n",
       "      <td>6.81</td>\n",
       "      <td>0.01</td>\n",
       "      <td>-0.00</td>\n",
       "      <td>-0.03</td>\n",
       "      <td>...</td>\n",
       "      <td>0.05</td>\n",
       "      <td>-0.03</td>\n",
       "      <td>0.02</td>\n",
       "      <td>-18.28</td>\n",
       "      <td>-12.12</td>\n",
       "      <td>-25.55</td>\n",
       "      <td>1.0</td>\n",
       "      <td>0.0</td>\n",
       "      <td>0.0</td>\n",
       "      <td>0.0</td>\n",
       "    </tr>\n",
       "    <tr>\n",
       "      <th>2</th>\n",
       "      <td>0.03</td>\n",
       "      <td>0.0</td>\n",
       "      <td>53.0</td>\n",
       "      <td>29.62</td>\n",
       "      <td>6.24</td>\n",
       "      <td>1.77</td>\n",
       "      <td>6.69</td>\n",
       "      <td>0.03</td>\n",
       "      <td>0.01</td>\n",
       "      <td>-0.01</td>\n",
       "      <td>...</td>\n",
       "      <td>0.05</td>\n",
       "      <td>-0.04</td>\n",
       "      <td>0.02</td>\n",
       "      <td>-18.28</td>\n",
       "      <td>-12.12</td>\n",
       "      <td>-25.55</td>\n",
       "      <td>1.0</td>\n",
       "      <td>0.0</td>\n",
       "      <td>0.0</td>\n",
       "      <td>0.0</td>\n",
       "    </tr>\n",
       "    <tr>\n",
       "      <th>3</th>\n",
       "      <td>0.04</td>\n",
       "      <td>0.0</td>\n",
       "      <td>53.0</td>\n",
       "      <td>29.62</td>\n",
       "      <td>6.31</td>\n",
       "      <td>1.92</td>\n",
       "      <td>7.01</td>\n",
       "      <td>0.03</td>\n",
       "      <td>-0.03</td>\n",
       "      <td>-0.00</td>\n",
       "      <td>...</td>\n",
       "      <td>0.02</td>\n",
       "      <td>-0.03</td>\n",
       "      <td>0.00</td>\n",
       "      <td>-18.28</td>\n",
       "      <td>-12.12</td>\n",
       "      <td>-25.55</td>\n",
       "      <td>1.0</td>\n",
       "      <td>0.0</td>\n",
       "      <td>0.0</td>\n",
       "      <td>0.0</td>\n",
       "    </tr>\n",
       "    <tr>\n",
       "      <th>4</th>\n",
       "      <td>0.05</td>\n",
       "      <td>0.0</td>\n",
       "      <td>53.0</td>\n",
       "      <td>29.62</td>\n",
       "      <td>6.12</td>\n",
       "      <td>1.96</td>\n",
       "      <td>6.81</td>\n",
       "      <td>0.05</td>\n",
       "      <td>-0.11</td>\n",
       "      <td>0.02</td>\n",
       "      <td>...</td>\n",
       "      <td>0.04</td>\n",
       "      <td>-0.01</td>\n",
       "      <td>0.00</td>\n",
       "      <td>-18.27</td>\n",
       "      <td>-12.13</td>\n",
       "      <td>-27.27</td>\n",
       "      <td>1.0</td>\n",
       "      <td>0.0</td>\n",
       "      <td>0.0</td>\n",
       "      <td>0.0</td>\n",
       "    </tr>\n",
       "  </tbody>\n",
       "</table>\n",
       "<p>5 rows × 45 columns</p>\n",
       "</div>"
      ],
      "text/plain": [
       "   timestamp  activityID  heartrate  hand_temperature  hand_acc_x  hand_acc_y  \\\n",
       "0       0.01         0.0       53.0             29.62        6.16        1.92   \n",
       "1       0.02         0.0       53.0             29.62        6.20        1.92   \n",
       "2       0.03         0.0       53.0             29.62        6.24        1.77   \n",
       "3       0.04         0.0       53.0             29.62        6.31        1.92   \n",
       "4       0.05         0.0       53.0             29.62        6.12        1.96   \n",
       "\n",
       "   hand_acc_z  hand_gyroscope_x  hand_gyroscope_y  hand_gyroscope_z  \\\n",
       "0        6.85              0.06             -0.03             -0.02   \n",
       "1        6.81              0.01             -0.00             -0.03   \n",
       "2        6.69              0.03              0.01             -0.01   \n",
       "3        7.01              0.03             -0.03             -0.00   \n",
       "4        6.81              0.05             -0.11              0.02   \n",
       "\n",
       "          ...           ankle_gyroscope_x  ankle_gyroscope_y  \\\n",
       "0         ...                        0.07              -0.04   \n",
       "1         ...                        0.05              -0.03   \n",
       "2         ...                        0.05              -0.04   \n",
       "3         ...                        0.02              -0.03   \n",
       "4         ...                        0.04              -0.01   \n",
       "\n",
       "   ankle_gyroscope_z  ankle_magnometer_x  ankle_magnometer_y  \\\n",
       "0              -0.00              -18.28              -12.12   \n",
       "1               0.02              -18.28              -12.12   \n",
       "2               0.02              -18.28              -12.12   \n",
       "3               0.00              -18.28              -12.12   \n",
       "4               0.00              -18.27              -12.13   \n",
       "\n",
       "   ankle_magnometer_z  ankle_orientation_0  ankle_orientation_1  \\\n",
       "0              -25.55                  1.0                  0.0   \n",
       "1              -25.55                  1.0                  0.0   \n",
       "2              -25.55                  1.0                  0.0   \n",
       "3              -25.55                  1.0                  0.0   \n",
       "4              -27.27                  1.0                  0.0   \n",
       "\n",
       "   ankle_orientation_2  ankle_orientation_3  \n",
       "0                  0.0                  0.0  \n",
       "1                  0.0                  0.0  \n",
       "2                  0.0                  0.0  \n",
       "3                  0.0                  0.0  \n",
       "4                  0.0                  0.0  \n",
       "\n",
       "[5 rows x 45 columns]"
      ]
     },
     "execution_count": 25,
     "metadata": {},
     "output_type": "execute_result"
    }
   ],
   "source": [
    "example_pamap.head()"
   ]
  },
  {
   "cell_type": "code",
   "execution_count": 26,
   "metadata": {
    "collapsed": false
   },
   "outputs": [
    {
     "data": {
      "text/html": [
       "<div>\n",
       "<style>\n",
       "    .dataframe thead tr:only-child th {\n",
       "        text-align: right;\n",
       "    }\n",
       "\n",
       "    .dataframe thead th {\n",
       "        text-align: left;\n",
       "    }\n",
       "\n",
       "    .dataframe tbody tr th {\n",
       "        vertical-align: top;\n",
       "    }\n",
       "</style>\n",
       "<table border=\"1\" class=\"dataframe\">\n",
       "  <thead>\n",
       "    <tr style=\"text-align: right;\">\n",
       "      <th></th>\n",
       "      <th>timestamp</th>\n",
       "      <th>activityID</th>\n",
       "      <th>heartrate</th>\n",
       "      <th>hand_temperature</th>\n",
       "      <th>hand_acc_16g_x</th>\n",
       "      <th>hand_acc_16g_y</th>\n",
       "      <th>hand_acc_16g_z</th>\n",
       "      <th>hand_acc_6g_x</th>\n",
       "      <th>hand_acc_6g_y</th>\n",
       "      <th>hand_acc_6g_z</th>\n",
       "      <th>...</th>\n",
       "      <th>ankle_gyroscope_x</th>\n",
       "      <th>ankle_gyroscope_y</th>\n",
       "      <th>ankle_gyroscope_z</th>\n",
       "      <th>ankle_magnometer_x</th>\n",
       "      <th>ankle_magnometer_y</th>\n",
       "      <th>ankle_magnometer_z</th>\n",
       "      <th>ankle_orientation_0</th>\n",
       "      <th>ankle_orientation_1</th>\n",
       "      <th>ankle_orientation_2</th>\n",
       "      <th>ankle_orientation_3</th>\n",
       "    </tr>\n",
       "  </thead>\n",
       "  <tbody>\n",
       "    <tr>\n",
       "      <th>0</th>\n",
       "      <td>8.38</td>\n",
       "      <td>0</td>\n",
       "      <td>104.0</td>\n",
       "      <td>30.0</td>\n",
       "      <td>2.37223</td>\n",
       "      <td>8.60074</td>\n",
       "      <td>3.51048</td>\n",
       "      <td>2.43954</td>\n",
       "      <td>8.76165</td>\n",
       "      <td>3.35465</td>\n",
       "      <td>...</td>\n",
       "      <td>0.008300</td>\n",
       "      <td>0.009250</td>\n",
       "      <td>-0.017580</td>\n",
       "      <td>-61.1888</td>\n",
       "      <td>-38.9599</td>\n",
       "      <td>-58.1438</td>\n",
       "      <td>1.0</td>\n",
       "      <td>0.0</td>\n",
       "      <td>0.0</td>\n",
       "      <td>0.0</td>\n",
       "    </tr>\n",
       "    <tr>\n",
       "      <th>1</th>\n",
       "      <td>8.39</td>\n",
       "      <td>0</td>\n",
       "      <td>NaN</td>\n",
       "      <td>30.0</td>\n",
       "      <td>2.18837</td>\n",
       "      <td>8.56560</td>\n",
       "      <td>3.66179</td>\n",
       "      <td>2.39494</td>\n",
       "      <td>8.55081</td>\n",
       "      <td>3.64207</td>\n",
       "      <td>...</td>\n",
       "      <td>-0.006577</td>\n",
       "      <td>-0.004638</td>\n",
       "      <td>0.000368</td>\n",
       "      <td>-59.8479</td>\n",
       "      <td>-38.8919</td>\n",
       "      <td>-58.5253</td>\n",
       "      <td>1.0</td>\n",
       "      <td>0.0</td>\n",
       "      <td>0.0</td>\n",
       "      <td>0.0</td>\n",
       "    </tr>\n",
       "    <tr>\n",
       "      <th>2</th>\n",
       "      <td>8.40</td>\n",
       "      <td>0</td>\n",
       "      <td>NaN</td>\n",
       "      <td>30.0</td>\n",
       "      <td>2.37357</td>\n",
       "      <td>8.60107</td>\n",
       "      <td>3.54898</td>\n",
       "      <td>2.30514</td>\n",
       "      <td>8.53644</td>\n",
       "      <td>3.73280</td>\n",
       "      <td>...</td>\n",
       "      <td>0.003014</td>\n",
       "      <td>0.000148</td>\n",
       "      <td>0.022495</td>\n",
       "      <td>-60.7361</td>\n",
       "      <td>-39.4138</td>\n",
       "      <td>-58.3999</td>\n",
       "      <td>1.0</td>\n",
       "      <td>0.0</td>\n",
       "      <td>0.0</td>\n",
       "      <td>0.0</td>\n",
       "    </tr>\n",
       "    <tr>\n",
       "      <th>3</th>\n",
       "      <td>8.41</td>\n",
       "      <td>0</td>\n",
       "      <td>NaN</td>\n",
       "      <td>30.0</td>\n",
       "      <td>2.07473</td>\n",
       "      <td>8.52853</td>\n",
       "      <td>3.66021</td>\n",
       "      <td>2.33528</td>\n",
       "      <td>8.53622</td>\n",
       "      <td>3.73277</td>\n",
       "      <td>...</td>\n",
       "      <td>0.003175</td>\n",
       "      <td>-0.020301</td>\n",
       "      <td>0.011275</td>\n",
       "      <td>-60.4091</td>\n",
       "      <td>-38.7635</td>\n",
       "      <td>-58.3956</td>\n",
       "      <td>1.0</td>\n",
       "      <td>0.0</td>\n",
       "      <td>0.0</td>\n",
       "      <td>0.0</td>\n",
       "    </tr>\n",
       "    <tr>\n",
       "      <th>4</th>\n",
       "      <td>8.42</td>\n",
       "      <td>0</td>\n",
       "      <td>NaN</td>\n",
       "      <td>30.0</td>\n",
       "      <td>2.22936</td>\n",
       "      <td>8.83122</td>\n",
       "      <td>3.70000</td>\n",
       "      <td>2.23055</td>\n",
       "      <td>8.59741</td>\n",
       "      <td>3.76295</td>\n",
       "      <td>...</td>\n",
       "      <td>0.012698</td>\n",
       "      <td>-0.014303</td>\n",
       "      <td>-0.002823</td>\n",
       "      <td>-61.5199</td>\n",
       "      <td>-39.3879</td>\n",
       "      <td>-58.2694</td>\n",
       "      <td>1.0</td>\n",
       "      <td>0.0</td>\n",
       "      <td>0.0</td>\n",
       "      <td>0.0</td>\n",
       "    </tr>\n",
       "  </tbody>\n",
       "</table>\n",
       "<p>5 rows × 54 columns</p>\n",
       "</div>"
      ],
      "text/plain": [
       "   timestamp  activityID  heartrate  hand_temperature  hand_acc_16g_x  \\\n",
       "0       8.38           0      104.0              30.0         2.37223   \n",
       "1       8.39           0        NaN              30.0         2.18837   \n",
       "2       8.40           0        NaN              30.0         2.37357   \n",
       "3       8.41           0        NaN              30.0         2.07473   \n",
       "4       8.42           0        NaN              30.0         2.22936   \n",
       "\n",
       "   hand_acc_16g_y  hand_acc_16g_z  hand_acc_6g_x  hand_acc_6g_y  \\\n",
       "0         8.60074         3.51048        2.43954        8.76165   \n",
       "1         8.56560         3.66179        2.39494        8.55081   \n",
       "2         8.60107         3.54898        2.30514        8.53644   \n",
       "3         8.52853         3.66021        2.33528        8.53622   \n",
       "4         8.83122         3.70000        2.23055        8.59741   \n",
       "\n",
       "   hand_acc_6g_z         ...           ankle_gyroscope_x  ankle_gyroscope_y  \\\n",
       "0        3.35465         ...                    0.008300           0.009250   \n",
       "1        3.64207         ...                   -0.006577          -0.004638   \n",
       "2        3.73280         ...                    0.003014           0.000148   \n",
       "3        3.73277         ...                    0.003175          -0.020301   \n",
       "4        3.76295         ...                    0.012698          -0.014303   \n",
       "\n",
       "   ankle_gyroscope_z  ankle_magnometer_x  ankle_magnometer_y  \\\n",
       "0          -0.017580            -61.1888            -38.9599   \n",
       "1           0.000368            -59.8479            -38.8919   \n",
       "2           0.022495            -60.7361            -39.4138   \n",
       "3           0.011275            -60.4091            -38.7635   \n",
       "4          -0.002823            -61.5199            -39.3879   \n",
       "\n",
       "   ankle_magnometer_z  ankle_orientation_0  ankle_orientation_1  \\\n",
       "0            -58.1438                  1.0                  0.0   \n",
       "1            -58.5253                  1.0                  0.0   \n",
       "2            -58.3999                  1.0                  0.0   \n",
       "3            -58.3956                  1.0                  0.0   \n",
       "4            -58.2694                  1.0                  0.0   \n",
       "\n",
       "   ankle_orientation_2  ankle_orientation_3  \n",
       "0                  0.0                  0.0  \n",
       "1                  0.0                  0.0  \n",
       "2                  0.0                  0.0  \n",
       "3                  0.0                  0.0  \n",
       "4                  0.0                  0.0  \n",
       "\n",
       "[5 rows x 54 columns]"
      ]
     },
     "execution_count": 26,
     "metadata": {},
     "output_type": "execute_result"
    }
   ],
   "source": [
    "example_pamap2.head()"
   ]
  },
  {
   "cell_type": "markdown",
   "metadata": {},
   "source": [
    "Activity IDs – 1 lying – 2 sitting – 3 standing – 10 walking very slow – 11 normal walking – 12 Nordic walking – 13 running – 14 ascending stairs – 15 descending stairs – 16 cycling – 20 ironing – 21 vacuum cleaning – 22 rope jumping – 23 playing soccer – 0 other (transient activities)"
   ]
  },
  {
   "cell_type": "code",
   "execution_count": 27,
   "metadata": {
    "collapsed": true
   },
   "outputs": [],
   "source": [
    "ACTIVITIES_MAP_PAMAP = {\n",
    "    0: 'no_activity',\n",
    "    1: 'lying',\n",
    "    2: 'sitting',\n",
    "    3: 'standing',\n",
    "    10: 'slow_walking',\n",
    "    11: 'normal_walking',\n",
    "    12: 'nordic_walking',\n",
    "    13: 'running',\n",
    "    14: 'ascending_stairs',\n",
    "    15: 'descending_stairs',\n",
    "    16: 'cycling',\n",
    "    20: 'ironing',\n",
    "    21: 'vaccuum_cleaning',\n",
    "    22: 'rope_jumping',\n",
    "    23: 'playing_soccer'\n",
    "}"
   ]
  },
  {
   "cell_type": "code",
   "execution_count": 28,
   "metadata": {
    "collapsed": false
   },
   "outputs": [],
   "source": [
    "# lying\t0.136615\n",
    "# sitting\t0.130736\n",
    "# standing\t0.136703\n",
    "# walking\t0.176625\n",
    "# cycling\t0.118540\n",
    "# vaccuum_cleaning\t0.125208\n",
    "# ironing \n",
    "included_activities = [1, 2, 3, 11, 16, 21, 20]\n",
    "exclude_activities = [n for n in ACTIVITIES_MAP_PAMAP if n not in included_activities]"
   ]
  },
  {
   "cell_type": "code",
   "execution_count": 29,
   "metadata": {
    "collapsed": true
   },
   "outputs": [],
   "source": [
    "def map_class_pamap(datasets_filled, exclude_activities):\n",
    "    ysetall = [set(np.array(data.activityID)) - set(exclude_activities)\n",
    "               for data in datasets_filled]\n",
    "    class_ids = list(set.union(*[set(y) for y in ysetall]))\n",
    "    class_labels = [ACTIVITIES_MAP_PAMAP[i] for i in class_ids]\n",
    "    nr_classes = len(class_ids)\n",
    "    mapclasses = {class_ids[i]: i for i in range(len(class_ids))}\n",
    "    return class_labels, nr_classes, mapclasses"
   ]
  },
  {
   "cell_type": "code",
   "execution_count": 30,
   "metadata": {
    "collapsed": true
   },
   "outputs": [],
   "source": [
    "def preprocess(targetdir, outdatapath, columns_to_use, exclude_activities, fold,\n",
    "               val_test_size=None):\n",
    "    \"\"\" Function to preprocess the PAMAP2 data after it is fetched\n",
    "    Parameters\n",
    "    ----------\n",
    "    targetdir : str\n",
    "        subdirectory of directory_to_extract_to, targetdir\n",
    "        is defined by function fetch_data\n",
    "    outdatapath : str\n",
    "        a subdirectory of directory_to_extract_to, outdatapath\n",
    "        is the direcotry where the Numpy output will be stored.\n",
    "    columns_to_use : list\n",
    "        list of column names to use\n",
    "    exclude_activities : list or tuple\n",
    "        activities to exclude from the\n",
    "    fold : boolean\n",
    "        Whether to store each fold seperately ('False' creates\n",
    "        Train, Test and Validation sets)\n",
    "    Returns\n",
    "    -------\n",
    "    None\n",
    "    \"\"\"\n",
    "    datadir = os.path.join(targetdir, 'PAMAP_Dataset', 'All')\n",
    "    filenames = os.listdir(datadir)\n",
    "    filenames.sort()\n",
    "    print('Start pre-processing all ' + str(len(filenames)) + ' files...')\n",
    "    # load the files and put them in a list of pandas dataframes:\n",
    "    datasets = [pd.read_csv(os.path.join(datadir, fn), header=None, sep=' ')\n",
    "                for fn in filenames]\n",
    "    header = get_header_pamap()\n",
    "    for i in range(0, len(datasets)):\n",
    "        datasets[i].columns = header\n",
    "    # Interpolate dataset to get same sample rate between channels\n",
    "    datasets_filled = [d.interpolate() for d in datasets]\n",
    "    # Create mapping for class labels\n",
    "    class_labels, nr_classes, mapclasses = map_class_pamap(datasets_filled, exclude_activities)\n",
    "    # Save class labels\n",
    "    with open(os.path.join(outdatapath, 'labels.json'), 'w') as fp:\n",
    "        json.dump(class_labels, fp)\n",
    "    # Create input (x) and output (y) sets\n",
    "    xall = [np.array(data[columns_to_use]) for data in datasets_filled]\n",
    "    yall = [np.array(data.activityID) for data in datasets_filled]\n",
    "    xylists = [tutorial_pamap2.split_activities(y, x, exclude_activities) for x, y in zip(xall, yall)]\n",
    "    Xlists, ylists = zip(*xylists)\n",
    "    ybinarylists = [tutorial_pamap2.transform_y(y, mapclasses, nr_classes) for y in ylists]\n",
    "    frame_length = int(5.12 * 100)\n",
    "    step = 1 * 100\n",
    "    if not fold:\n",
    "        if val_test_size is None:\n",
    "            # Split in train, test and val\n",
    "            x_vallist, y_vallist = tutorial_pamap2.split_data(Xlists, ybinarylists, indices=6)\n",
    "            test_range = slice(7, len(datasets_filled))\n",
    "            x_testlist, y_testlist = tutorial_pamap2.split_data(Xlists, ybinarylists, test_range)\n",
    "            x_trainlist, y_trainlist = tutorial_pamap2.split_data(Xlists, ybinarylists,\n",
    "                                                  indices=slice(0, 6))\n",
    "            # Take sliding-window frames, target is label of last time step,\n",
    "            # and store as numpy file\n",
    "            x_train, y_train = tutorial_pamap2.sliding_window(frame_length, step, x_trainlist,\n",
    "                                              y_trainlist)\n",
    "            x_val, y_val = tutorial_pamap2.sliding_window(frame_length, step, x_vallist,\n",
    "                                              y_vallist)\n",
    "            x_test, y_test = tutorial_pamap2.sliding_window(frame_length, step, x_testlist,\n",
    "                                              y_testlist)\n",
    "\n",
    "        else:\n",
    "            val_size, test_size = val_test_size\n",
    "            X_list, y_list = tutorial_pamap2.split_data(Xlists, ybinarylists,\n",
    "                                        slice(0, len(datasets_filled)))\n",
    "            X, y = tutorial_pamap2.sliding_window(frame_length, step, X_list,\n",
    "                                  y_list)\n",
    "            x_train, y_train, x_val, y_val, x_test, y_test = tutorial_pamap2.split_data_random(X, y, val_size, test_size)\n",
    "\n",
    "\n",
    "        tutorial_pamap2.numpify_and_store(x_train, y_train, X_name='X_train', y_name='y_train',\n",
    "                            outdatapath=outdatapath, shuffle=True)\n",
    "        tutorial_pamap2.numpify_and_store(x_val, y_val, X_name='X_val', y_name='y_val',\n",
    "                            outdatapath=outdatapath, shuffle=False)\n",
    "        tutorial_pamap2.numpify_and_store(x_test, y_test, X_name='X_test', y_name='y_test',\n",
    "                            outdatapath=outdatapath, shuffle=False)\n",
    "    else :\n",
    "        for i in range(len(Xlists)):\n",
    "            X_i, y_i = tutorial_pamap2.split_data(Xlists, ybinarylists, i)\n",
    "            X, y = tutorial_pamap2.sliding_window(frame_length, step, X_i,\n",
    "                                              y_i)\n",
    "            tutorial_pamap2.numpify_and_store(X, y, X_name='X_'+str(i), y_name='y_'+str(i),\n",
    "                            outdatapath=outdatapath, shuffle=True)\n",
    "\n",
    "\n",
    "    print('Processed data succesfully stored in ' + outdatapath)\n",
    "    return None"
   ]
  },
  {
   "cell_type": "code",
   "execution_count": 31,
   "metadata": {
    "collapsed": true
   },
   "outputs": [],
   "source": [
    "columns_to_use = ['hand_acc_x', 'hand_acc_y', 'hand_acc_z',\n",
    "                 'ankle_acc_x', 'ankle_acc_y', 'ankle_acc_z',\n",
    "                 'chest_acc_x', 'chest_acc_y', 'chest_acc_z']"
   ]
  },
  {
   "cell_type": "code",
   "execution_count": 32,
   "metadata": {
    "collapsed": false
   },
   "outputs": [
    {
     "name": "stdout",
     "output_type": "stream",
     "text": [
      "Start pre-processing all 15 files...\n",
      "Stored /media/sf_VBox_Shared/timeseries/PAMAP_Dataset/cleaned_7act/X_train y_train\n",
      "Stored /media/sf_VBox_Shared/timeseries/PAMAP_Dataset/cleaned_7act/X_val y_val\n",
      "Stored /media/sf_VBox_Shared/timeseries/PAMAP_Dataset/cleaned_7act/X_test y_test\n",
      "Processed data succesfully stored in /media/sf_VBox_Shared/timeseries/PAMAP_Dataset/cleaned_7act\n"
     ]
    }
   ],
   "source": [
    "preprocess(targetdir, outputdir, \n",
    "           columns_to_use, exclude_activities=exclude_activities, fold=False, val_test_size=(3000, 3000))"
   ]
  },
  {
   "cell_type": "code",
   "execution_count": 33,
   "metadata": {
    "collapsed": false
   },
   "outputs": [],
   "source": [
    "x_train, y_train_binary, x_val, y_val_binary, \\\n",
    "           x_test, y_test_binary, labels = tutorial_pamap2.load_data(outputdir)"
   ]
  },
  {
   "cell_type": "code",
   "execution_count": 34,
   "metadata": {
    "collapsed": false
   },
   "outputs": [
    {
     "data": {
      "text/plain": [
       "((4400, 512, 9), (4400, 7))"
      ]
     },
     "execution_count": 34,
     "metadata": {},
     "output_type": "execute_result"
    }
   ],
   "source": [
    "x_train.shape, y_train_binary.shape"
   ]
  },
  {
   "cell_type": "code",
   "execution_count": 35,
   "metadata": {
    "collapsed": false
   },
   "outputs": [
    {
     "data": {
      "text/plain": [
       "(3000, 512, 9)"
      ]
     },
     "execution_count": 35,
     "metadata": {},
     "output_type": "execute_result"
    }
   ],
   "source": [
    "x_test.shape"
   ]
  },
  {
   "cell_type": "code",
   "execution_count": null,
   "metadata": {
    "collapsed": true
   },
   "outputs": [],
   "source": []
  }
 ],
 "metadata": {
  "anaconda-cloud": {},
  "kernelspec": {
   "display_name": "Python [conda env:mcfly]",
   "language": "python",
   "name": "conda-env-mcfly-py"
  },
  "language_info": {
   "codemirror_mode": {
    "name": "ipython",
    "version": 3
   },
   "file_extension": ".py",
   "mimetype": "text/x-python",
   "name": "python",
   "nbconvert_exporter": "python",
   "pygments_lexer": "ipython3",
   "version": "3.5.2"
  }
 },
 "nbformat": 4,
 "nbformat_minor": 0
}
