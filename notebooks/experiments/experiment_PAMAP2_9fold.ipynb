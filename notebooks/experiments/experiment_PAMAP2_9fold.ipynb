{
 "cells": [
  {
   "cell_type": "markdown",
   "metadata": {},
   "source": [
    "# Experiment PAMAP2 with mcfly"
   ]
  },
  {
   "cell_type": "markdown",
   "metadata": {},
   "source": [
    "This experiment finds an optimal model for the PAMAP2 dataset."
   ]
  },
  {
   "cell_type": "markdown",
   "metadata": {},
   "source": [
    "## Import required Python modules"
   ]
  },
  {
   "cell_type": "code",
   "execution_count": 1,
   "metadata": {
    "collapsed": false,
    "scrolled": false
   },
   "outputs": [
    {
     "name": "stderr",
     "output_type": "stream",
     "text": [
      "Using TensorFlow backend.\n"
     ]
    }
   ],
   "source": [
    "import sys\n",
    "import os\n",
    "import numpy as np\n",
    "import pandas as pd\n",
    "# mcfly\n",
    "from mcfly import modelgen, find_architecture, storage\n"
   ]
  },
  {
   "cell_type": "code",
   "execution_count": 11,
   "metadata": {
    "collapsed": true
   },
   "outputs": [],
   "source": [
    "trainsize = 1#500\n",
    "valsize = 1 #500 \n",
    "nr_models = 10\n",
    "nr_epochs = 10\n",
    "subset_size = trainsize"
   ]
  },
  {
   "cell_type": "markdown",
   "metadata": {},
   "source": [
    "## Load the data"
   ]
  },
  {
   "cell_type": "code",
   "execution_count": 2,
   "metadata": {
    "collapsed": false
   },
   "outputs": [],
   "source": [
    "# Define directory where the results, e.g. json file, will be stored\n",
    "datapath = '/media/sf_VBox_Shared/timeseries/PAMAP2/PAMAP2_Dataset/cleaned_12activities_allvars/'\n",
    "resultpath = '/media/sf_VBox_Shared/timeseries/PAMAP2/PAMAP2_Dataset/results_test/' \n",
    "if not os.path.exists(resultpath):\n",
    "        os.makedirs(resultpath)"
   ]
  },
  {
   "cell_type": "code",
   "execution_count": 3,
   "metadata": {
    "collapsed": false
   },
   "outputs": [],
   "source": [
    "Xs = []\n",
    "ys = []\n",
    "\n",
    "ext = '.npy'\n",
    "for i in range(9):\n",
    "    Xs.append(np.load(os.path.join(datapath,'X_'+str(i)+ext)))\n",
    "    ys.append(np.load(os.path.join(datapath, 'y_'+str(i)+ext)))"
   ]
  },
  {
   "cell_type": "code",
   "execution_count": 4,
   "metadata": {
    "collapsed": false
   },
   "outputs": [
    {
     "name": "stdout",
     "output_type": "stream",
     "text": [
      "(2155, 512, 52) (2155, 12)\n"
     ]
    }
   ],
   "source": [
    "print(Xs[0].shape, ys[0].shape)"
   ]
  },
  {
   "cell_type": "markdown",
   "metadata": {},
   "source": [
    "## Generate models"
   ]
  },
  {
   "cell_type": "markdown",
   "metadata": {},
   "source": [
    "First step is to create a model architecture. As we do not know what architecture is best for our data we will create a set of models to investigate which architecture is most suitable for our data and classification task. You will need to specificy how many models you want to create with argument 'number_of_models', the type of model which can been 'CNN' or 'DeepConvLSTM', and maximum number of layers per modeltype. See for a full overview of the optional arguments the function documentation of modelgen.generate_models"
   ]
  },
  {
   "cell_type": "code",
   "execution_count": 16,
   "metadata": {
    "collapsed": false
   },
   "outputs": [
    {
     "name": "stderr",
     "output_type": "stream",
     "text": [
      "/home/dafne/anaconda2/envs/mcfly/lib/python3.5/site-packages/mcfly/modelgen.py:160: UserWarning: Update your `Conv2D` call to the Keras 2 API: `Conv2D(27, (3, 1), kernel_regularizer=<keras.reg..., data_format=\"channels_first\", kernel_initializer=\"lecun_uniform\", padding=\"same\")`\n",
      "  dim_ordering='th'))\n",
      "/home/dafne/anaconda2/envs/mcfly/lib/python3.5/site-packages/mcfly/modelgen.py:160: UserWarning: Update your `Conv2D` call to the Keras 2 API: `Conv2D(93, (3, 1), kernel_regularizer=<keras.reg..., data_format=\"channels_first\", kernel_initializer=\"lecun_uniform\", padding=\"same\")`\n",
      "  dim_ordering='th'))\n",
      "/home/dafne/anaconda2/envs/mcfly/lib/python3.5/site-packages/mcfly/modelgen.py:160: UserWarning: Update your `Conv2D` call to the Keras 2 API: `Conv2D(67, (3, 1), kernel_regularizer=<keras.reg..., data_format=\"channels_first\", kernel_initializer=\"lecun_uniform\", padding=\"same\")`\n",
      "  dim_ordering='th'))\n",
      "/home/dafne/anaconda2/envs/mcfly/lib/python3.5/site-packages/mcfly/modelgen.py:160: UserWarning: Update your `Conv2D` call to the Keras 2 API: `Conv2D(96, (3, 1), kernel_regularizer=<keras.reg..., data_format=\"channels_first\", kernel_initializer=\"lecun_uniform\", padding=\"same\")`\n",
      "  dim_ordering='th'))\n",
      "/home/dafne/anaconda2/envs/mcfly/lib/python3.5/site-packages/mcfly/modelgen.py:160: UserWarning: Update your `Conv2D` call to the Keras 2 API: `Conv2D(57, (3, 1), kernel_regularizer=<keras.reg..., data_format=\"channels_first\", kernel_initializer=\"lecun_uniform\", padding=\"same\")`\n",
      "  dim_ordering='th'))\n",
      "/home/dafne/anaconda2/envs/mcfly/lib/python3.5/site-packages/mcfly/modelgen.py:160: UserWarning: Update your `Conv2D` call to the Keras 2 API: `Conv2D(83, (3, 1), kernel_regularizer=<keras.reg..., data_format=\"channels_first\", kernel_initializer=\"lecun_uniform\", padding=\"same\")`\n",
      "  dim_ordering='th'))\n",
      "/home/dafne/anaconda2/envs/mcfly/lib/python3.5/site-packages/mcfly/modelgen.py:160: UserWarning: Update your `Conv2D` call to the Keras 2 API: `Conv2D(42, (3, 1), kernel_regularizer=<keras.reg..., data_format=\"channels_first\", kernel_initializer=\"lecun_uniform\", padding=\"same\")`\n",
      "  dim_ordering='th'))\n",
      "/home/dafne/anaconda2/envs/mcfly/lib/python3.5/site-packages/mcfly/modelgen.py:169: UserWarning: Update your `LSTM` call to the Keras 2 API: `LSTM(units=35, activation=\"tanh\", return_sequences=True)`\n",
      "  activation='tanh'))\n",
      "/home/dafne/anaconda2/envs/mcfly/lib/python3.5/site-packages/mcfly/modelgen.py:176: UserWarning: Update your `Dense` call to the Keras 2 API: `Dense(12, kernel_regularizer=<keras.reg...)`\n",
      "  Dense(output_dim, W_regularizer=l2(regularization_rate))))\n",
      "/home/dafne/anaconda2/envs/mcfly/lib/python3.5/site-packages/mcfly/modelgen.py:160: UserWarning: Update your `Conv2D` call to the Keras 2 API: `Conv2D(21, (3, 1), kernel_regularizer=<keras.reg..., data_format=\"channels_first\", kernel_initializer=\"lecun_uniform\", padding=\"same\")`\n",
      "  dim_ordering='th'))\n",
      "/home/dafne/anaconda2/envs/mcfly/lib/python3.5/site-packages/mcfly/modelgen.py:169: UserWarning: Update your `LSTM` call to the Keras 2 API: `LSTM(units=50, activation=\"tanh\", return_sequences=True)`\n",
      "  activation='tanh'))\n",
      "/home/dafne/anaconda2/envs/mcfly/lib/python3.5/site-packages/mcfly/modelgen.py:169: UserWarning: Update your `LSTM` call to the Keras 2 API: `LSTM(units=48, activation=\"tanh\", return_sequences=True)`\n",
      "  activation='tanh'))\n",
      "/home/dafne/anaconda2/envs/mcfly/lib/python3.5/site-packages/mcfly/modelgen.py:169: UserWarning: Update your `LSTM` call to the Keras 2 API: `LSTM(units=89, activation=\"tanh\", return_sequences=True)`\n",
      "  activation='tanh'))\n",
      "/home/dafne/anaconda2/envs/mcfly/lib/python3.5/site-packages/mcfly/modelgen.py:226: UserWarning: Update your `BatchNormalization` call to the Keras 2 API: `BatchNormalization(axis=2, input_shape=(512, 52))`\n",
      "  axis=2))\n",
      "/home/dafne/anaconda2/envs/mcfly/lib/python3.5/site-packages/mcfly/modelgen.py:230: UserWarning: Update your `Conv1D` call to the Keras 2 API: `Conv1D(33, 3, kernel_regularizer=<keras.reg..., kernel_initializer=\"lecun_uniform\", padding=\"same\")`\n",
      "  init=weightinit))\n",
      "/home/dafne/anaconda2/envs/mcfly/lib/python3.5/site-packages/mcfly/modelgen.py:230: UserWarning: Update your `Conv1D` call to the Keras 2 API: `Conv1D(52, 3, kernel_regularizer=<keras.reg..., kernel_initializer=\"lecun_uniform\", padding=\"same\")`\n",
      "  init=weightinit))\n",
      "/home/dafne/anaconda2/envs/mcfly/lib/python3.5/site-packages/mcfly/modelgen.py:230: UserWarning: Update your `Conv1D` call to the Keras 2 API: `Conv1D(90, 3, kernel_regularizer=<keras.reg..., kernel_initializer=\"lecun_uniform\", padding=\"same\")`\n",
      "  init=weightinit))\n",
      "/home/dafne/anaconda2/envs/mcfly/lib/python3.5/site-packages/mcfly/modelgen.py:236: UserWarning: Update your `Dense` call to the Keras 2 API: `Dense(kernel_regularizer=<keras.reg..., units=838, kernel_initializer=\"lecun_uniform\")`\n",
      "  init=weightinit))  # Fully connected layer\n",
      "/home/dafne/anaconda2/envs/mcfly/lib/python3.5/site-packages/mcfly/modelgen.py:238: UserWarning: Update your `Dense` call to the Keras 2 API: `Dense(units=12, kernel_initializer=\"lecun_uniform\")`\n",
      "  model.add(Dense(output_dim=outputdim, init=weightinit))\n",
      "/home/dafne/anaconda2/envs/mcfly/lib/python3.5/site-packages/mcfly/modelgen.py:160: UserWarning: Update your `Conv2D` call to the Keras 2 API: `Conv2D(43, (3, 1), kernel_regularizer=<keras.reg..., data_format=\"channels_first\", kernel_initializer=\"lecun_uniform\", padding=\"same\")`\n",
      "  dim_ordering='th'))\n",
      "/home/dafne/anaconda2/envs/mcfly/lib/python3.5/site-packages/mcfly/modelgen.py:160: UserWarning: Update your `Conv2D` call to the Keras 2 API: `Conv2D(13, (3, 1), kernel_regularizer=<keras.reg..., data_format=\"channels_first\", kernel_initializer=\"lecun_uniform\", padding=\"same\")`\n",
      "  dim_ordering='th'))\n",
      "/home/dafne/anaconda2/envs/mcfly/lib/python3.5/site-packages/mcfly/modelgen.py:160: UserWarning: Update your `Conv2D` call to the Keras 2 API: `Conv2D(50, (3, 1), kernel_regularizer=<keras.reg..., data_format=\"channels_first\", kernel_initializer=\"lecun_uniform\", padding=\"same\")`\n",
      "  dim_ordering='th'))\n",
      "/home/dafne/anaconda2/envs/mcfly/lib/python3.5/site-packages/mcfly/modelgen.py:160: UserWarning: Update your `Conv2D` call to the Keras 2 API: `Conv2D(73, (3, 1), kernel_regularizer=<keras.reg..., data_format=\"channels_first\", kernel_initializer=\"lecun_uniform\", padding=\"same\")`\n",
      "  dim_ordering='th'))\n",
      "/home/dafne/anaconda2/envs/mcfly/lib/python3.5/site-packages/mcfly/modelgen.py:160: UserWarning: Update your `Conv2D` call to the Keras 2 API: `Conv2D(40, (3, 1), kernel_regularizer=<keras.reg..., data_format=\"channels_first\", kernel_initializer=\"lecun_uniform\", padding=\"same\")`\n",
      "  dim_ordering='th'))\n",
      "/home/dafne/anaconda2/envs/mcfly/lib/python3.5/site-packages/mcfly/modelgen.py:160: UserWarning: Update your `Conv2D` call to the Keras 2 API: `Conv2D(12, (3, 1), kernel_regularizer=<keras.reg..., data_format=\"channels_first\", kernel_initializer=\"lecun_uniform\", padding=\"same\")`\n",
      "  dim_ordering='th'))\n",
      "/home/dafne/anaconda2/envs/mcfly/lib/python3.5/site-packages/mcfly/modelgen.py:169: UserWarning: Update your `LSTM` call to the Keras 2 API: `LSTM(units=56, activation=\"tanh\", return_sequences=True)`\n",
      "  activation='tanh'))\n",
      "/home/dafne/anaconda2/envs/mcfly/lib/python3.5/site-packages/mcfly/modelgen.py:169: UserWarning: Update your `LSTM` call to the Keras 2 API: `LSTM(units=24, activation=\"tanh\", return_sequences=True)`\n",
      "  activation='tanh'))\n",
      "/home/dafne/anaconda2/envs/mcfly/lib/python3.5/site-packages/mcfly/modelgen.py:169: UserWarning: Update your `LSTM` call to the Keras 2 API: `LSTM(units=26, activation=\"tanh\", return_sequences=True)`\n",
      "  activation='tanh'))\n",
      "/home/dafne/anaconda2/envs/mcfly/lib/python3.5/site-packages/mcfly/modelgen.py:230: UserWarning: Update your `Conv1D` call to the Keras 2 API: `Conv1D(13, 3, kernel_regularizer=<keras.reg..., kernel_initializer=\"lecun_uniform\", padding=\"same\")`\n",
      "  init=weightinit))\n",
      "/home/dafne/anaconda2/envs/mcfly/lib/python3.5/site-packages/mcfly/modelgen.py:230: UserWarning: Update your `Conv1D` call to the Keras 2 API: `Conv1D(65, 3, kernel_regularizer=<keras.reg..., kernel_initializer=\"lecun_uniform\", padding=\"same\")`\n",
      "  init=weightinit))\n",
      "/home/dafne/anaconda2/envs/mcfly/lib/python3.5/site-packages/mcfly/modelgen.py:230: UserWarning: Update your `Conv1D` call to the Keras 2 API: `Conv1D(54, 3, kernel_regularizer=<keras.reg..., kernel_initializer=\"lecun_uniform\", padding=\"same\")`\n",
      "  init=weightinit))\n",
      "/home/dafne/anaconda2/envs/mcfly/lib/python3.5/site-packages/mcfly/modelgen.py:230: UserWarning: Update your `Conv1D` call to the Keras 2 API: `Conv1D(47, 3, kernel_regularizer=<keras.reg..., kernel_initializer=\"lecun_uniform\", padding=\"same\")`\n",
      "  init=weightinit))\n",
      "/home/dafne/anaconda2/envs/mcfly/lib/python3.5/site-packages/mcfly/modelgen.py:230: UserWarning: Update your `Conv1D` call to the Keras 2 API: `Conv1D(60, 3, kernel_regularizer=<keras.reg..., kernel_initializer=\"lecun_uniform\", padding=\"same\")`\n",
      "  init=weightinit))\n",
      "/home/dafne/anaconda2/envs/mcfly/lib/python3.5/site-packages/mcfly/modelgen.py:230: UserWarning: Update your `Conv1D` call to the Keras 2 API: `Conv1D(97, 3, kernel_regularizer=<keras.reg..., kernel_initializer=\"lecun_uniform\", padding=\"same\")`\n",
      "  init=weightinit))\n",
      "/home/dafne/anaconda2/envs/mcfly/lib/python3.5/site-packages/mcfly/modelgen.py:230: UserWarning: Update your `Conv1D` call to the Keras 2 API: `Conv1D(93, 3, kernel_regularizer=<keras.reg..., kernel_initializer=\"lecun_uniform\", padding=\"same\")`\n",
      "  init=weightinit))\n",
      "/home/dafne/anaconda2/envs/mcfly/lib/python3.5/site-packages/mcfly/modelgen.py:230: UserWarning: Update your `Conv1D` call to the Keras 2 API: `Conv1D(96, 3, kernel_regularizer=<keras.reg..., kernel_initializer=\"lecun_uniform\", padding=\"same\")`\n",
      "  init=weightinit))\n",
      "/home/dafne/anaconda2/envs/mcfly/lib/python3.5/site-packages/mcfly/modelgen.py:236: UserWarning: Update your `Dense` call to the Keras 2 API: `Dense(kernel_regularizer=<keras.reg..., units=1210, kernel_initializer=\"lecun_uniform\")`\n",
      "  init=weightinit))  # Fully connected layer\n",
      "/home/dafne/anaconda2/envs/mcfly/lib/python3.5/site-packages/mcfly/modelgen.py:230: UserWarning: Update your `Conv1D` call to the Keras 2 API: `Conv1D(80, 3, kernel_regularizer=<keras.reg..., kernel_initializer=\"lecun_uniform\", padding=\"same\")`\n",
      "  init=weightinit))\n",
      "/home/dafne/anaconda2/envs/mcfly/lib/python3.5/site-packages/mcfly/modelgen.py:230: UserWarning: Update your `Conv1D` call to the Keras 2 API: `Conv1D(59, 3, kernel_regularizer=<keras.reg..., kernel_initializer=\"lecun_uniform\", padding=\"same\")`\n",
      "  init=weightinit))\n",
      "/home/dafne/anaconda2/envs/mcfly/lib/python3.5/site-packages/mcfly/modelgen.py:230: UserWarning: Update your `Conv1D` call to the Keras 2 API: `Conv1D(36, 3, kernel_regularizer=<keras.reg..., kernel_initializer=\"lecun_uniform\", padding=\"same\")`\n",
      "  init=weightinit))\n",
      "/home/dafne/anaconda2/envs/mcfly/lib/python3.5/site-packages/mcfly/modelgen.py:230: UserWarning: Update your `Conv1D` call to the Keras 2 API: `Conv1D(23, 3, kernel_regularizer=<keras.reg..., kernel_initializer=\"lecun_uniform\", padding=\"same\")`\n",
      "  init=weightinit))\n",
      "/home/dafne/anaconda2/envs/mcfly/lib/python3.5/site-packages/mcfly/modelgen.py:236: UserWarning: Update your `Dense` call to the Keras 2 API: `Dense(kernel_regularizer=<keras.reg..., units=588, kernel_initializer=\"lecun_uniform\")`\n",
      "  init=weightinit))  # Fully connected layer\n",
      "/home/dafne/anaconda2/envs/mcfly/lib/python3.5/site-packages/mcfly/modelgen.py:160: UserWarning: Update your `Conv2D` call to the Keras 2 API: `Conv2D(20, (3, 1), kernel_regularizer=<keras.reg..., data_format=\"channels_first\", kernel_initializer=\"lecun_uniform\", padding=\"same\")`\n",
      "  dim_ordering='th'))\n",
      "/home/dafne/anaconda2/envs/mcfly/lib/python3.5/site-packages/mcfly/modelgen.py:160: UserWarning: Update your `Conv2D` call to the Keras 2 API: `Conv2D(100, (3, 1), kernel_regularizer=<keras.reg..., data_format=\"channels_first\", kernel_initializer=\"lecun_uniform\", padding=\"same\")`\n",
      "  dim_ordering='th'))\n",
      "/home/dafne/anaconda2/envs/mcfly/lib/python3.5/site-packages/mcfly/modelgen.py:160: UserWarning: Update your `Conv2D` call to the Keras 2 API: `Conv2D(35, (3, 1), kernel_regularizer=<keras.reg..., data_format=\"channels_first\", kernel_initializer=\"lecun_uniform\", padding=\"same\")`\n",
      "  dim_ordering='th'))\n",
      "/home/dafne/anaconda2/envs/mcfly/lib/python3.5/site-packages/mcfly/modelgen.py:160: UserWarning: Update your `Conv2D` call to the Keras 2 API: `Conv2D(11, (3, 1), kernel_regularizer=<keras.reg..., data_format=\"channels_first\", kernel_initializer=\"lecun_uniform\", padding=\"same\")`\n",
      "  dim_ordering='th'))\n",
      "/home/dafne/anaconda2/envs/mcfly/lib/python3.5/site-packages/mcfly/modelgen.py:160: UserWarning: Update your `Conv2D` call to the Keras 2 API: `Conv2D(87, (3, 1), kernel_regularizer=<keras.reg..., data_format=\"channels_first\", kernel_initializer=\"lecun_uniform\", padding=\"same\")`\n",
      "  dim_ordering='th'))\n",
      "/home/dafne/anaconda2/envs/mcfly/lib/python3.5/site-packages/mcfly/modelgen.py:160: UserWarning: Update your `Conv2D` call to the Keras 2 API: `Conv2D(24, (3, 1), kernel_regularizer=<keras.reg..., data_format=\"channels_first\", kernel_initializer=\"lecun_uniform\", padding=\"same\")`\n",
      "  dim_ordering='th'))\n",
      "/home/dafne/anaconda2/envs/mcfly/lib/python3.5/site-packages/mcfly/modelgen.py:169: UserWarning: Update your `LSTM` call to the Keras 2 API: `LSTM(units=17, activation=\"tanh\", return_sequences=True)`\n",
      "  activation='tanh'))\n",
      "/home/dafne/anaconda2/envs/mcfly/lib/python3.5/site-packages/mcfly/modelgen.py:169: UserWarning: Update your `LSTM` call to the Keras 2 API: `LSTM(units=90, activation=\"tanh\", return_sequences=True)`\n",
      "  activation='tanh'))\n",
      "/home/dafne/anaconda2/envs/mcfly/lib/python3.5/site-packages/mcfly/modelgen.py:169: UserWarning: Update your `LSTM` call to the Keras 2 API: `LSTM(units=46, activation=\"tanh\", return_sequences=True)`\n",
      "  activation='tanh'))\n",
      "/home/dafne/anaconda2/envs/mcfly/lib/python3.5/site-packages/mcfly/modelgen.py:169: UserWarning: Update your `LSTM` call to the Keras 2 API: `LSTM(units=32, activation=\"tanh\", return_sequences=True)`\n",
      "  activation='tanh'))\n",
      "/home/dafne/anaconda2/envs/mcfly/lib/python3.5/site-packages/mcfly/modelgen.py:169: UserWarning: Update your `LSTM` call to the Keras 2 API: `LSTM(units=85, activation=\"tanh\", return_sequences=True)`\n",
      "  activation='tanh'))\n",
      "/home/dafne/anaconda2/envs/mcfly/lib/python3.5/site-packages/mcfly/modelgen.py:160: UserWarning: Update your `Conv2D` call to the Keras 2 API: `Conv2D(79, (3, 1), kernel_regularizer=<keras.reg..., data_format=\"channels_first\", kernel_initializer=\"lecun_uniform\", padding=\"same\")`\n",
      "  dim_ordering='th'))\n",
      "/home/dafne/anaconda2/envs/mcfly/lib/python3.5/site-packages/mcfly/modelgen.py:160: UserWarning: Update your `Conv2D` call to the Keras 2 API: `Conv2D(89, (3, 1), kernel_regularizer=<keras.reg..., data_format=\"channels_first\", kernel_initializer=\"lecun_uniform\", padding=\"same\")`\n",
      "  dim_ordering='th'))\n",
      "/home/dafne/anaconda2/envs/mcfly/lib/python3.5/site-packages/mcfly/modelgen.py:160: UserWarning: Update your `Conv2D` call to the Keras 2 API: `Conv2D(55, (3, 1), kernel_regularizer=<keras.reg..., data_format=\"channels_first\", kernel_initializer=\"lecun_uniform\", padding=\"same\")`\n",
      "  dim_ordering='th'))\n",
      "/home/dafne/anaconda2/envs/mcfly/lib/python3.5/site-packages/mcfly/modelgen.py:160: UserWarning: Update your `Conv2D` call to the Keras 2 API: `Conv2D(44, (3, 1), kernel_regularizer=<keras.reg..., data_format=\"channels_first\", kernel_initializer=\"lecun_uniform\", padding=\"same\")`\n",
      "  dim_ordering='th'))\n",
      "/home/dafne/anaconda2/envs/mcfly/lib/python3.5/site-packages/mcfly/modelgen.py:160: UserWarning: Update your `Conv2D` call to the Keras 2 API: `Conv2D(61, (3, 1), kernel_regularizer=<keras.reg..., data_format=\"channels_first\", kernel_initializer=\"lecun_uniform\", padding=\"same\")`\n",
      "  dim_ordering='th'))\n",
      "/home/dafne/anaconda2/envs/mcfly/lib/python3.5/site-packages/mcfly/modelgen.py:160: UserWarning: Update your `Conv2D` call to the Keras 2 API: `Conv2D(99, (3, 1), kernel_regularizer=<keras.reg..., data_format=\"channels_first\", kernel_initializer=\"lecun_uniform\", padding=\"same\")`\n",
      "  dim_ordering='th'))\n",
      "/home/dafne/anaconda2/envs/mcfly/lib/python3.5/site-packages/mcfly/modelgen.py:169: UserWarning: Update your `LSTM` call to the Keras 2 API: `LSTM(units=96, activation=\"tanh\", return_sequences=True)`\n",
      "  activation='tanh'))\n",
      "/home/dafne/anaconda2/envs/mcfly/lib/python3.5/site-packages/mcfly/modelgen.py:169: UserWarning: Update your `LSTM` call to the Keras 2 API: `LSTM(units=80, activation=\"tanh\", return_sequences=True)`\n",
      "  activation='tanh'))\n",
      "/home/dafne/anaconda2/envs/mcfly/lib/python3.5/site-packages/mcfly/modelgen.py:230: UserWarning: Update your `Conv1D` call to the Keras 2 API: `Conv1D(79, 3, kernel_regularizer=<keras.reg..., kernel_initializer=\"lecun_uniform\", padding=\"same\")`\n",
      "  init=weightinit))\n",
      "/home/dafne/anaconda2/envs/mcfly/lib/python3.5/site-packages/mcfly/modelgen.py:230: UserWarning: Update your `Conv1D` call to the Keras 2 API: `Conv1D(11, 3, kernel_regularizer=<keras.reg..., kernel_initializer=\"lecun_uniform\", padding=\"same\")`\n",
      "  init=weightinit))\n",
      "/home/dafne/anaconda2/envs/mcfly/lib/python3.5/site-packages/mcfly/modelgen.py:230: UserWarning: Update your `Conv1D` call to the Keras 2 API: `Conv1D(68, 3, kernel_regularizer=<keras.reg..., kernel_initializer=\"lecun_uniform\", padding=\"same\")`\n",
      "  init=weightinit))\n",
      "/home/dafne/anaconda2/envs/mcfly/lib/python3.5/site-packages/mcfly/modelgen.py:230: UserWarning: Update your `Conv1D` call to the Keras 2 API: `Conv1D(32, 3, kernel_regularizer=<keras.reg..., kernel_initializer=\"lecun_uniform\", padding=\"same\")`\n",
      "  init=weightinit))\n",
      "/home/dafne/anaconda2/envs/mcfly/lib/python3.5/site-packages/mcfly/modelgen.py:230: UserWarning: Update your `Conv1D` call to the Keras 2 API: `Conv1D(40, 3, kernel_regularizer=<keras.reg..., kernel_initializer=\"lecun_uniform\", padding=\"same\")`\n",
      "  init=weightinit))\n",
      "/home/dafne/anaconda2/envs/mcfly/lib/python3.5/site-packages/mcfly/modelgen.py:230: UserWarning: Update your `Conv1D` call to the Keras 2 API: `Conv1D(15, 3, kernel_regularizer=<keras.reg..., kernel_initializer=\"lecun_uniform\", padding=\"same\")`\n",
      "  init=weightinit))\n",
      "/home/dafne/anaconda2/envs/mcfly/lib/python3.5/site-packages/mcfly/modelgen.py:230: UserWarning: Update your `Conv1D` call to the Keras 2 API: `Conv1D(69, 3, kernel_regularizer=<keras.reg..., kernel_initializer=\"lecun_uniform\", padding=\"same\")`\n",
      "  init=weightinit))\n",
      "/home/dafne/anaconda2/envs/mcfly/lib/python3.5/site-packages/mcfly/modelgen.py:230: UserWarning: Update your `Conv1D` call to the Keras 2 API: `Conv1D(84, 3, kernel_regularizer=<keras.reg..., kernel_initializer=\"lecun_uniform\", padding=\"same\")`\n",
      "  init=weightinit))\n",
      "/home/dafne/anaconda2/envs/mcfly/lib/python3.5/site-packages/mcfly/modelgen.py:236: UserWarning: Update your `Dense` call to the Keras 2 API: `Dense(kernel_regularizer=<keras.reg..., units=98, kernel_initializer=\"lecun_uniform\")`\n",
      "  init=weightinit))  # Fully connected layer\n",
      "/home/dafne/anaconda2/envs/mcfly/lib/python3.5/site-packages/mcfly/modelgen.py:160: UserWarning: Update your `Conv2D` call to the Keras 2 API: `Conv2D(30, (3, 1), kernel_regularizer=<keras.reg..., data_format=\"channels_first\", kernel_initializer=\"lecun_uniform\", padding=\"same\")`\n",
      "  dim_ordering='th'))\n",
      "/home/dafne/anaconda2/envs/mcfly/lib/python3.5/site-packages/mcfly/modelgen.py:160: UserWarning: Update your `Conv2D` call to the Keras 2 API: `Conv2D(45, (3, 1), kernel_regularizer=<keras.reg..., data_format=\"channels_first\", kernel_initializer=\"lecun_uniform\", padding=\"same\")`\n",
      "  dim_ordering='th'))\n",
      "/home/dafne/anaconda2/envs/mcfly/lib/python3.5/site-packages/mcfly/modelgen.py:160: UserWarning: Update your `Conv2D` call to the Keras 2 API: `Conv2D(33, (3, 1), kernel_regularizer=<keras.reg..., data_format=\"channels_first\", kernel_initializer=\"lecun_uniform\", padding=\"same\")`\n",
      "  dim_ordering='th'))\n",
      "/home/dafne/anaconda2/envs/mcfly/lib/python3.5/site-packages/mcfly/modelgen.py:160: UserWarning: Update your `Conv2D` call to the Keras 2 API: `Conv2D(18, (3, 1), kernel_regularizer=<keras.reg..., data_format=\"channels_first\", kernel_initializer=\"lecun_uniform\", padding=\"same\")`\n",
      "  dim_ordering='th'))\n",
      "/home/dafne/anaconda2/envs/mcfly/lib/python3.5/site-packages/mcfly/modelgen.py:160: UserWarning: Update your `Conv2D` call to the Keras 2 API: `Conv2D(46, (3, 1), kernel_regularizer=<keras.reg..., data_format=\"channels_first\", kernel_initializer=\"lecun_uniform\", padding=\"same\")`\n",
      "  dim_ordering='th'))\n",
      "/home/dafne/anaconda2/envs/mcfly/lib/python3.5/site-packages/mcfly/modelgen.py:160: UserWarning: Update your `Conv2D` call to the Keras 2 API: `Conv2D(16, (3, 1), kernel_regularizer=<keras.reg..., data_format=\"channels_first\", kernel_initializer=\"lecun_uniform\", padding=\"same\")`\n",
      "  dim_ordering='th'))\n",
      "/home/dafne/anaconda2/envs/mcfly/lib/python3.5/site-packages/mcfly/modelgen.py:160: UserWarning: Update your `Conv2D` call to the Keras 2 API: `Conv2D(51, (3, 1), kernel_regularizer=<keras.reg..., data_format=\"channels_first\", kernel_initializer=\"lecun_uniform\", padding=\"same\")`\n",
      "  dim_ordering='th'))\n",
      "/home/dafne/anaconda2/envs/mcfly/lib/python3.5/site-packages/mcfly/modelgen.py:169: UserWarning: Update your `LSTM` call to the Keras 2 API: `LSTM(units=58, activation=\"tanh\", return_sequences=True)`\n",
      "  activation='tanh'))\n",
      "/home/dafne/anaconda2/envs/mcfly/lib/python3.5/site-packages/mcfly/modelgen.py:169: UserWarning: Update your `LSTM` call to the Keras 2 API: `LSTM(units=94, activation=\"tanh\", return_sequences=True)`\n",
      "  activation='tanh'))\n",
      "/home/dafne/anaconda2/envs/mcfly/lib/python3.5/site-packages/mcfly/modelgen.py:230: UserWarning: Update your `Conv1D` call to the Keras 2 API: `Conv1D(94, 3, kernel_regularizer=<keras.reg..., kernel_initializer=\"lecun_uniform\", padding=\"same\")`\n",
      "  init=weightinit))\n",
      "/home/dafne/anaconda2/envs/mcfly/lib/python3.5/site-packages/mcfly/modelgen.py:236: UserWarning: Update your `Dense` call to the Keras 2 API: `Dense(kernel_regularizer=<keras.reg..., units=1777, kernel_initializer=\"lecun_uniform\")`\n",
      "  init=weightinit))  # Fully connected layer\n",
      "/home/dafne/anaconda2/envs/mcfly/lib/python3.5/site-packages/mcfly/modelgen.py:160: UserWarning: Update your `Conv2D` call to the Keras 2 API: `Conv2D(85, (3, 1), kernel_regularizer=<keras.reg..., data_format=\"channels_first\", kernel_initializer=\"lecun_uniform\", padding=\"same\")`\n",
      "  dim_ordering='th'))\n",
      "/home/dafne/anaconda2/envs/mcfly/lib/python3.5/site-packages/mcfly/modelgen.py:169: UserWarning: Update your `LSTM` call to the Keras 2 API: `LSTM(units=78, activation=\"tanh\", return_sequences=True)`\n",
      "  activation='tanh'))\n",
      "/home/dafne/anaconda2/envs/mcfly/lib/python3.5/site-packages/mcfly/modelgen.py:169: UserWarning: Update your `LSTM` call to the Keras 2 API: `LSTM(units=76, activation=\"tanh\", return_sequences=True)`\n",
      "  activation='tanh'))\n",
      "/home/dafne/anaconda2/envs/mcfly/lib/python3.5/site-packages/mcfly/modelgen.py:230: UserWarning: Update your `Conv1D` call to the Keras 2 API: `Conv1D(51, 3, kernel_regularizer=<keras.reg..., kernel_initializer=\"lecun_uniform\", padding=\"same\")`\n",
      "  init=weightinit))\n",
      "/home/dafne/anaconda2/envs/mcfly/lib/python3.5/site-packages/mcfly/modelgen.py:230: UserWarning: Update your `Conv1D` call to the Keras 2 API: `Conv1D(50, 3, kernel_regularizer=<keras.reg..., kernel_initializer=\"lecun_uniform\", padding=\"same\")`\n",
      "  init=weightinit))\n",
      "/home/dafne/anaconda2/envs/mcfly/lib/python3.5/site-packages/mcfly/modelgen.py:230: UserWarning: Update your `Conv1D` call to the Keras 2 API: `Conv1D(61, 3, kernel_regularizer=<keras.reg..., kernel_initializer=\"lecun_uniform\", padding=\"same\")`\n",
      "  init=weightinit))\n",
      "/home/dafne/anaconda2/envs/mcfly/lib/python3.5/site-packages/mcfly/modelgen.py:230: UserWarning: Update your `Conv1D` call to the Keras 2 API: `Conv1D(39, 3, kernel_regularizer=<keras.reg..., kernel_initializer=\"lecun_uniform\", padding=\"same\")`\n",
      "  init=weightinit))\n",
      "/home/dafne/anaconda2/envs/mcfly/lib/python3.5/site-packages/mcfly/modelgen.py:236: UserWarning: Update your `Dense` call to the Keras 2 API: `Dense(kernel_regularizer=<keras.reg..., units=1905, kernel_initializer=\"lecun_uniform\")`\n",
      "  init=weightinit))  # Fully connected layer\n",
      "/home/dafne/anaconda2/envs/mcfly/lib/python3.5/site-packages/mcfly/modelgen.py:230: UserWarning: Update your `Conv1D` call to the Keras 2 API: `Conv1D(27, 3, kernel_regularizer=<keras.reg..., kernel_initializer=\"lecun_uniform\", padding=\"same\")`\n",
      "  init=weightinit))\n",
      "/home/dafne/anaconda2/envs/mcfly/lib/python3.5/site-packages/mcfly/modelgen.py:230: UserWarning: Update your `Conv1D` call to the Keras 2 API: `Conv1D(85, 3, kernel_regularizer=<keras.reg..., kernel_initializer=\"lecun_uniform\", padding=\"same\")`\n",
      "  init=weightinit))\n",
      "/home/dafne/anaconda2/envs/mcfly/lib/python3.5/site-packages/mcfly/modelgen.py:230: UserWarning: Update your `Conv1D` call to the Keras 2 API: `Conv1D(82, 3, kernel_regularizer=<keras.reg..., kernel_initializer=\"lecun_uniform\", padding=\"same\")`\n",
      "  init=weightinit))\n",
      "/home/dafne/anaconda2/envs/mcfly/lib/python3.5/site-packages/mcfly/modelgen.py:230: UserWarning: Update your `Conv1D` call to the Keras 2 API: `Conv1D(35, 3, kernel_regularizer=<keras.reg..., kernel_initializer=\"lecun_uniform\", padding=\"same\")`\n",
      "  init=weightinit))\n",
      "/home/dafne/anaconda2/envs/mcfly/lib/python3.5/site-packages/mcfly/modelgen.py:236: UserWarning: Update your `Dense` call to the Keras 2 API: `Dense(kernel_regularizer=<keras.reg..., units=1381, kernel_initializer=\"lecun_uniform\")`\n",
      "  init=weightinit))  # Fully connected layer\n",
      "/home/dafne/anaconda2/envs/mcfly/lib/python3.5/site-packages/mcfly/modelgen.py:169: UserWarning: Update your `LSTM` call to the Keras 2 API: `LSTM(units=37, activation=\"tanh\", return_sequences=True)`\n",
      "  activation='tanh'))\n",
      "/home/dafne/anaconda2/envs/mcfly/lib/python3.5/site-packages/mcfly/modelgen.py:169: UserWarning: Update your `LSTM` call to the Keras 2 API: `LSTM(units=99, activation=\"tanh\", return_sequences=True)`\n",
      "  activation='tanh'))\n",
      "/home/dafne/anaconda2/envs/mcfly/lib/python3.5/site-packages/mcfly/modelgen.py:169: UserWarning: Update your `LSTM` call to the Keras 2 API: `LSTM(units=67, activation=\"tanh\", return_sequences=True)`\n",
      "  activation='tanh'))\n",
      "/home/dafne/anaconda2/envs/mcfly/lib/python3.5/site-packages/mcfly/modelgen.py:169: UserWarning: Update your `LSTM` call to the Keras 2 API: `LSTM(units=11, activation=\"tanh\", return_sequences=True)`\n",
      "  activation='tanh'))\n"
     ]
    }
   ],
   "source": [
    "num_classes = ys[0].shape[1]\n",
    "np.random.seed(123)\n",
    "models = modelgen.generate_models(Xs[0].shape,\n",
    "                                  number_of_classes=num_classes,\n",
    "                                  number_of_models = nr_models)"
   ]
  },
  {
   "cell_type": "code",
   "execution_count": null,
   "metadata": {
    "collapsed": true
   },
   "outputs": [],
   "source": []
  },
  {
   "cell_type": "code",
   "execution_count": 19,
   "metadata": {
    "collapsed": false
   },
   "outputs": [],
   "source": [
    "for i, (model, params, model_type) in enumerate(models):\n",
    "    storage.savemodel(model,resultpath,\"model_\"+str(i))"
   ]
  },
  {
   "cell_type": "markdown",
   "metadata": {},
   "source": [
    "## Compare models\n",
    "Now that the model architectures have been generated it is time to compare the models by training them in a subset of the training data and evaluating the models in the validation subset. This will help us to choose the best candidate model. Performance results are stored in a json file."
   ]
  },
  {
   "cell_type": "code",
   "execution_count": 25,
   "metadata": {
    "collapsed": false
   },
   "outputs": [],
   "source": [
    "def split_train_test(X_list, y_list, j):\n",
    "    X_train = np.concatenate(X_list[0:j]+X_list[j+1:])\n",
    "    X_test = X_list[j]\n",
    "    y_train = np.concatenate(y_list[0:j]+y_list[j+1:])\n",
    "    y_test = y_list[j]\n",
    "    return X_train, y_train, X_test, y_test\n",
    "\n",
    "def split_train_small_val(X_list, y_list, j, trainsize=500, valsize=500):\n",
    "    X = np.concatenate(X_list[0:j]+X_list[j+1:])\n",
    "    y = np.concatenate(y_list[0:j]+y_list[j+1:])\n",
    "    rand_ind = np.random.choice(X.shape[0], trainsize+valsize, replace=False)\n",
    "    X_train = X[rand_ind[:trainsize]]\n",
    "    y_train = y[rand_ind[:trainsize]]\n",
    "    X_val = X[rand_ind[trainsize:]]\n",
    "    y_val = y[rand_ind[trainsize:]]\n",
    "    return X_train, y_train, X_val, y_val"
   ]
  },
  {
   "cell_type": "code",
   "execution_count": 26,
   "metadata": {
    "collapsed": false
   },
   "outputs": [],
   "source": [
    "from keras.optimizers import Adam\n",
    "from keras.models import model_from_json\n",
    "\n",
    "def get_fresh_copy(model, lr):\n",
    "    model_json = model.to_json()\n",
    "    model_copy = model_from_json(model_json)\n",
    "    model_copy.compile(loss='categorical_crossentropy',\n",
    "                  optimizer=Adam(lr=lr),\n",
    "                  metrics=['accuracy'])\n",
    "    #for layer in model_copy.layers:\n",
    "    #    layer.build(layer.input_shape)\n",
    "    return model_copy"
   ]
  },
  {
   "cell_type": "code",
   "execution_count": 10,
   "metadata": {
    "collapsed": false
   },
   "outputs": [],
   "source": [
    "models = [(get_fresh_copy(model, params['learning_rate']), params, model_type)  for model, params, model_type in models]"
   ]
  },
  {
   "cell_type": "code",
   "execution_count": 12,
   "metadata": {
    "collapsed": false
   },
   "outputs": [
    {
     "name": "stdout",
     "output_type": "stream",
     "text": [
      "fold 0\n",
      "Training model 0 DeepConvLSTM\n"
     ]
    },
    {
     "name": "stderr",
     "output_type": "stream",
     "text": [
      "/home/dafne/anaconda2/envs/mcfly/lib/python3.5/site-packages/keras/models.py:826: UserWarning: The `nb_epoch` argument in `fit` has been renamed `epochs`.\n",
      "  warnings.warn('The `nb_epoch` argument in `fit` '\n"
     ]
    },
    {
     "ename": "KeyboardInterrupt",
     "evalue": "",
     "output_type": "error",
     "traceback": [
      "\u001b[0;31m---------------------------------------------------------------------------\u001b[0m",
      "\u001b[0;31mKeyboardInterrupt\u001b[0m                         Traceback (most recent call last)",
      "\u001b[0;32m<ipython-input-12-94fd41c9b090>\u001b[0m in \u001b[0;36m<module>\u001b[0;34m()\u001b[0m\n\u001b[1;32m     15\u001b[0m                                                                            outputfile=os.path.join(resultpath, \n\u001b[1;32m     16\u001b[0m                                                                                   'experiment'+str(j)+'.json'),\n\u001b[0;32m---> 17\u001b[0;31m                                                                            early_stopping=True)\n\u001b[0m\u001b[1;32m     18\u001b[0m     \u001b[0mhistories_list\u001b[0m\u001b[0;34m.\u001b[0m\u001b[0mappend\u001b[0m\u001b[0;34m(\u001b[0m\u001b[0mhistories\u001b[0m\u001b[0;34m)\u001b[0m\u001b[0;34m\u001b[0m\u001b[0m\n\u001b[1;32m     19\u001b[0m     \u001b[0mval_accuracies_list\u001b[0m\u001b[0;34m.\u001b[0m\u001b[0mappend\u001b[0m\u001b[0;34m(\u001b[0m\u001b[0mval_accuracies\u001b[0m\u001b[0;34m)\u001b[0m\u001b[0;34m\u001b[0m\u001b[0m\n",
      "\u001b[0;32m/home/dafne/anaconda2/envs/mcfly/lib/python3.5/site-packages/mcfly/find_architecture.py\u001b[0m in \u001b[0;36mtrain_models_on_samples\u001b[0;34m(X_train, y_train, X_val, y_val, models, nr_epochs, subset_size, verbose, outputfile, early_stopping)\u001b[0m\n\u001b[1;32m     79\u001b[0m                             \u001b[0mvalidation_data\u001b[0m\u001b[0;34m=\u001b[0m\u001b[0;34m(\u001b[0m\u001b[0mX_val\u001b[0m\u001b[0;34m,\u001b[0m \u001b[0my_val\u001b[0m\u001b[0;34m)\u001b[0m\u001b[0;34m,\u001b[0m\u001b[0;34m\u001b[0m\u001b[0m\n\u001b[1;32m     80\u001b[0m                             \u001b[0mverbose\u001b[0m\u001b[0;34m=\u001b[0m\u001b[0mverbose\u001b[0m\u001b[0;34m,\u001b[0m\u001b[0;34m\u001b[0m\u001b[0m\n\u001b[0;32m---> 81\u001b[0;31m                             callbacks=callbacks)\n\u001b[0m\u001b[1;32m     82\u001b[0m         \u001b[0mhistories\u001b[0m\u001b[0;34m.\u001b[0m\u001b[0mappend\u001b[0m\u001b[0;34m(\u001b[0m\u001b[0mhistory\u001b[0m\u001b[0;34m)\u001b[0m\u001b[0;34m\u001b[0m\u001b[0m\n\u001b[1;32m     83\u001b[0m         \u001b[0mval_accuracies\u001b[0m\u001b[0;34m.\u001b[0m\u001b[0mappend\u001b[0m\u001b[0;34m(\u001b[0m\u001b[0mhistory\u001b[0m\u001b[0;34m.\u001b[0m\u001b[0mhistory\u001b[0m\u001b[0;34m[\u001b[0m\u001b[0;34m'val_acc'\u001b[0m\u001b[0;34m]\u001b[0m\u001b[0;34m[\u001b[0m\u001b[0;34m-\u001b[0m\u001b[0;36m1\u001b[0m\u001b[0;34m]\u001b[0m\u001b[0;34m)\u001b[0m\u001b[0;34m\u001b[0m\u001b[0m\n",
      "\u001b[0;32m/home/dafne/anaconda2/envs/mcfly/lib/python3.5/site-packages/keras/models.py\u001b[0m in \u001b[0;36mfit\u001b[0;34m(self, x, y, batch_size, epochs, verbose, callbacks, validation_split, validation_data, shuffle, class_weight, sample_weight, initial_epoch, **kwargs)\u001b[0m\n\u001b[1;32m    843\u001b[0m                               \u001b[0mclass_weight\u001b[0m\u001b[0;34m=\u001b[0m\u001b[0mclass_weight\u001b[0m\u001b[0;34m,\u001b[0m\u001b[0;34m\u001b[0m\u001b[0m\n\u001b[1;32m    844\u001b[0m                               \u001b[0msample_weight\u001b[0m\u001b[0;34m=\u001b[0m\u001b[0msample_weight\u001b[0m\u001b[0;34m,\u001b[0m\u001b[0;34m\u001b[0m\u001b[0m\n\u001b[0;32m--> 845\u001b[0;31m                               initial_epoch=initial_epoch)\n\u001b[0m\u001b[1;32m    846\u001b[0m \u001b[0;34m\u001b[0m\u001b[0m\n\u001b[1;32m    847\u001b[0m     def evaluate(self, x, y, batch_size=32, verbose=1,\n",
      "\u001b[0;32m/home/dafne/anaconda2/envs/mcfly/lib/python3.5/site-packages/keras/engine/training.py\u001b[0m in \u001b[0;36mfit\u001b[0;34m(self, x, y, batch_size, epochs, verbose, callbacks, validation_split, validation_data, shuffle, class_weight, sample_weight, initial_epoch, **kwargs)\u001b[0m\n\u001b[1;32m   1455\u001b[0m         \u001b[0;32melse\u001b[0m\u001b[0;34m:\u001b[0m\u001b[0;34m\u001b[0m\u001b[0m\n\u001b[1;32m   1456\u001b[0m             \u001b[0mins\u001b[0m \u001b[0;34m=\u001b[0m \u001b[0mx\u001b[0m \u001b[0;34m+\u001b[0m \u001b[0my\u001b[0m \u001b[0;34m+\u001b[0m \u001b[0msample_weights\u001b[0m\u001b[0;34m\u001b[0m\u001b[0m\n\u001b[0;32m-> 1457\u001b[0;31m         \u001b[0mself\u001b[0m\u001b[0;34m.\u001b[0m\u001b[0m_make_train_function\u001b[0m\u001b[0;34m(\u001b[0m\u001b[0;34m)\u001b[0m\u001b[0;34m\u001b[0m\u001b[0m\n\u001b[0m\u001b[1;32m   1458\u001b[0m         \u001b[0mf\u001b[0m \u001b[0;34m=\u001b[0m \u001b[0mself\u001b[0m\u001b[0;34m.\u001b[0m\u001b[0mtrain_function\u001b[0m\u001b[0;34m\u001b[0m\u001b[0m\n\u001b[1;32m   1459\u001b[0m \u001b[0;34m\u001b[0m\u001b[0m\n",
      "\u001b[0;32m/home/dafne/anaconda2/envs/mcfly/lib/python3.5/site-packages/keras/engine/training.py\u001b[0m in \u001b[0;36m_make_train_function\u001b[0;34m(self)\u001b[0m\n\u001b[1;32m    999\u001b[0m                 \u001b[0mself\u001b[0m\u001b[0;34m.\u001b[0m\u001b[0m_collected_trainable_weights\u001b[0m\u001b[0;34m,\u001b[0m\u001b[0;34m\u001b[0m\u001b[0m\n\u001b[1;32m   1000\u001b[0m                 \u001b[0mself\u001b[0m\u001b[0;34m.\u001b[0m\u001b[0mconstraints\u001b[0m\u001b[0;34m,\u001b[0m\u001b[0;34m\u001b[0m\u001b[0m\n\u001b[0;32m-> 1001\u001b[0;31m                 self.total_loss)\n\u001b[0m\u001b[1;32m   1002\u001b[0m             \u001b[0mupdates\u001b[0m \u001b[0;34m=\u001b[0m \u001b[0mself\u001b[0m\u001b[0;34m.\u001b[0m\u001b[0mupdates\u001b[0m \u001b[0;34m+\u001b[0m \u001b[0mtraining_updates\u001b[0m\u001b[0;34m\u001b[0m\u001b[0m\n\u001b[1;32m   1003\u001b[0m             \u001b[0;31m# Gets loss and metrics. Updates weights at each call.\u001b[0m\u001b[0;34m\u001b[0m\u001b[0;34m\u001b[0m\u001b[0m\n",
      "\u001b[0;32m/home/dafne/anaconda2/envs/mcfly/lib/python3.5/site-packages/keras/optimizers.py\u001b[0m in \u001b[0;36mget_updates\u001b[0;34m(self, params, constraints, loss)\u001b[0m\n\u001b[1;32m    400\u001b[0m             \u001b[0mp_t\u001b[0m \u001b[0;34m=\u001b[0m \u001b[0mp\u001b[0m \u001b[0;34m-\u001b[0m \u001b[0mlr_t\u001b[0m \u001b[0;34m*\u001b[0m \u001b[0mm_t\u001b[0m \u001b[0;34m/\u001b[0m \u001b[0;34m(\u001b[0m\u001b[0mK\u001b[0m\u001b[0;34m.\u001b[0m\u001b[0msqrt\u001b[0m\u001b[0;34m(\u001b[0m\u001b[0mv_t\u001b[0m\u001b[0;34m)\u001b[0m \u001b[0;34m+\u001b[0m \u001b[0mself\u001b[0m\u001b[0;34m.\u001b[0m\u001b[0mepsilon\u001b[0m\u001b[0;34m)\u001b[0m\u001b[0;34m\u001b[0m\u001b[0m\n\u001b[1;32m    401\u001b[0m \u001b[0;34m\u001b[0m\u001b[0m\n\u001b[0;32m--> 402\u001b[0;31m             \u001b[0mself\u001b[0m\u001b[0;34m.\u001b[0m\u001b[0mupdates\u001b[0m\u001b[0;34m.\u001b[0m\u001b[0mappend\u001b[0m\u001b[0;34m(\u001b[0m\u001b[0mK\u001b[0m\u001b[0;34m.\u001b[0m\u001b[0mupdate\u001b[0m\u001b[0;34m(\u001b[0m\u001b[0mm\u001b[0m\u001b[0;34m,\u001b[0m \u001b[0mm_t\u001b[0m\u001b[0;34m)\u001b[0m\u001b[0;34m)\u001b[0m\u001b[0;34m\u001b[0m\u001b[0m\n\u001b[0m\u001b[1;32m    403\u001b[0m             \u001b[0mself\u001b[0m\u001b[0;34m.\u001b[0m\u001b[0mupdates\u001b[0m\u001b[0;34m.\u001b[0m\u001b[0mappend\u001b[0m\u001b[0;34m(\u001b[0m\u001b[0mK\u001b[0m\u001b[0;34m.\u001b[0m\u001b[0mupdate\u001b[0m\u001b[0;34m(\u001b[0m\u001b[0mv\u001b[0m\u001b[0;34m,\u001b[0m \u001b[0mv_t\u001b[0m\u001b[0;34m)\u001b[0m\u001b[0;34m)\u001b[0m\u001b[0;34m\u001b[0m\u001b[0m\n\u001b[1;32m    404\u001b[0m \u001b[0;34m\u001b[0m\u001b[0m\n",
      "\u001b[0;32m/home/dafne/anaconda2/envs/mcfly/lib/python3.5/site-packages/keras/backend/tensorflow_backend.py\u001b[0m in \u001b[0;36mupdate\u001b[0;34m(x, new_x)\u001b[0m\n\u001b[1;32m    760\u001b[0m \u001b[0;34m\u001b[0m\u001b[0m\n\u001b[1;32m    761\u001b[0m \u001b[0;32mdef\u001b[0m \u001b[0mupdate\u001b[0m\u001b[0;34m(\u001b[0m\u001b[0mx\u001b[0m\u001b[0;34m,\u001b[0m \u001b[0mnew_x\u001b[0m\u001b[0;34m)\u001b[0m\u001b[0;34m:\u001b[0m\u001b[0;34m\u001b[0m\u001b[0m\n\u001b[0;32m--> 762\u001b[0;31m     \u001b[0;32mreturn\u001b[0m \u001b[0mtf\u001b[0m\u001b[0;34m.\u001b[0m\u001b[0massign\u001b[0m\u001b[0;34m(\u001b[0m\u001b[0mx\u001b[0m\u001b[0;34m,\u001b[0m \u001b[0mnew_x\u001b[0m\u001b[0;34m)\u001b[0m\u001b[0;34m\u001b[0m\u001b[0m\n\u001b[0m\u001b[1;32m    763\u001b[0m \u001b[0;34m\u001b[0m\u001b[0m\n\u001b[1;32m    764\u001b[0m \u001b[0;34m\u001b[0m\u001b[0m\n",
      "\u001b[0;32m/home/dafne/anaconda2/envs/mcfly/lib/python3.5/site-packages/tensorflow/python/ops/gen_state_ops.py\u001b[0m in \u001b[0;36massign\u001b[0;34m(ref, value, validate_shape, use_locking, name)\u001b[0m\n\u001b[1;32m     45\u001b[0m   result = _op_def_lib.apply_op(\"Assign\", ref=ref, value=value,\n\u001b[1;32m     46\u001b[0m                                 \u001b[0mvalidate_shape\u001b[0m\u001b[0;34m=\u001b[0m\u001b[0mvalidate_shape\u001b[0m\u001b[0;34m,\u001b[0m\u001b[0;34m\u001b[0m\u001b[0m\n\u001b[0;32m---> 47\u001b[0;31m                                 use_locking=use_locking, name=name)\n\u001b[0m\u001b[1;32m     48\u001b[0m   \u001b[0;32mreturn\u001b[0m \u001b[0mresult\u001b[0m\u001b[0;34m\u001b[0m\u001b[0m\n\u001b[1;32m     49\u001b[0m \u001b[0;34m\u001b[0m\u001b[0m\n",
      "\u001b[0;32m/home/dafne/anaconda2/envs/mcfly/lib/python3.5/site-packages/tensorflow/python/framework/op_def_library.py\u001b[0m in \u001b[0;36mapply_op\u001b[0;34m(self, op_type_name, name, **keywords)\u001b[0m\n\u001b[1;32m    757\u001b[0m       must_colocate_inputs = [val for arg, val in zip(op_def.input_arg, inputs)\n\u001b[1;32m    758\u001b[0m                               if arg.is_ref]\n\u001b[0;32m--> 759\u001b[0;31m       \u001b[0;32mwith\u001b[0m \u001b[0m_MaybeColocateWith\u001b[0m\u001b[0;34m(\u001b[0m\u001b[0mmust_colocate_inputs\u001b[0m\u001b[0;34m)\u001b[0m\u001b[0;34m:\u001b[0m\u001b[0;34m\u001b[0m\u001b[0m\n\u001b[0m\u001b[1;32m    760\u001b[0m         \u001b[0;31m# Add Op to graph\u001b[0m\u001b[0;34m\u001b[0m\u001b[0;34m\u001b[0m\u001b[0m\n\u001b[1;32m    761\u001b[0m         op = g.create_op(op_type_name, inputs, output_types, name=scope,\n",
      "\u001b[0;32m/home/dafne/anaconda2/envs/mcfly/lib/python3.5/contextlib.py\u001b[0m in \u001b[0;36mhelper\u001b[0;34m(*args, **kwds)\u001b[0m\n\u001b[1;32m    129\u001b[0m \u001b[0;34m\u001b[0m\u001b[0m\n\u001b[1;32m    130\u001b[0m     \"\"\"\n\u001b[0;32m--> 131\u001b[0;31m     \u001b[0;34m@\u001b[0m\u001b[0mwraps\u001b[0m\u001b[0;34m(\u001b[0m\u001b[0mfunc\u001b[0m\u001b[0;34m)\u001b[0m\u001b[0;34m\u001b[0m\u001b[0m\n\u001b[0m\u001b[1;32m    132\u001b[0m     \u001b[0;32mdef\u001b[0m \u001b[0mhelper\u001b[0m\u001b[0;34m(\u001b[0m\u001b[0;34m*\u001b[0m\u001b[0margs\u001b[0m\u001b[0;34m,\u001b[0m \u001b[0;34m**\u001b[0m\u001b[0mkwds\u001b[0m\u001b[0;34m)\u001b[0m\u001b[0;34m:\u001b[0m\u001b[0;34m\u001b[0m\u001b[0m\n\u001b[1;32m    133\u001b[0m         \u001b[0;32mreturn\u001b[0m \u001b[0m_GeneratorContextManager\u001b[0m\u001b[0;34m(\u001b[0m\u001b[0mfunc\u001b[0m\u001b[0;34m,\u001b[0m \u001b[0margs\u001b[0m\u001b[0;34m,\u001b[0m \u001b[0mkwds\u001b[0m\u001b[0;34m)\u001b[0m\u001b[0;34m\u001b[0m\u001b[0m\n",
      "\u001b[0;31mKeyboardInterrupt\u001b[0m: "
     ]
    }
   ],
   "source": [
    "import time\n",
    "t = time.time()\n",
    "np.random.seed(123)\n",
    "histories_list, val_accuracies_list, val_losses_list = [], [], []\n",
    "for j in range(len(Xs)):\n",
    "    print('fold '+str(j))\n",
    "    models = [(get_fresh_copy(model, params['learning_rate']), params, model_type)  for model, params, model_type in models]\n",
    "    X_train, y_train, X_val, y_val = split_train_small_val(Xs, ys, j, trainsize=trainsize, valsize=valsize)\n",
    "    histories, val_accuracies, val_losses = find_architecture.train_models_on_samples(X_train, y_train,\n",
    "                                                                           X_val, y_val,\n",
    "                                                                           models,\n",
    "                                                                           nr_epochs=nr_epochs,\n",
    "                                                                           subset_size=subset_size,\n",
    "                                                                           verbose=True,\n",
    "                                                                           outputfile=os.path.join(resultpath, \n",
    "                                                                                  'experiment'+str(j)+'.json'),\n",
    "                                                                           early_stopping=True)\n",
    "    histories_list.append(histories)\n",
    "    val_accuracies_list.append(val_accuracies)\n",
    "    val_losses.append(val_losses)\n",
    "print(time.time()-t)"
   ]
  },
  {
   "cell_type": "code",
   "execution_count": 6,
   "metadata": {
    "collapsed": false
   },
   "outputs": [],
   "source": [
    "# Read them all back in\n",
    "import json\n",
    "model_jsons = []\n",
    "for j in len(Xs):\n",
    "    with open(os.path.join(resultpath, 'experiment'+str(j)+'.json'), 'r') as outfile:\n",
    "        model_jsons.append(json.load(outfile))"
   ]
  },
  {
   "cell_type": "code",
   "execution_count": 12,
   "metadata": {
    "collapsed": false
   },
   "outputs": [],
   "source": [
    "val_accuracies = np.array([[mod['val_acc'][-1] for mod in fold] for fold in model_jsons])"
   ]
  },
  {
   "cell_type": "code",
   "execution_count": 13,
   "metadata": {
    "collapsed": false
   },
   "outputs": [],
   "source": [
    "val_acc = np.array([np.array([mod['val_acc'][-1] for mod in fold], dtype='float') for fold in model_jsons])\n",
    "train_acc = np.array([np.array([mod['train_acc'][-1] for mod in fold], dtype='float') for fold in model_jsons])\n",
    "train_loss = np.array([np.array([mod['train_loss'][-1] for mod in fold], dtype='float') for fold in model_jsons])\n",
    "val_loss = np.array([np.array([mod['val_loss'][-1] for mod in fold], dtype='float') for fold in model_jsons])"
   ]
  },
  {
   "cell_type": "code",
   "execution_count": 14,
   "metadata": {
    "collapsed": false
   },
   "outputs": [
    {
     "name": "stdout",
     "output_type": "stream",
     "text": [
      "val_accuracies_avg: [ 0.131  0.285  0.196  0.087  0.436  0.137  0.131  0.544  0.278  0.105\n",
      "  0.121  0.274  0.436]\n"
     ]
    }
   ],
   "source": [
    "val_accuracies_avg = val_acc.mean(axis=0)\n",
    "print('val_accuracies_avg:', val_accuracies_avg)"
   ]
  },
  {
   "cell_type": "code",
   "execution_count": 23,
   "metadata": {
    "collapsed": false
   },
   "outputs": [],
   "source": [
    "best_model_index = np.argmax(val_accuracies_avg)\n",
    "best_model = storage.loadmodel(resultpath, 'model_'+str(best_model_index))"
   ]
  },
  {
   "cell_type": "code",
   "execution_count": 28,
   "metadata": {
    "collapsed": true
   },
   "outputs": [],
   "source": [
    "best_params = model_jsons[0][best_model_index]"
   ]
  },
  {
   "cell_type": "markdown",
   "metadata": {},
   "source": [
    "## Train the best model for real"
   ]
  },
  {
   "cell_type": "markdown",
   "metadata": {},
   "source": [
    "Now that we have identified the best model architecture out of our random pool of models we can continue by training the model on the full training sample. For the purpose of speeding up the example we only train the full model on the first 1000 values. You will need to replace this by 'datasize = X_train.shape[0]' in a real world example."
   ]
  },
  {
   "cell_type": "code",
   "execution_count": null,
   "metadata": {
    "collapsed": false
   },
   "outputs": [
    {
     "name": "stderr",
     "output_type": "stream",
     "text": [
      "/home/dafne/anaconda2/envs/mcfly/lib/python3.5/site-packages/keras/models.py:826: UserWarning: The `nb_epoch` argument in `fit` has been renamed `epochs`.\n",
      "  warnings.warn('The `nb_epoch` argument in `fit` '\n"
     ]
    },
    {
     "name": "stdout",
     "output_type": "stream",
     "text": [
      "Train on 14663 samples, validate on 2155 samples\n",
      "Epoch 1/2\n"
     ]
    }
   ],
   "source": [
    "nr_epochs = 2\n",
    "\n",
    "np.random.seed(123)\n",
    "histories, test_accuracies_list, models = [], [], []\n",
    "for j in range(len(Xs)):\n",
    "    X_train, y_train, X_test, y_test = split_train_test(Xs, ys, j)\n",
    "    model_copy = get_fresh_copy(best_model, best_params['learning_rate'])\n",
    "    datasize = X_train.shape[0]\n",
    "    \n",
    "    history = model_copy.fit(X_train[:datasize,:,:], y_train[:datasize,:],\n",
    "              nb_epoch=nr_epochs, validation_data=(X_test, y_test))\n",
    "    \n",
    "    histories.append(history)\n",
    "    test_accuracies_list.append(history.history['val_acc'][-1] )\n",
    "    models.append(model_copy)"
   ]
  },
  {
   "cell_type": "code",
   "execution_count": null,
   "metadata": {
    "collapsed": true
   },
   "outputs": [],
   "source": [
    "modelname = 'my_bestmodel'"
   ]
  },
  {
   "cell_type": "code",
   "execution_count": null,
   "metadata": {
    "collapsed": false
   },
   "outputs": [],
   "source": [
    "for i, model in enumerate(models):\n",
    "    storage.savemodel(model,resultpath,modelname+str(i))"
   ]
  },
  {
   "cell_type": "code",
   "execution_count": null,
   "metadata": {
    "collapsed": false
   },
   "outputs": [],
   "source": [
    "print('accuracies: ', test_accuracies_list)"
   ]
  },
  {
   "cell_type": "code",
   "execution_count": null,
   "metadata": {
    "collapsed": true
   },
   "outputs": [],
   "source": [
    "print(np.mean(test_accuracies_list))"
   ]
  },
  {
   "cell_type": "code",
   "execution_count": null,
   "metadata": {
    "collapsed": true
   },
   "outputs": [],
   "source": []
  }
 ],
 "metadata": {
  "anaconda-cloud": {},
  "kernelspec": {
   "display_name": "Python [conda env:mcfly]",
   "language": "python",
   "name": "conda-env-mcfly-py"
  },
  "language_info": {
   "codemirror_mode": {
    "name": "ipython",
    "version": 3
   },
   "file_extension": ".py",
   "mimetype": "text/x-python",
   "name": "python",
   "nbconvert_exporter": "python",
   "pygments_lexer": "ipython3",
   "version": "3.5.2"
  }
 },
 "nbformat": 4,
 "nbformat_minor": 1
}
