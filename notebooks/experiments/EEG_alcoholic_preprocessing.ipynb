{
 "cells": [
  {
   "cell_type": "code",
   "execution_count": 1,
   "metadata": {
    "collapsed": true
   },
   "outputs": [],
   "source": [
    "import pandas as pd\n",
    "import numpy as np\n",
    "from io import StringIO\n",
    "import os"
   ]
  },
  {
   "cell_type": "code",
   "execution_count": 2,
   "metadata": {
    "collapsed": false
   },
   "outputs": [],
   "source": [
    "def read_datafile(fn):\n",
    "    with open(fn, 'r') as f:\n",
    "        header_1 = f.readline()\n",
    "        subject = header_1.split('.')[0][2:]\n",
    "        header_2 = f.readline()\n",
    "        header_3 = f.readline()\n",
    "        header_4 = f.readline()\n",
    "        stimulus = ' '.join(header_4.split(' ')[1:3])\n",
    "        header_5 = f.readline()\n",
    "        rest = f.read()\n",
    "        if(len(rest)>0):\n",
    "            data_trial = pd.read_csv(StringIO(rest), sep=' ', header=None)\n",
    "            data_trial.columns = ['trial', 'sensor', 'sample', 'value']\n",
    "            data_trial['subject'] = subject\n",
    "            data_trial['stimulus'] = stimulus\n",
    "        else:\n",
    "            data_trial = None\n",
    "    return data_trial"
   ]
  },
  {
   "cell_type": "code",
   "execution_count": 3,
   "metadata": {
    "collapsed": true
   },
   "outputs": [],
   "source": [
    "data_dir = '/media/sf_VBox_Shared/timeseries/UCI_EEG_alcoholic/data/'"
   ]
  },
  {
   "cell_type": "code",
   "execution_count": 6,
   "metadata": {
    "collapsed": false
   },
   "outputs": [
    {
     "name": "stdout",
     "output_type": "stream",
     "text": [
      " "
     ]
    }
   ],
   "source": [
    "%%prun\n",
    "dat = pd.DataFrame(columns=['subject', 'stimulus', 'trial', 'sensor', 'sample', 'value'])\n",
    "for fn in os.listdir(data_dir)[:100]:\n",
    "    full_fn = os.path.join(data_dir, fn)\n",
    "    if os.path.isfile(full_fn):\n",
    "        try:\n",
    "            data_trial = read_datafile(full_fn)\n",
    "            if data_trial is not None:\n",
    "                dat = dat.append(data_trial)\n",
    "        except Exception as err:\n",
    "            print(fn, err)"
   ]
  },
  {
   "cell_type": "code",
   "execution_count": 19,
   "metadata": {
    "collapsed": false
   },
   "outputs": [
    {
     "data": {
      "text/plain": [
       "(2119, 2)"
      ]
     },
     "execution_count": 19,
     "metadata": {},
     "output_type": "execute_result"
    }
   ],
   "source": [
    "dat[['subject', 'trial']].drop_duplicates().shape"
   ]
  },
  {
   "cell_type": "code",
   "execution_count": 4,
   "metadata": {
    "collapsed": false
   },
   "outputs": [
    {
     "name": "stdout",
     "output_type": "stream",
     "text": [
      "co2c1000367.rd.065 No columns to parse from file\n",
      "co2c1000367.rd.089 No columns to parse from file\n",
      "co2c1000367.rd.090 No columns to parse from file\n",
      "co2c1000367.rd.105 No columns to parse from file\n",
      "co2c1000367.rd.113 No columns to parse from file\n",
      "co2c1000367.rd.114 No columns to parse from file\n",
      "co2c1000367.rd.116 No columns to parse from file\n",
      "co2c1000367.rd.117 No columns to parse from file\n",
      "co2c1000367.rd.004 No columns to parse from file\n",
      "co2c1000367.rd.005 No columns to parse from file\n",
      "co2c1000367.rd.006 No columns to parse from file\n",
      "co2c1000367.rd.023 No columns to parse from file\n",
      "co2c1000367.rd.029 No columns to parse from file\n",
      "co2c1000367.rd.037 No columns to parse from file\n",
      "co2c1000367.rd.042 No columns to parse from file\n",
      "co2c1000367.rd.053 No columns to parse from file\n",
      "co2c1000367.rd.054 No columns to parse from file\n",
      "318.12917041778564 s\n"
     ]
    }
   ],
   "source": [
    "#%%prun\n",
    "import time\n",
    "\n",
    "Xes = []\n",
    "sensors = []\n",
    "labels = []\n",
    "headers = []\n",
    "\n",
    "t = time.time()\n",
    "for fn in os.listdir(data_dir):\n",
    "#for fn in np.random.choice(os.listdir(data_dir), 100):\n",
    "    full_fn = os.path.join(data_dir, fn)\n",
    "    if os.path.isfile(full_fn):\n",
    "        try:\n",
    "            data_trial = pd.read_csv(full_fn, sep=' ', header=None, comment='#')\n",
    "            if data_trial is not None:\n",
    "                data_trial.columns = ['trial', 'sensor', 'sample', 'value']\n",
    "                pivoted = data_trial.pivot_table(index='sample', columns='sensor', values='value')\n",
    "                Xes.append(pivoted.as_matrix())\n",
    "                labels.append(fn[3])\n",
    "                sensors.append(pivoted.columns)\n",
    "                with open(full_fn, 'r') as f:\n",
    "                    header = [f.readline() for i in range(5)]\n",
    "                    headers.append(header)\n",
    "        except Exception as err:\n",
    "            print(fn, err)\n",
    "print((time.time()-t), 's')"
   ]
  },
  {
   "cell_type": "code",
   "execution_count": 12,
   "metadata": {
    "collapsed": false
   },
   "outputs": [
    {
     "data": {
      "text/plain": [
       "# S1 obj            5477\n",
       "# S2 match          2757\n",
       "# S2 nomatch        2728\n",
       "# S2 match err        60\n",
       "# S2 nomatch err      35\n",
       "dtype: int64"
      ]
     },
     "execution_count": 12,
     "metadata": {},
     "output_type": "execute_result"
    }
   ],
   "source": [
    "stimuli = [h[3].split(',')[0].strip() for h in headers]\n",
    "pd.Series(stimuli).value_counts()"
   ]
  },
  {
   "cell_type": "code",
   "execution_count": 40,
   "metadata": {
    "collapsed": false
   },
   "outputs": [],
   "source": [
    "subjects = [h[0].split(' ')[1].strip() for h in headers]\n",
    "trials = [h[3].split('trial ')[-1].strip() for h in headers]"
   ]
  },
  {
   "cell_type": "code",
   "execution_count": 41,
   "metadata": {
    "collapsed": false
   },
   "outputs": [
    {
     "name": "stdout",
     "output_type": "stream",
     "text": [
      "(11057, 3)\n"
     ]
    },
    {
     "data": {
      "text/html": [
       "<div>\n",
       "<table border=\"1\" class=\"dataframe\">\n",
       "  <thead>\n",
       "    <tr style=\"text-align: right;\">\n",
       "      <th></th>\n",
       "      <th>stimuli</th>\n",
       "      <th>subject</th>\n",
       "      <th>trial</th>\n",
       "    </tr>\n",
       "  </thead>\n",
       "  <tbody>\n",
       "    <tr>\n",
       "      <th>0</th>\n",
       "      <td># S2 nomatch</td>\n",
       "      <td>co3c0000402.rd</td>\n",
       "      <td>13</td>\n",
       "    </tr>\n",
       "    <tr>\n",
       "      <th>1</th>\n",
       "      <td># S1 obj</td>\n",
       "      <td>co3c0000402.rd</td>\n",
       "      <td>14</td>\n",
       "    </tr>\n",
       "    <tr>\n",
       "      <th>2</th>\n",
       "      <td># S2 nomatch</td>\n",
       "      <td>co3c0000402.rd</td>\n",
       "      <td>15</td>\n",
       "    </tr>\n",
       "    <tr>\n",
       "      <th>3</th>\n",
       "      <td># S1 obj</td>\n",
       "      <td>co3c0000402.rd</td>\n",
       "      <td>16</td>\n",
       "    </tr>\n",
       "    <tr>\n",
       "      <th>4</th>\n",
       "      <td># S2 match</td>\n",
       "      <td>co3c0000402.rd</td>\n",
       "      <td>17</td>\n",
       "    </tr>\n",
       "  </tbody>\n",
       "</table>\n",
       "</div>"
      ],
      "text/plain": [
       "        stimuli         subject trial\n",
       "0  # S2 nomatch  co3c0000402.rd    13\n",
       "1      # S1 obj  co3c0000402.rd    14\n",
       "2  # S2 nomatch  co3c0000402.rd    15\n",
       "3      # S1 obj  co3c0000402.rd    16\n",
       "4    # S2 match  co3c0000402.rd    17"
      ]
     },
     "execution_count": 41,
     "metadata": {},
     "output_type": "execute_result"
    }
   ],
   "source": [
    "metadata = pd.DataFrame({'subject': subjects, 'trial': trials, 'stimuli': stimuli})\n",
    "print(metadata.shape)\n",
    "metadata.head()"
   ]
  },
  {
   "cell_type": "code",
   "execution_count": 42,
   "metadata": {
    "collapsed": false
   },
   "outputs": [
    {
     "data": {
      "text/plain": [
       "(11057, 256, 64)"
      ]
     },
     "execution_count": 42,
     "metadata": {},
     "output_type": "execute_result"
    }
   ],
   "source": [
    "# The shape should be: (num_samples, num_timesteps, num_channels)\n",
    "Xa = np.array(Xes)\n",
    "Xa.shape"
   ]
  },
  {
   "cell_type": "code",
   "execution_count": 43,
   "metadata": {
    "collapsed": false
   },
   "outputs": [
    {
     "data": {
      "text/html": [
       "<div>\n",
       "<table border=\"1\" class=\"dataframe\">\n",
       "  <thead>\n",
       "    <tr style=\"text-align: right;\">\n",
       "      <th></th>\n",
       "      <th>0</th>\n",
       "      <th>1</th>\n",
       "      <th>2</th>\n",
       "      <th>3</th>\n",
       "      <th>4</th>\n",
       "      <th>5</th>\n",
       "      <th>6</th>\n",
       "      <th>7</th>\n",
       "      <th>8</th>\n",
       "      <th>9</th>\n",
       "      <th>...</th>\n",
       "      <th>54</th>\n",
       "      <th>55</th>\n",
       "      <th>56</th>\n",
       "      <th>57</th>\n",
       "      <th>58</th>\n",
       "      <th>59</th>\n",
       "      <th>60</th>\n",
       "      <th>61</th>\n",
       "      <th>62</th>\n",
       "      <th>63</th>\n",
       "    </tr>\n",
       "  </thead>\n",
       "  <tbody>\n",
       "    <tr>\n",
       "      <th>0</th>\n",
       "      <td>AF1</td>\n",
       "      <td>AF2</td>\n",
       "      <td>AF7</td>\n",
       "      <td>AF8</td>\n",
       "      <td>AFZ</td>\n",
       "      <td>C1</td>\n",
       "      <td>C2</td>\n",
       "      <td>C3</td>\n",
       "      <td>C4</td>\n",
       "      <td>C5</td>\n",
       "      <td>...</td>\n",
       "      <td>PO8</td>\n",
       "      <td>POZ</td>\n",
       "      <td>PZ</td>\n",
       "      <td>T7</td>\n",
       "      <td>T8</td>\n",
       "      <td>TP7</td>\n",
       "      <td>TP8</td>\n",
       "      <td>X</td>\n",
       "      <td>Y</td>\n",
       "      <td>nd</td>\n",
       "    </tr>\n",
       "  </tbody>\n",
       "</table>\n",
       "<p>1 rows × 64 columns</p>\n",
       "</div>"
      ],
      "text/plain": [
       "    0    1    2    3    4   5   6   7   8   9  ...   54   55  56  57  58   59  \\\n",
       "0  AF1  AF2  AF7  AF8  AFZ  C1  C2  C3  C4  C5 ...  PO8  POZ  PZ  T7  T8  TP7   \n",
       "\n",
       "    60 61 62  63  \n",
       "0  TP8  X  Y  nd  \n",
       "\n",
       "[1 rows x 64 columns]"
      ]
     },
     "execution_count": 43,
     "metadata": {},
     "output_type": "execute_result"
    }
   ],
   "source": [
    "pd.DataFrame(sensors).drop_duplicates()"
   ]
  },
  {
   "cell_type": "code",
   "execution_count": 44,
   "metadata": {
    "collapsed": false
   },
   "outputs": [
    {
     "data": {
      "text/plain": [
       "a    7033\n",
       "c    4024\n",
       "dtype: int64"
      ]
     },
     "execution_count": 44,
     "metadata": {},
     "output_type": "execute_result"
    }
   ],
   "source": [
    "# How many subjects do we have for each label?\n",
    "pd.Series(labels).value_counts()"
   ]
  },
  {
   "cell_type": "code",
   "execution_count": 45,
   "metadata": {
    "collapsed": false
   },
   "outputs": [
    {
     "data": {
      "text/plain": [
       "10962"
      ]
     },
     "execution_count": 45,
     "metadata": {},
     "output_type": "execute_result"
    }
   ],
   "source": [
    "# filter for errors\n",
    "no_error =  ~metadata.stimuli.str.contains('err')\n",
    "sum(no_error)"
   ]
  },
  {
   "cell_type": "code",
   "execution_count": 46,
   "metadata": {
    "collapsed": false
   },
   "outputs": [
    {
     "data": {
      "text/plain": [
       "(10962, 256, 64)"
      ]
     },
     "execution_count": 46,
     "metadata": {},
     "output_type": "execute_result"
    }
   ],
   "source": [
    "Xa_filtered = Xa[no_error]\n",
    "Xa_filtered.shape"
   ]
  },
  {
   "cell_type": "code",
   "execution_count": 53,
   "metadata": {
    "collapsed": false
   },
   "outputs": [
    {
     "data": {
      "text/plain": [
       "0"
      ]
     },
     "execution_count": 53,
     "metadata": {},
     "output_type": "execute_result"
    }
   ],
   "source": [
    "# Do we have NaN values?\n",
    "np.isnan(Xa_filtered).sum()"
   ]
  },
  {
   "cell_type": "code",
   "execution_count": 47,
   "metadata": {
    "collapsed": true
   },
   "outputs": [],
   "source": [
    "metadata_filtered = metadata[no_error]"
   ]
  },
  {
   "cell_type": "code",
   "execution_count": 64,
   "metadata": {
    "collapsed": false
   },
   "outputs": [],
   "source": [
    "preprocessed_path = '/media/sf_VBox_Shared/timeseries/UCI_EEG_alcoholic/preprocessed/'\n",
    "np.save(os.path.join(preprocessed_path, 'X.npy'), arr=Xa_filtered)\n",
    "metadata_filtered.to_csv(os.path.join(preprocessed_path, 'metadata.csv'), index=False)"
   ]
  },
  {
   "cell_type": "code",
   "execution_count": 56,
   "metadata": {
    "collapsed": false
   },
   "outputs": [
    {
     "name": "stdout",
     "output_type": "stream",
     "text": [
      "8769 1096 1097\n"
     ]
    }
   ],
   "source": [
    "# Create train and test set\n",
    "n = Xa_filtered.shape[0]\n",
    "n_train = int(0.8*n)\n",
    "n_val = int(0.1*n)\n",
    "n_test = n - n_train - n_val\n",
    "print(n_train, n_val, n_test)\n",
    "\n",
    "ind_perm = np.random.permutation(n)\n",
    "ind_train = ind_perm[:n_train]\n",
    "ind_val = ind_perm[n_train:n_train+n_val]\n",
    "ind_test = ind_perm[-n_test:]"
   ]
  },
  {
   "cell_type": "code",
   "execution_count": 65,
   "metadata": {
    "collapsed": false
   },
   "outputs": [],
   "source": [
    "np.save(os.path.join(preprocessed_path, 'X_train.npy'), arr=Xa_filtered[ind_train])\n",
    "np.save(os.path.join(preprocessed_path, 'X_val.npy'), arr=Xa_filtered[ind_val])\n",
    "np.save(os.path.join(preprocessed_path, 'X_test.npy'), arr=Xa_filtered[ind_test])"
   ]
  },
  {
   "cell_type": "code",
   "execution_count": 71,
   "metadata": {
    "collapsed": false
   },
   "outputs": [
    {
     "data": {
      "text/plain": [
       "(10962, 2)"
      ]
     },
     "execution_count": 71,
     "metadata": {},
     "output_type": "execute_result"
    }
   ],
   "source": [
    "# make binary labels\n",
    "y = np.zeros((len(labels), 2))\n",
    "y[:, 0] = [1*(l=='a') for l in labels]\n",
    "y[:, 1] = [1*(l=='c') for l in labels]\n",
    "y_filtered = y[no_error]\n",
    "y_filtered.shape"
   ]
  },
  {
   "cell_type": "code",
   "execution_count": 72,
   "metadata": {
    "collapsed": false
   },
   "outputs": [],
   "source": [
    "np.save(os.path.join(preprocessed_path, 'y.npy'), arr=y_filtered)\n",
    "np.save(os.path.join(preprocessed_path, 'y_train.npy'), arr=y_filtered[ind_train])\n",
    "np.save(os.path.join(preprocessed_path, 'y_val.npy'), arr=y_filtered[ind_val])\n",
    "np.save(os.path.join(preprocessed_path, 'y_test.npy'), arr=y_filtered[ind_test])"
   ]
  }
 ],
 "metadata": {
  "anaconda-cloud": {},
  "kernelspec": {
   "display_name": "Python [conda env:mcfly]",
   "language": "python",
   "name": "conda-env-mcfly-py"
  },
  "language_info": {
   "codemirror_mode": {
    "name": "ipython",
    "version": 3
   },
   "file_extension": ".py",
   "mimetype": "text/x-python",
   "name": "python",
   "nbconvert_exporter": "python",
   "pygments_lexer": "ipython3",
   "version": "3.5.2"
  }
 },
 "nbformat": 4,
 "nbformat_minor": 0
}
