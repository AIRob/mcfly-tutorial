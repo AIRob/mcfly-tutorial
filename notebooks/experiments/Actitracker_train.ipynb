{
 "cells": [
  {
   "cell_type": "code",
   "execution_count": 11,
   "metadata": {
    "collapsed": false
   },
   "outputs": [],
   "source": [
    "import sys\n",
    "import os\n",
    "import numpy as np\n",
    "import pandas as pd\n",
    "import json\n",
    "# mcfly\n",
    "from mcfly import modelgen, find_architecture, storage"
   ]
  },
  {
   "cell_type": "code",
   "execution_count": 7,
   "metadata": {
    "collapsed": false
   },
   "outputs": [],
   "source": [
    "data_path = '/media/sf_VBox_Shared/timeseries/actitiracker/WISDM_at_v2.0/'\n",
    "preprocessed_path = os.path.join(data_path, 'preprocessed')\n",
    "result_path = os.path.join(data_path, 'models')"
   ]
  },
  {
   "cell_type": "code",
   "execution_count": 8,
   "metadata": {
    "collapsed": false
   },
   "outputs": [],
   "source": [
    "X_train = np.load(os.path.join(preprocessed_path, 'X_train.npy'))\n",
    "X_val = np.load(os.path.join(preprocessed_path, 'X_val.npy'))\n",
    "X_test = np.load(os.path.join(preprocessed_path, 'X_test.npy'))\n",
    "y_train = np.load(os.path.join(preprocessed_path, 'y_train.npy'))\n",
    "y_val = np.load(os.path.join(preprocessed_path, 'y_val.npy'))\n",
    "y_test = np.load(os.path.join(preprocessed_path, 'y_test.npy'))"
   ]
  },
  {
   "cell_type": "code",
   "execution_count": 12,
   "metadata": {
    "collapsed": true
   },
   "outputs": [],
   "source": [
    "with open(os.path.join(preprocessed_path, 'labels.json')) as f:\n",
    "    labels = json.load(f)"
   ]
  },
  {
   "cell_type": "markdown",
   "metadata": {},
   "source": [
    "## Generate models"
   ]
  },
  {
   "cell_type": "code",
   "execution_count": 9,
   "metadata": {
    "collapsed": false
   },
   "outputs": [],
   "source": [
    "num_classes = y_train.shape[1]\n",
    "\n",
    "models = modelgen.generate_models(X_train.shape,\n",
    "                                  number_of_classes=num_classes,\n",
    "                                  number_of_models = 10)"
   ]
  },
  {
   "cell_type": "code",
   "execution_count": 13,
   "metadata": {
    "collapsed": false
   },
   "outputs": [
    {
     "data": {
      "text/plain": [
       "Walking      0.445402\n",
       "LyingDown    0.055904\n",
       "Standing     0.082027\n",
       "Sitting      0.281609\n",
       "Jogging      0.103971\n",
       "Stairs       0.031087\n",
       "dtype: float64"
      ]
     },
     "execution_count": 13,
     "metadata": {},
     "output_type": "execute_result"
    }
   ],
   "source": [
    "#what is the fraction of classes in the validation set?\n",
    "pd.Series(y_val.mean(axis=0), index=labels)"
   ]
  },
  {
   "cell_type": "code",
   "execution_count": 14,
   "metadata": {
    "collapsed": true
   },
   "outputs": [],
   "source": [
    "if not os.path.exists(result_path):\n",
    "        os.makedirs(result_path)"
   ]
  },
  {
   "cell_type": "code",
   "execution_count": 15,
   "metadata": {
    "collapsed": false,
    "scrolled": true
   },
   "outputs": [
    {
     "name": "stdout",
     "output_type": "stream",
     "text": [
      "Training model 0 CNN\n",
      "Train on 512 samples, validate on 3828 samples\n",
      "Epoch 1/5\n",
      "512/512 [==============================] - 78s - loss: 4.0337 - acc: 0.3867 - val_loss: 4.2274 - val_acc: 0.2816\n",
      "Epoch 2/5\n",
      "512/512 [==============================] - 71s - loss: 3.6176 - acc: 0.5762 - val_loss: 4.0029 - val_acc: 0.2816\n",
      "Epoch 3/5\n",
      "512/512 [==============================] - 73s - loss: 3.2745 - acc: 0.6172 - val_loss: 3.7601 - val_acc: 0.2816\n",
      "Epoch 4/5\n",
      "512/512 [==============================] - 74s - loss: 2.9327 - acc: 0.6719 - val_loss: 3.5162 - val_acc: 0.2816\n",
      "Epoch 5/5\n",
      "512/512 [==============================] - 67s - loss: 2.6737 - acc: 0.7109 - val_loss: 3.3016 - val_acc: 0.2816\n",
      "Training model 1 CNN\n",
      "Train on 512 samples, validate on 3828 samples\n",
      "Epoch 1/5\n",
      "512/512 [==============================] - 106s - loss: 22.5571 - acc: 0.4121 - val_loss: 19.7033 - val_acc: 0.0820\n",
      "Epoch 2/5\n",
      "512/512 [==============================] - 99s - loss: 16.2509 - acc: 0.5566 - val_loss: 13.9189 - val_acc: 0.0820\n",
      "Epoch 3/5\n",
      "512/512 [==============================] - 104s - loss: 11.1748 - acc: 0.6094 - val_loss: 10.0290 - val_acc: 0.0820\n",
      "Epoch 4/5\n",
      "512/512 [==============================] - 105s - loss: 7.8966 - acc: 0.6484 - val_loss: 7.5591 - val_acc: 0.0820\n",
      "Epoch 5/5\n",
      "512/512 [==============================] - 100s - loss: 5.8972 - acc: 0.6465 - val_loss: 5.9740 - val_acc: 0.0820\n",
      "Training model 2 CNN\n",
      "Train on 512 samples, validate on 3828 samples\n",
      "Epoch 1/5\n",
      "512/512 [==============================] - 55s - loss: 2.0956 - acc: 0.3262 - val_loss: 2.2144 - val_acc: 0.3921\n",
      "Epoch 2/5\n",
      "512/512 [==============================] - 56s - loss: 2.0439 - acc: 0.4570 - val_loss: 2.2322 - val_acc: 0.3004\n",
      "Epoch 00001: early stopping\n",
      "Training model 3 CNN\n",
      "Train on 512 samples, validate on 3828 samples\n",
      "Epoch 1/5\n",
      "512/512 [==============================] - 71s - loss: 27.5972 - acc: 0.4062 - val_loss: 19.1207 - val_acc: 0.2816\n",
      "Epoch 2/5\n",
      "512/512 [==============================] - 69s - loss: 13.0522 - acc: 0.5645 - val_loss: 9.3824 - val_acc: 0.2816\n",
      "Epoch 3/5\n",
      "512/512 [==============================] - 80s - loss: 6.4287 - acc: 0.6719 - val_loss: 5.7434 - val_acc: 0.2816\n",
      "Epoch 4/5\n",
      "512/512 [==============================] - 67s - loss: 4.0029 - acc: 0.6387 - val_loss: 4.3598 - val_acc: 0.2816\n",
      "Epoch 5/5\n",
      "512/512 [==============================] - 57s - loss: 3.0493 - acc: 0.6367 - val_loss: 3.6833 - val_acc: 0.2816\n",
      "Training model 4 CNN\n",
      "Train on 512 samples, validate on 3828 samples\n",
      "Epoch 1/5\n",
      "512/512 [==============================] - 61s - loss: 2.6729 - acc: 0.4512 - val_loss: 3.0561 - val_acc: 0.2960\n",
      "Epoch 2/5\n",
      "512/512 [==============================] - 59s - loss: 2.5570 - acc: 0.5840 - val_loss: 3.0967 - val_acc: 0.2719\n",
      "Epoch 00001: early stopping\n",
      "Training model 5 DeepConvLSTM\n",
      "Train on 512 samples, validate on 3828 samples\n",
      "Epoch 1/5\n",
      "512/512 [==============================] - 90s - loss: 1.8102 - acc: 0.3145 - val_loss: 1.6981 - val_acc: 0.4561\n",
      "Epoch 2/5\n",
      "512/512 [==============================] - 91s - loss: 1.6384 - acc: 0.4336 - val_loss: 1.5021 - val_acc: 0.4472\n",
      "Epoch 3/5\n",
      "512/512 [==============================] - 88s - loss: 1.4263 - acc: 0.5098 - val_loss: 1.3134 - val_acc: 0.4990\n",
      "Epoch 4/5\n",
      "512/512 [==============================] - 89s - loss: 1.2137 - acc: 0.6309 - val_loss: 1.1781 - val_acc: 0.6821\n",
      "Epoch 5/5\n",
      "512/512 [==============================] - 88s - loss: 1.1230 - acc: 0.6406 - val_loss: 1.2026 - val_acc: 0.6513\n",
      "Epoch 00004: early stopping\n",
      "Training model 6 DeepConvLSTM\n",
      "Train on 512 samples, validate on 3828 samples\n",
      "Epoch 1/5\n",
      "512/512 [==============================] - 144s - loss: 4.3292 - acc: 0.5586 - val_loss: 4.2669 - val_acc: 0.4457\n",
      "Epoch 2/5\n",
      "512/512 [==============================] - 154s - loss: 3.9474 - acc: 0.5918 - val_loss: 4.0945 - val_acc: 0.4532\n",
      "Epoch 3/5\n",
      "512/512 [==============================] - 290s - loss: 3.7408 - acc: 0.6328 - val_loss: 3.9680 - val_acc: 0.5261\n",
      "Epoch 4/5\n",
      "512/512 [==============================] - 167s - loss: 3.5744 - acc: 0.6562 - val_loss: 4.0027 - val_acc: 0.4532\n",
      "Epoch 00003: early stopping\n",
      "Training model 7 CNN\n",
      "Train on 512 samples, validate on 3828 samples\n",
      "Epoch 1/5\n",
      "512/512 [==============================] - 56s - loss: 3.7846 - acc: 0.4707 - val_loss: 4.0920 - val_acc: 0.3231\n",
      "Epoch 2/5\n",
      "512/512 [==============================] - 55s - loss: 3.4390 - acc: 0.6055 - val_loss: 4.0127 - val_acc: 0.2879\n",
      "Epoch 3/5\n",
      "512/512 [==============================] - 53s - loss: 3.2267 - acc: 0.6582 - val_loss: 3.9086 - val_acc: 0.1732\n",
      "Epoch 4/5\n",
      "512/512 [==============================] - 52s - loss: 3.0122 - acc: 0.6777 - val_loss: 3.8023 - val_acc: 0.0820\n",
      "Epoch 5/5\n",
      "512/512 [==============================] - 53s - loss: 2.8324 - acc: 0.7051 - val_loss: 3.6945 - val_acc: 0.0906\n",
      "Training model 8 CNN\n",
      "Train on 512 samples, validate on 3828 samples\n",
      "Epoch 1/5\n",
      "512/512 [==============================] - 58s - loss: 72.0861 - acc: 0.4102 - val_loss: 63.7358 - val_acc: 0.3890\n",
      "Epoch 2/5\n",
      "512/512 [==============================] - 53s - loss: 49.0344 - acc: 0.5898 - val_loss: 39.5717 - val_acc: 0.4506\n",
      "Epoch 3/5\n",
      "512/512 [==============================] - 55s - loss: 31.1848 - acc: 0.6016 - val_loss: 24.4045 - val_acc: 0.4728\n",
      "Epoch 4/5\n",
      "512/512 [==============================] - 54s - loss: 19.5490 - acc: 0.5957 - val_loss: 15.3002 - val_acc: 0.5410\n",
      "Epoch 5/5\n",
      "512/512 [==============================] - 75s - loss: 12.4222 - acc: 0.6152 - val_loss: 9.9011 - val_acc: 0.6006\n",
      "Training model 9 DeepConvLSTM\n",
      "Train on 512 samples, validate on 3828 samples\n",
      "Epoch 1/5\n",
      "512/512 [==============================] - 229s - loss: 2.7730 - acc: 0.5430 - val_loss: 3.3140 - val_acc: 0.2973\n",
      "Epoch 2/5\n",
      "512/512 [==============================] - 232s - loss: 2.4565 - acc: 0.6074 - val_loss: 3.4071 - val_acc: 0.2827\n",
      "Epoch 00001: early stopping\n",
      "Details of the training process were stored in  /media/sf_VBox_Shared/timeseries/actitiracker/WISDM_at_v2.0/models/modelcomparison.json\n"
     ]
    }
   ],
   "source": [
    "outputfile = os.path.join(result_path, 'modelcomparison.json')\n",
    "histories, val_accuracies, val_losses = find_architecture.train_models_on_samples(X_train, y_train,\n",
    "                                                                           X_val, y_val,\n",
    "                                                                           models,nr_epochs=5,\n",
    "                                                                           subset_size=512,\n",
    "                                                                           verbose=True,\n",
    "                                                                           batch_size=32,\n",
    "                                                                           outputfile=outputfile,\n",
    "                                                                           early_stopping=True)\n",
    "print('Details of the training process were stored in ',outputfile)"
   ]
  },
  {
   "cell_type": "code",
   "execution_count": null,
   "metadata": {
    "collapsed": true
   },
   "outputs": [],
   "source": []
  }
 ],
 "metadata": {
  "anaconda-cloud": {},
  "kernelspec": {
   "display_name": "Python [conda env:mcfly]",
   "language": "python",
   "name": "conda-env-mcfly-py"
  },
  "language_info": {
   "codemirror_mode": {
    "name": "ipython",
    "version": 3
   },
   "file_extension": ".py",
   "mimetype": "text/x-python",
   "name": "python",
   "nbconvert_exporter": "python",
   "pygments_lexer": "ipython3",
   "version": "3.5.2"
  }
 },
 "nbformat": 4,
 "nbformat_minor": 0
}
